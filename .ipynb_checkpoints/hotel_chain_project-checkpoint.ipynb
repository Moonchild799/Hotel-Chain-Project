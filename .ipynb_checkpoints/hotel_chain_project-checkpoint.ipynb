{
 "cells": [
  {
   "cell_type": "markdown",
   "metadata": {},
   "source": [
    "# Forecasting of customer churn in a hotel chain"
   ]
  },
  {
   "cell_type": "markdown",
   "metadata": {},
   "source": [
    "## Introduction\n",
    "\n",
    "The hotel chain added an opportunity of booking without prepayment. By using such system there is a risk of loss due to cancellations. We have a task to develop a system for predicting booking cancellations. If model forecasts a cancellation of the reservation, then this client will be asked to make a deposit in the amount of 80% of the cost.\n",
    "\n",
    "We have files with data, one of them is for training a model, the other - to test it. We'll study the data and if necessary do preposcessing. Before creating of a model, we'll do EDA and make some conclusions based on the EDA. After that we are going to create a ML model."
   ]
  },
  {
   "cell_type": "markdown",
   "metadata": {},
   "source": [
    "### Additional information\n",
    "\n",
    "There are several types of rooms in the hotel chain and depending on this there are different prices for one night. There is also cleaning costs. If the client rents a room for a long time, then cleaning performs every two days \n",
    "\n",
    "- category A: price per night — 1 000, one-time maintenance — 400;\n",
    "- category B: price per night — 800, one-time maintenance — 350;\n",
    "- category C: price per night — 600, one-time maintenance — 350;\n",
    "- category D: price per night — 550, one-time maintenance — 150;\n",
    "- category E: price per night — 500, one-time maintenance — 150;\n",
    "- category F: price per night — 450, one-time maintenance — 150;\n",
    "- category G: price per night — 350, one-time maintenance — 150.\n",
    "\n",
    "The hotel chain uses season coefficients:\n",
    "\n",
    "- Sprint, Autumn: prices increase by 20%\n",
    "- Summer: prices increase на 40%\n",
    "\n",
    "For losses in case of cancellation of the reservation we'll count cost of one-time maintenance and one night according to the season coefficient.\n",
    "\n",
    "A budget for development of the system is 400k. Implementation should pay off during the test period"
   ]
  },
  {
   "cell_type": "markdown",
   "metadata": {},
   "source": [
    "## Reading the files with data"
   ]
  },
  {
   "cell_type": "markdown",
   "metadata": {},
   "source": [
    "**Importing of necessary libraries**"
   ]
  },
  {
   "cell_type": "code",
   "execution_count": 1,
   "metadata": {},
   "outputs": [],
   "source": [
    "import pandas as pd\n",
    "import matplotlib.pyplot as plt\n",
    "import seaborn as sns\n",
    "import numpy as np\n",
    "\n",
    "from sklearn.model_selection import GridSearchCV\n",
    "from sklearn.preprocessing import StandardScaler, OrdinalEncoder \n",
    "\n",
    "from sklearn.linear_model import LogisticRegression \n",
    "from sklearn.tree import DecisionTreeClassifier\n",
    "from sklearn.ensemble import RandomForestClassifier\n",
    "\n",
    "from sklearn.metrics import accuracy_score, precision_score, recall_score, f1_score"
   ]
  },
  {
   "cell_type": "markdown",
   "metadata": {},
   "source": [
    "**Reading the files**"
   ]
  },
  {
   "cell_type": "code",
   "execution_count": 2,
   "metadata": {},
   "outputs": [],
   "source": [
    "hotels_train = pd.read_csv('hotel_train.csv')\n",
    "hotels_test = pd.read_csv('hotel_test.csv')"
   ]
  },
  {
   "cell_type": "markdown",
   "metadata": {},
   "source": [
    "**Basic information about datasets**"
   ]
  },
  {
   "cell_type": "code",
   "execution_count": 3,
   "metadata": {
    "scrolled": false
   },
   "outputs": [
    {
     "name": "stdout",
     "output_type": "stream",
     "text": [
      "<class 'pandas.core.frame.DataFrame'>\n",
      "RangeIndex: 65229 entries, 0 to 65228\n",
      "Data columns (total 25 columns):\n",
      " #   Column                          Non-Null Count  Dtype  \n",
      "---  ------                          --------------  -----  \n",
      " 0   id                              65229 non-null  int64  \n",
      " 1   is_canceled                     65229 non-null  int64  \n",
      " 2   lead_time                       65229 non-null  float64\n",
      " 3   arrival_date_year               65229 non-null  int64  \n",
      " 4   arrival_date_month              65229 non-null  object \n",
      " 5   arrival_date_week_number        65229 non-null  int64  \n",
      " 6   arrival_date_day_of_month       65229 non-null  int64  \n",
      " 7   stays_in_weekend_nights         65229 non-null  int64  \n",
      " 8   stays_in_week_nights            65229 non-null  int64  \n",
      " 9   adults                          65229 non-null  float64\n",
      " 10  children                        65229 non-null  float64\n",
      " 11  babies                          65229 non-null  float64\n",
      " 12  meal                            65229 non-null  object \n",
      " 13  country                         65229 non-null  object \n",
      " 14  distribution_channel            65229 non-null  object \n",
      " 15  is_repeated_guest               65229 non-null  int64  \n",
      " 16  previous_cancellations          65229 non-null  int64  \n",
      " 17  previous_bookings_not_canceled  65229 non-null  int64  \n",
      " 18  reserved_room_type              65229 non-null  object \n",
      " 19  booking_changes                 65229 non-null  int64  \n",
      " 20  days_in_waiting_list            65229 non-null  int64  \n",
      " 21  customer_type                   65229 non-null  object \n",
      " 22  required_car_parking_spaces     65229 non-null  int64  \n",
      " 23  total_of_special_requests       65229 non-null  int64  \n",
      " 24  total_nights                    65229 non-null  int64  \n",
      "dtypes: float64(4), int64(15), object(6)\n",
      "memory usage: 12.4+ MB\n",
      "<class 'pandas.core.frame.DataFrame'>\n",
      "RangeIndex: 32412 entries, 0 to 32411\n",
      "Data columns (total 25 columns):\n",
      " #   Column                          Non-Null Count  Dtype  \n",
      "---  ------                          --------------  -----  \n",
      " 0   id                              32412 non-null  int64  \n",
      " 1   is_canceled                     32412 non-null  int64  \n",
      " 2   lead_time                       32412 non-null  float64\n",
      " 3   arrival_date_year               32412 non-null  int64  \n",
      " 4   arrival_date_month              32412 non-null  object \n",
      " 5   arrival_date_week_number        32412 non-null  int64  \n",
      " 6   arrival_date_day_of_month       32412 non-null  int64  \n",
      " 7   stays_in_weekend_nights         32412 non-null  int64  \n",
      " 8   stays_in_week_nights            32412 non-null  int64  \n",
      " 9   adults                          32412 non-null  float64\n",
      " 10  children                        32412 non-null  float64\n",
      " 11  babies                          32412 non-null  float64\n",
      " 12  meal                            32412 non-null  object \n",
      " 13  country                         32412 non-null  object \n",
      " 14  distribution_channel            32412 non-null  object \n",
      " 15  is_repeated_guest               32412 non-null  int64  \n",
      " 16  previous_cancellations          32412 non-null  int64  \n",
      " 17  previous_bookings_not_canceled  32412 non-null  int64  \n",
      " 18  reserved_room_type              32412 non-null  object \n",
      " 19  booking_changes                 32412 non-null  int64  \n",
      " 20  days_in_waiting_list            32412 non-null  int64  \n",
      " 21  customer_type                   32412 non-null  object \n",
      " 22  required_car_parking_spaces     32412 non-null  int64  \n",
      " 23  total_of_special_requests       32412 non-null  int64  \n",
      " 24  total_nights                    32412 non-null  int64  \n",
      "dtypes: float64(4), int64(15), object(6)\n",
      "memory usage: 6.2+ MB\n"
     ]
    }
   ],
   "source": [
    "hotels_train.info()\n",
    "hotels_test.info()"
   ]
  },
  {
   "cell_type": "code",
   "execution_count": 4,
   "metadata": {
    "scrolled": false
   },
   "outputs": [
    {
     "data": {
      "text/html": [
       "<div>\n",
       "<style scoped>\n",
       "    .dataframe tbody tr th:only-of-type {\n",
       "        vertical-align: middle;\n",
       "    }\n",
       "\n",
       "    .dataframe tbody tr th {\n",
       "        vertical-align: top;\n",
       "    }\n",
       "\n",
       "    .dataframe thead th {\n",
       "        text-align: right;\n",
       "    }\n",
       "</style>\n",
       "<table border=\"1\" class=\"dataframe\">\n",
       "  <thead>\n",
       "    <tr style=\"text-align: right;\">\n",
       "      <th></th>\n",
       "      <th>id</th>\n",
       "      <th>is_canceled</th>\n",
       "      <th>lead_time</th>\n",
       "      <th>arrival_date_year</th>\n",
       "      <th>arrival_date_month</th>\n",
       "      <th>arrival_date_week_number</th>\n",
       "      <th>arrival_date_day_of_month</th>\n",
       "      <th>stays_in_weekend_nights</th>\n",
       "      <th>stays_in_week_nights</th>\n",
       "      <th>adults</th>\n",
       "      <th>children</th>\n",
       "      <th>babies</th>\n",
       "      <th>meal</th>\n",
       "      <th>country</th>\n",
       "      <th>distribution_channel</th>\n",
       "      <th>is_repeated_guest</th>\n",
       "      <th>previous_cancellations</th>\n",
       "      <th>previous_bookings_not_canceled</th>\n",
       "      <th>reserved_room_type</th>\n",
       "      <th>booking_changes</th>\n",
       "      <th>days_in_waiting_list</th>\n",
       "      <th>customer_type</th>\n",
       "      <th>required_car_parking_spaces</th>\n",
       "      <th>total_of_special_requests</th>\n",
       "      <th>total_nights</th>\n",
       "    </tr>\n",
       "  </thead>\n",
       "  <tbody>\n",
       "    <tr>\n",
       "      <th>0</th>\n",
       "      <td>0</td>\n",
       "      <td>0</td>\n",
       "      <td>7.0</td>\n",
       "      <td>2015</td>\n",
       "      <td>July</td>\n",
       "      <td>27</td>\n",
       "      <td>1</td>\n",
       "      <td>0</td>\n",
       "      <td>1</td>\n",
       "      <td>1.0</td>\n",
       "      <td>0.0</td>\n",
       "      <td>0.0</td>\n",
       "      <td>BB</td>\n",
       "      <td>GBR</td>\n",
       "      <td>Direct</td>\n",
       "      <td>0</td>\n",
       "      <td>0</td>\n",
       "      <td>0</td>\n",
       "      <td>A</td>\n",
       "      <td>0</td>\n",
       "      <td>0</td>\n",
       "      <td>Transient</td>\n",
       "      <td>0</td>\n",
       "      <td>0</td>\n",
       "      <td>1</td>\n",
       "    </tr>\n",
       "    <tr>\n",
       "      <th>1</th>\n",
       "      <td>1</td>\n",
       "      <td>0</td>\n",
       "      <td>14.0</td>\n",
       "      <td>2015</td>\n",
       "      <td>July</td>\n",
       "      <td>27</td>\n",
       "      <td>1</td>\n",
       "      <td>0</td>\n",
       "      <td>2</td>\n",
       "      <td>2.0</td>\n",
       "      <td>0.0</td>\n",
       "      <td>0.0</td>\n",
       "      <td>BB</td>\n",
       "      <td>GBR</td>\n",
       "      <td>TA/TO</td>\n",
       "      <td>0</td>\n",
       "      <td>0</td>\n",
       "      <td>0</td>\n",
       "      <td>A</td>\n",
       "      <td>0</td>\n",
       "      <td>0</td>\n",
       "      <td>Transient</td>\n",
       "      <td>0</td>\n",
       "      <td>1</td>\n",
       "      <td>2</td>\n",
       "    </tr>\n",
       "    <tr>\n",
       "      <th>2</th>\n",
       "      <td>2</td>\n",
       "      <td>0</td>\n",
       "      <td>0.0</td>\n",
       "      <td>2015</td>\n",
       "      <td>July</td>\n",
       "      <td>27</td>\n",
       "      <td>1</td>\n",
       "      <td>0</td>\n",
       "      <td>2</td>\n",
       "      <td>2.0</td>\n",
       "      <td>0.0</td>\n",
       "      <td>0.0</td>\n",
       "      <td>BB</td>\n",
       "      <td>PRT</td>\n",
       "      <td>Direct</td>\n",
       "      <td>0</td>\n",
       "      <td>0</td>\n",
       "      <td>0</td>\n",
       "      <td>C</td>\n",
       "      <td>0</td>\n",
       "      <td>0</td>\n",
       "      <td>Transient</td>\n",
       "      <td>0</td>\n",
       "      <td>0</td>\n",
       "      <td>2</td>\n",
       "    </tr>\n",
       "    <tr>\n",
       "      <th>3</th>\n",
       "      <td>3</td>\n",
       "      <td>0</td>\n",
       "      <td>9.0</td>\n",
       "      <td>2015</td>\n",
       "      <td>July</td>\n",
       "      <td>27</td>\n",
       "      <td>1</td>\n",
       "      <td>0</td>\n",
       "      <td>2</td>\n",
       "      <td>2.0</td>\n",
       "      <td>0.0</td>\n",
       "      <td>0.0</td>\n",
       "      <td>FB</td>\n",
       "      <td>PRT</td>\n",
       "      <td>Direct</td>\n",
       "      <td>0</td>\n",
       "      <td>0</td>\n",
       "      <td>0</td>\n",
       "      <td>C</td>\n",
       "      <td>0</td>\n",
       "      <td>0</td>\n",
       "      <td>Transient</td>\n",
       "      <td>0</td>\n",
       "      <td>1</td>\n",
       "      <td>2</td>\n",
       "    </tr>\n",
       "    <tr>\n",
       "      <th>4</th>\n",
       "      <td>4</td>\n",
       "      <td>1</td>\n",
       "      <td>85.0</td>\n",
       "      <td>2015</td>\n",
       "      <td>July</td>\n",
       "      <td>27</td>\n",
       "      <td>1</td>\n",
       "      <td>0</td>\n",
       "      <td>3</td>\n",
       "      <td>2.0</td>\n",
       "      <td>0.0</td>\n",
       "      <td>0.0</td>\n",
       "      <td>BB</td>\n",
       "      <td>PRT</td>\n",
       "      <td>TA/TO</td>\n",
       "      <td>0</td>\n",
       "      <td>0</td>\n",
       "      <td>0</td>\n",
       "      <td>A</td>\n",
       "      <td>0</td>\n",
       "      <td>0</td>\n",
       "      <td>Transient</td>\n",
       "      <td>0</td>\n",
       "      <td>1</td>\n",
       "      <td>3</td>\n",
       "    </tr>\n",
       "    <tr>\n",
       "      <th>5</th>\n",
       "      <td>5</td>\n",
       "      <td>1</td>\n",
       "      <td>75.0</td>\n",
       "      <td>2015</td>\n",
       "      <td>July</td>\n",
       "      <td>27</td>\n",
       "      <td>1</td>\n",
       "      <td>0</td>\n",
       "      <td>3</td>\n",
       "      <td>2.0</td>\n",
       "      <td>0.0</td>\n",
       "      <td>0.0</td>\n",
       "      <td>HB</td>\n",
       "      <td>PRT</td>\n",
       "      <td>TA/TO</td>\n",
       "      <td>0</td>\n",
       "      <td>0</td>\n",
       "      <td>0</td>\n",
       "      <td>D</td>\n",
       "      <td>0</td>\n",
       "      <td>0</td>\n",
       "      <td>Transient</td>\n",
       "      <td>0</td>\n",
       "      <td>0</td>\n",
       "      <td>3</td>\n",
       "    </tr>\n",
       "    <tr>\n",
       "      <th>6</th>\n",
       "      <td>6</td>\n",
       "      <td>1</td>\n",
       "      <td>23.0</td>\n",
       "      <td>2015</td>\n",
       "      <td>July</td>\n",
       "      <td>27</td>\n",
       "      <td>1</td>\n",
       "      <td>0</td>\n",
       "      <td>4</td>\n",
       "      <td>2.0</td>\n",
       "      <td>0.0</td>\n",
       "      <td>0.0</td>\n",
       "      <td>BB</td>\n",
       "      <td>PRT</td>\n",
       "      <td>TA/TO</td>\n",
       "      <td>0</td>\n",
       "      <td>0</td>\n",
       "      <td>0</td>\n",
       "      <td>E</td>\n",
       "      <td>0</td>\n",
       "      <td>0</td>\n",
       "      <td>Transient</td>\n",
       "      <td>0</td>\n",
       "      <td>0</td>\n",
       "      <td>4</td>\n",
       "    </tr>\n",
       "    <tr>\n",
       "      <th>7</th>\n",
       "      <td>7</td>\n",
       "      <td>0</td>\n",
       "      <td>18.0</td>\n",
       "      <td>2015</td>\n",
       "      <td>July</td>\n",
       "      <td>27</td>\n",
       "      <td>1</td>\n",
       "      <td>0</td>\n",
       "      <td>4</td>\n",
       "      <td>2.0</td>\n",
       "      <td>1.0</td>\n",
       "      <td>0.0</td>\n",
       "      <td>HB</td>\n",
       "      <td>ESP</td>\n",
       "      <td>TA/TO</td>\n",
       "      <td>0</td>\n",
       "      <td>0</td>\n",
       "      <td>0</td>\n",
       "      <td>G</td>\n",
       "      <td>1</td>\n",
       "      <td>0</td>\n",
       "      <td>Transient</td>\n",
       "      <td>0</td>\n",
       "      <td>1</td>\n",
       "      <td>4</td>\n",
       "    </tr>\n",
       "    <tr>\n",
       "      <th>8</th>\n",
       "      <td>8</td>\n",
       "      <td>0</td>\n",
       "      <td>68.0</td>\n",
       "      <td>2015</td>\n",
       "      <td>July</td>\n",
       "      <td>27</td>\n",
       "      <td>1</td>\n",
       "      <td>0</td>\n",
       "      <td>4</td>\n",
       "      <td>2.0</td>\n",
       "      <td>0.0</td>\n",
       "      <td>0.0</td>\n",
       "      <td>BB</td>\n",
       "      <td>IRL</td>\n",
       "      <td>TA/TO</td>\n",
       "      <td>0</td>\n",
       "      <td>0</td>\n",
       "      <td>0</td>\n",
       "      <td>D</td>\n",
       "      <td>0</td>\n",
       "      <td>0</td>\n",
       "      <td>Transient</td>\n",
       "      <td>0</td>\n",
       "      <td>3</td>\n",
       "      <td>4</td>\n",
       "    </tr>\n",
       "    <tr>\n",
       "      <th>9</th>\n",
       "      <td>9</td>\n",
       "      <td>0</td>\n",
       "      <td>37.0</td>\n",
       "      <td>2015</td>\n",
       "      <td>July</td>\n",
       "      <td>27</td>\n",
       "      <td>1</td>\n",
       "      <td>0</td>\n",
       "      <td>4</td>\n",
       "      <td>2.0</td>\n",
       "      <td>0.0</td>\n",
       "      <td>0.0</td>\n",
       "      <td>BB</td>\n",
       "      <td>PRT</td>\n",
       "      <td>TA/TO</td>\n",
       "      <td>0</td>\n",
       "      <td>0</td>\n",
       "      <td>0</td>\n",
       "      <td>E</td>\n",
       "      <td>0</td>\n",
       "      <td>0</td>\n",
       "      <td>Contract</td>\n",
       "      <td>0</td>\n",
       "      <td>0</td>\n",
       "      <td>4</td>\n",
       "    </tr>\n",
       "  </tbody>\n",
       "</table>\n",
       "</div>"
      ],
      "text/plain": [
       "   id  is_canceled  lead_time  arrival_date_year arrival_date_month  \\\n",
       "0   0            0        7.0               2015               July   \n",
       "1   1            0       14.0               2015               July   \n",
       "2   2            0        0.0               2015               July   \n",
       "3   3            0        9.0               2015               July   \n",
       "4   4            1       85.0               2015               July   \n",
       "5   5            1       75.0               2015               July   \n",
       "6   6            1       23.0               2015               July   \n",
       "7   7            0       18.0               2015               July   \n",
       "8   8            0       68.0               2015               July   \n",
       "9   9            0       37.0               2015               July   \n",
       "\n",
       "   arrival_date_week_number  arrival_date_day_of_month  \\\n",
       "0                        27                          1   \n",
       "1                        27                          1   \n",
       "2                        27                          1   \n",
       "3                        27                          1   \n",
       "4                        27                          1   \n",
       "5                        27                          1   \n",
       "6                        27                          1   \n",
       "7                        27                          1   \n",
       "8                        27                          1   \n",
       "9                        27                          1   \n",
       "\n",
       "   stays_in_weekend_nights  stays_in_week_nights  adults  children  babies  \\\n",
       "0                        0                     1     1.0       0.0     0.0   \n",
       "1                        0                     2     2.0       0.0     0.0   \n",
       "2                        0                     2     2.0       0.0     0.0   \n",
       "3                        0                     2     2.0       0.0     0.0   \n",
       "4                        0                     3     2.0       0.0     0.0   \n",
       "5                        0                     3     2.0       0.0     0.0   \n",
       "6                        0                     4     2.0       0.0     0.0   \n",
       "7                        0                     4     2.0       1.0     0.0   \n",
       "8                        0                     4     2.0       0.0     0.0   \n",
       "9                        0                     4     2.0       0.0     0.0   \n",
       "\n",
       "        meal country distribution_channel  is_repeated_guest  \\\n",
       "0  BB            GBR               Direct                  0   \n",
       "1  BB            GBR                TA/TO                  0   \n",
       "2  BB            PRT               Direct                  0   \n",
       "3  FB            PRT               Direct                  0   \n",
       "4  BB            PRT                TA/TO                  0   \n",
       "5  HB            PRT                TA/TO                  0   \n",
       "6  BB            PRT                TA/TO                  0   \n",
       "7  HB            ESP                TA/TO                  0   \n",
       "8  BB            IRL                TA/TO                  0   \n",
       "9  BB            PRT                TA/TO                  0   \n",
       "\n",
       "   previous_cancellations  previous_bookings_not_canceled reserved_room_type  \\\n",
       "0                       0                               0   A                  \n",
       "1                       0                               0   A                  \n",
       "2                       0                               0   C                  \n",
       "3                       0                               0   C                  \n",
       "4                       0                               0   A                  \n",
       "5                       0                               0   D                  \n",
       "6                       0                               0   E                  \n",
       "7                       0                               0   G                  \n",
       "8                       0                               0   D                  \n",
       "9                       0                               0   E                  \n",
       "\n",
       "   booking_changes  days_in_waiting_list customer_type  \\\n",
       "0                0                     0     Transient   \n",
       "1                0                     0     Transient   \n",
       "2                0                     0     Transient   \n",
       "3                0                     0     Transient   \n",
       "4                0                     0     Transient   \n",
       "5                0                     0     Transient   \n",
       "6                0                     0     Transient   \n",
       "7                1                     0     Transient   \n",
       "8                0                     0     Transient   \n",
       "9                0                     0      Contract   \n",
       "\n",
       "   required_car_parking_spaces  total_of_special_requests  total_nights  \n",
       "0                            0                          0             1  \n",
       "1                            0                          1             2  \n",
       "2                            0                          0             2  \n",
       "3                            0                          1             2  \n",
       "4                            0                          1             3  \n",
       "5                            0                          0             3  \n",
       "6                            0                          0             4  \n",
       "7                            0                          1             4  \n",
       "8                            0                          3             4  \n",
       "9                            0                          0             4  "
      ]
     },
     "metadata": {},
     "output_type": "display_data"
    },
    {
     "data": {
      "text/html": [
       "<div>\n",
       "<style scoped>\n",
       "    .dataframe tbody tr th:only-of-type {\n",
       "        vertical-align: middle;\n",
       "    }\n",
       "\n",
       "    .dataframe tbody tr th {\n",
       "        vertical-align: top;\n",
       "    }\n",
       "\n",
       "    .dataframe thead th {\n",
       "        text-align: right;\n",
       "    }\n",
       "</style>\n",
       "<table border=\"1\" class=\"dataframe\">\n",
       "  <thead>\n",
       "    <tr style=\"text-align: right;\">\n",
       "      <th></th>\n",
       "      <th>id</th>\n",
       "      <th>is_canceled</th>\n",
       "      <th>lead_time</th>\n",
       "      <th>arrival_date_year</th>\n",
       "      <th>arrival_date_month</th>\n",
       "      <th>arrival_date_week_number</th>\n",
       "      <th>arrival_date_day_of_month</th>\n",
       "      <th>stays_in_weekend_nights</th>\n",
       "      <th>stays_in_week_nights</th>\n",
       "      <th>adults</th>\n",
       "      <th>children</th>\n",
       "      <th>babies</th>\n",
       "      <th>meal</th>\n",
       "      <th>country</th>\n",
       "      <th>distribution_channel</th>\n",
       "      <th>is_repeated_guest</th>\n",
       "      <th>previous_cancellations</th>\n",
       "      <th>previous_bookings_not_canceled</th>\n",
       "      <th>reserved_room_type</th>\n",
       "      <th>booking_changes</th>\n",
       "      <th>days_in_waiting_list</th>\n",
       "      <th>customer_type</th>\n",
       "      <th>required_car_parking_spaces</th>\n",
       "      <th>total_of_special_requests</th>\n",
       "      <th>total_nights</th>\n",
       "    </tr>\n",
       "  </thead>\n",
       "  <tbody>\n",
       "    <tr>\n",
       "      <th>0</th>\n",
       "      <td>6086</td>\n",
       "      <td>1</td>\n",
       "      <td>74.0</td>\n",
       "      <td>2017</td>\n",
       "      <td>January</td>\n",
       "      <td>1</td>\n",
       "      <td>1</td>\n",
       "      <td>1</td>\n",
       "      <td>0</td>\n",
       "      <td>2.0</td>\n",
       "      <td>0.0</td>\n",
       "      <td>0.0</td>\n",
       "      <td>BB</td>\n",
       "      <td>PRT</td>\n",
       "      <td>TA/TO</td>\n",
       "      <td>0</td>\n",
       "      <td>0</td>\n",
       "      <td>0</td>\n",
       "      <td>A</td>\n",
       "      <td>0</td>\n",
       "      <td>0</td>\n",
       "      <td>Transient</td>\n",
       "      <td>0</td>\n",
       "      <td>0</td>\n",
       "      <td>1</td>\n",
       "    </tr>\n",
       "    <tr>\n",
       "      <th>1</th>\n",
       "      <td>6087</td>\n",
       "      <td>1</td>\n",
       "      <td>62.0</td>\n",
       "      <td>2017</td>\n",
       "      <td>January</td>\n",
       "      <td>1</td>\n",
       "      <td>1</td>\n",
       "      <td>2</td>\n",
       "      <td>2</td>\n",
       "      <td>2.0</td>\n",
       "      <td>0.0</td>\n",
       "      <td>0.0</td>\n",
       "      <td>BB</td>\n",
       "      <td>AUT</td>\n",
       "      <td>TA/TO</td>\n",
       "      <td>0</td>\n",
       "      <td>0</td>\n",
       "      <td>0</td>\n",
       "      <td>A</td>\n",
       "      <td>0</td>\n",
       "      <td>0</td>\n",
       "      <td>Transient</td>\n",
       "      <td>0</td>\n",
       "      <td>1</td>\n",
       "      <td>4</td>\n",
       "    </tr>\n",
       "    <tr>\n",
       "      <th>2</th>\n",
       "      <td>6088</td>\n",
       "      <td>1</td>\n",
       "      <td>62.0</td>\n",
       "      <td>2017</td>\n",
       "      <td>January</td>\n",
       "      <td>1</td>\n",
       "      <td>1</td>\n",
       "      <td>2</td>\n",
       "      <td>2</td>\n",
       "      <td>2.0</td>\n",
       "      <td>0.0</td>\n",
       "      <td>0.0</td>\n",
       "      <td>BB</td>\n",
       "      <td>AUT</td>\n",
       "      <td>TA/TO</td>\n",
       "      <td>0</td>\n",
       "      <td>0</td>\n",
       "      <td>0</td>\n",
       "      <td>A</td>\n",
       "      <td>0</td>\n",
       "      <td>0</td>\n",
       "      <td>Transient</td>\n",
       "      <td>0</td>\n",
       "      <td>1</td>\n",
       "      <td>4</td>\n",
       "    </tr>\n",
       "    <tr>\n",
       "      <th>3</th>\n",
       "      <td>6089</td>\n",
       "      <td>1</td>\n",
       "      <td>71.0</td>\n",
       "      <td>2017</td>\n",
       "      <td>January</td>\n",
       "      <td>1</td>\n",
       "      <td>1</td>\n",
       "      <td>2</td>\n",
       "      <td>2</td>\n",
       "      <td>1.0</td>\n",
       "      <td>0.0</td>\n",
       "      <td>0.0</td>\n",
       "      <td>BB</td>\n",
       "      <td>PRT</td>\n",
       "      <td>TA/TO</td>\n",
       "      <td>0</td>\n",
       "      <td>0</td>\n",
       "      <td>0</td>\n",
       "      <td>A</td>\n",
       "      <td>0</td>\n",
       "      <td>0</td>\n",
       "      <td>Transient</td>\n",
       "      <td>0</td>\n",
       "      <td>1</td>\n",
       "      <td>4</td>\n",
       "    </tr>\n",
       "    <tr>\n",
       "      <th>4</th>\n",
       "      <td>6090</td>\n",
       "      <td>1</td>\n",
       "      <td>172.0</td>\n",
       "      <td>2017</td>\n",
       "      <td>January</td>\n",
       "      <td>1</td>\n",
       "      <td>1</td>\n",
       "      <td>2</td>\n",
       "      <td>5</td>\n",
       "      <td>2.0</td>\n",
       "      <td>0.0</td>\n",
       "      <td>0.0</td>\n",
       "      <td>BB</td>\n",
       "      <td>BEL</td>\n",
       "      <td>TA/TO</td>\n",
       "      <td>0</td>\n",
       "      <td>0</td>\n",
       "      <td>0</td>\n",
       "      <td>A</td>\n",
       "      <td>0</td>\n",
       "      <td>0</td>\n",
       "      <td>Transient</td>\n",
       "      <td>0</td>\n",
       "      <td>0</td>\n",
       "      <td>7</td>\n",
       "    </tr>\n",
       "    <tr>\n",
       "      <th>5</th>\n",
       "      <td>6091</td>\n",
       "      <td>1</td>\n",
       "      <td>52.0</td>\n",
       "      <td>2017</td>\n",
       "      <td>January</td>\n",
       "      <td>1</td>\n",
       "      <td>1</td>\n",
       "      <td>2</td>\n",
       "      <td>5</td>\n",
       "      <td>1.0</td>\n",
       "      <td>0.0</td>\n",
       "      <td>0.0</td>\n",
       "      <td>BB</td>\n",
       "      <td>DEU</td>\n",
       "      <td>TA/TO</td>\n",
       "      <td>0</td>\n",
       "      <td>0</td>\n",
       "      <td>0</td>\n",
       "      <td>A</td>\n",
       "      <td>0</td>\n",
       "      <td>0</td>\n",
       "      <td>Transient</td>\n",
       "      <td>0</td>\n",
       "      <td>0</td>\n",
       "      <td>7</td>\n",
       "    </tr>\n",
       "    <tr>\n",
       "      <th>6</th>\n",
       "      <td>6092</td>\n",
       "      <td>1</td>\n",
       "      <td>143.0</td>\n",
       "      <td>2017</td>\n",
       "      <td>January</td>\n",
       "      <td>1</td>\n",
       "      <td>2</td>\n",
       "      <td>1</td>\n",
       "      <td>1</td>\n",
       "      <td>2.0</td>\n",
       "      <td>0.0</td>\n",
       "      <td>0.0</td>\n",
       "      <td>BB</td>\n",
       "      <td>BRA</td>\n",
       "      <td>Direct</td>\n",
       "      <td>0</td>\n",
       "      <td>0</td>\n",
       "      <td>0</td>\n",
       "      <td>A</td>\n",
       "      <td>1</td>\n",
       "      <td>0</td>\n",
       "      <td>Transient</td>\n",
       "      <td>0</td>\n",
       "      <td>1</td>\n",
       "      <td>2</td>\n",
       "    </tr>\n",
       "    <tr>\n",
       "      <th>7</th>\n",
       "      <td>6093</td>\n",
       "      <td>1</td>\n",
       "      <td>21.0</td>\n",
       "      <td>2017</td>\n",
       "      <td>January</td>\n",
       "      <td>1</td>\n",
       "      <td>2</td>\n",
       "      <td>1</td>\n",
       "      <td>3</td>\n",
       "      <td>2.0</td>\n",
       "      <td>0.0</td>\n",
       "      <td>0.0</td>\n",
       "      <td>BB</td>\n",
       "      <td>BRA</td>\n",
       "      <td>TA/TO</td>\n",
       "      <td>0</td>\n",
       "      <td>0</td>\n",
       "      <td>0</td>\n",
       "      <td>A</td>\n",
       "      <td>0</td>\n",
       "      <td>0</td>\n",
       "      <td>Transient</td>\n",
       "      <td>0</td>\n",
       "      <td>1</td>\n",
       "      <td>4</td>\n",
       "    </tr>\n",
       "    <tr>\n",
       "      <th>8</th>\n",
       "      <td>6094</td>\n",
       "      <td>1</td>\n",
       "      <td>89.0</td>\n",
       "      <td>2017</td>\n",
       "      <td>January</td>\n",
       "      <td>1</td>\n",
       "      <td>2</td>\n",
       "      <td>1</td>\n",
       "      <td>3</td>\n",
       "      <td>2.0</td>\n",
       "      <td>0.0</td>\n",
       "      <td>0.0</td>\n",
       "      <td>BB</td>\n",
       "      <td>GBR</td>\n",
       "      <td>TA/TO</td>\n",
       "      <td>0</td>\n",
       "      <td>0</td>\n",
       "      <td>0</td>\n",
       "      <td>E</td>\n",
       "      <td>0</td>\n",
       "      <td>0</td>\n",
       "      <td>Transient</td>\n",
       "      <td>0</td>\n",
       "      <td>0</td>\n",
       "      <td>4</td>\n",
       "    </tr>\n",
       "    <tr>\n",
       "      <th>9</th>\n",
       "      <td>6095</td>\n",
       "      <td>1</td>\n",
       "      <td>48.0</td>\n",
       "      <td>2017</td>\n",
       "      <td>January</td>\n",
       "      <td>1</td>\n",
       "      <td>2</td>\n",
       "      <td>1</td>\n",
       "      <td>4</td>\n",
       "      <td>2.0</td>\n",
       "      <td>0.0</td>\n",
       "      <td>0.0</td>\n",
       "      <td>BB</td>\n",
       "      <td>PRT</td>\n",
       "      <td>Direct</td>\n",
       "      <td>0</td>\n",
       "      <td>0</td>\n",
       "      <td>0</td>\n",
       "      <td>A</td>\n",
       "      <td>1</td>\n",
       "      <td>0</td>\n",
       "      <td>Transient</td>\n",
       "      <td>0</td>\n",
       "      <td>2</td>\n",
       "      <td>5</td>\n",
       "    </tr>\n",
       "  </tbody>\n",
       "</table>\n",
       "</div>"
      ],
      "text/plain": [
       "     id  is_canceled  lead_time  arrival_date_year arrival_date_month  \\\n",
       "0  6086            1       74.0               2017            January   \n",
       "1  6087            1       62.0               2017            January   \n",
       "2  6088            1       62.0               2017            January   \n",
       "3  6089            1       71.0               2017            January   \n",
       "4  6090            1      172.0               2017            January   \n",
       "5  6091            1       52.0               2017            January   \n",
       "6  6092            1      143.0               2017            January   \n",
       "7  6093            1       21.0               2017            January   \n",
       "8  6094            1       89.0               2017            January   \n",
       "9  6095            1       48.0               2017            January   \n",
       "\n",
       "   arrival_date_week_number  arrival_date_day_of_month  \\\n",
       "0                         1                          1   \n",
       "1                         1                          1   \n",
       "2                         1                          1   \n",
       "3                         1                          1   \n",
       "4                         1                          1   \n",
       "5                         1                          1   \n",
       "6                         1                          2   \n",
       "7                         1                          2   \n",
       "8                         1                          2   \n",
       "9                         1                          2   \n",
       "\n",
       "   stays_in_weekend_nights  stays_in_week_nights  adults  children  babies  \\\n",
       "0                        1                     0     2.0       0.0     0.0   \n",
       "1                        2                     2     2.0       0.0     0.0   \n",
       "2                        2                     2     2.0       0.0     0.0   \n",
       "3                        2                     2     1.0       0.0     0.0   \n",
       "4                        2                     5     2.0       0.0     0.0   \n",
       "5                        2                     5     1.0       0.0     0.0   \n",
       "6                        1                     1     2.0       0.0     0.0   \n",
       "7                        1                     3     2.0       0.0     0.0   \n",
       "8                        1                     3     2.0       0.0     0.0   \n",
       "9                        1                     4     2.0       0.0     0.0   \n",
       "\n",
       "        meal country distribution_channel  is_repeated_guest  \\\n",
       "0  BB            PRT                TA/TO                  0   \n",
       "1  BB            AUT                TA/TO                  0   \n",
       "2  BB            AUT                TA/TO                  0   \n",
       "3  BB            PRT                TA/TO                  0   \n",
       "4  BB            BEL                TA/TO                  0   \n",
       "5  BB            DEU                TA/TO                  0   \n",
       "6  BB            BRA               Direct                  0   \n",
       "7  BB            BRA                TA/TO                  0   \n",
       "8  BB            GBR                TA/TO                  0   \n",
       "9  BB            PRT               Direct                  0   \n",
       "\n",
       "   previous_cancellations  previous_bookings_not_canceled reserved_room_type  \\\n",
       "0                       0                               0   A                  \n",
       "1                       0                               0   A                  \n",
       "2                       0                               0   A                  \n",
       "3                       0                               0   A                  \n",
       "4                       0                               0   A                  \n",
       "5                       0                               0   A                  \n",
       "6                       0                               0   A                  \n",
       "7                       0                               0   A                  \n",
       "8                       0                               0   E                  \n",
       "9                       0                               0   A                  \n",
       "\n",
       "   booking_changes  days_in_waiting_list customer_type  \\\n",
       "0                0                     0     Transient   \n",
       "1                0                     0     Transient   \n",
       "2                0                     0     Transient   \n",
       "3                0                     0     Transient   \n",
       "4                0                     0     Transient   \n",
       "5                0                     0     Transient   \n",
       "6                1                     0     Transient   \n",
       "7                0                     0     Transient   \n",
       "8                0                     0     Transient   \n",
       "9                1                     0     Transient   \n",
       "\n",
       "   required_car_parking_spaces  total_of_special_requests  total_nights  \n",
       "0                            0                          0             1  \n",
       "1                            0                          1             4  \n",
       "2                            0                          1             4  \n",
       "3                            0                          1             4  \n",
       "4                            0                          0             7  \n",
       "5                            0                          0             7  \n",
       "6                            0                          1             2  \n",
       "7                            0                          1             4  \n",
       "8                            0                          0             4  \n",
       "9                            0                          2             5  "
      ]
     },
     "metadata": {},
     "output_type": "display_data"
    }
   ],
   "source": [
    "pd.set_option('display.max_columns', 50)\n",
    "display(hotels_train.head(10))\n",
    "display(hotels_test.head(10))"
   ]
  },
  {
   "cell_type": "markdown",
   "metadata": {},
   "source": [
    "- Both datasets have 25 columns. Training data has 65229 strings, test data - 32412 strings.\n",
    "- Columns `lead_time`, `adults`, `children`, `babies` have to be in integer format, here we have float type. During prepocessing we'll look into it.\n",
    "\n",
    "Checked the basic information the datasets contain, now we have start doing preprocessing and EDA."
   ]
  },
  {
   "cell_type": "markdown",
   "metadata": {},
   "source": [
    "## Preprocessing and Exploratory Data Analysis"
   ]
  },
  {
   "cell_type": "markdown",
   "metadata": {},
   "source": [
    "### Missed data\n",
    "\n",
    "Take a look if there is missed data."
   ]
  },
  {
   "cell_type": "code",
   "execution_count": 5,
   "metadata": {
    "scrolled": false
   },
   "outputs": [
    {
     "data": {
      "text/plain": [
       "id                                0\n",
       "is_canceled                       0\n",
       "lead_time                         0\n",
       "arrival_date_year                 0\n",
       "arrival_date_month                0\n",
       "arrival_date_week_number          0\n",
       "arrival_date_day_of_month         0\n",
       "stays_in_weekend_nights           0\n",
       "stays_in_week_nights              0\n",
       "adults                            0\n",
       "children                          0\n",
       "babies                            0\n",
       "meal                              0\n",
       "country                           0\n",
       "distribution_channel              0\n",
       "is_repeated_guest                 0\n",
       "previous_cancellations            0\n",
       "previous_bookings_not_canceled    0\n",
       "reserved_room_type                0\n",
       "booking_changes                   0\n",
       "days_in_waiting_list              0\n",
       "customer_type                     0\n",
       "required_car_parking_spaces       0\n",
       "total_of_special_requests         0\n",
       "total_nights                      0\n",
       "dtype: int64"
      ]
     },
     "execution_count": 5,
     "metadata": {},
     "output_type": "execute_result"
    }
   ],
   "source": [
    "hotels_train.isna().sum()"
   ]
  },
  {
   "cell_type": "code",
   "execution_count": 6,
   "metadata": {
    "scrolled": false
   },
   "outputs": [
    {
     "data": {
      "text/plain": [
       "id                                0\n",
       "is_canceled                       0\n",
       "lead_time                         0\n",
       "arrival_date_year                 0\n",
       "arrival_date_month                0\n",
       "arrival_date_week_number          0\n",
       "arrival_date_day_of_month         0\n",
       "stays_in_weekend_nights           0\n",
       "stays_in_week_nights              0\n",
       "adults                            0\n",
       "children                          0\n",
       "babies                            0\n",
       "meal                              0\n",
       "country                           0\n",
       "distribution_channel              0\n",
       "is_repeated_guest                 0\n",
       "previous_cancellations            0\n",
       "previous_bookings_not_canceled    0\n",
       "reserved_room_type                0\n",
       "booking_changes                   0\n",
       "days_in_waiting_list              0\n",
       "customer_type                     0\n",
       "required_car_parking_spaces       0\n",
       "total_of_special_requests         0\n",
       "total_nights                      0\n",
       "dtype: int64"
      ]
     },
     "execution_count": 6,
     "metadata": {},
     "output_type": "execute_result"
    }
   ],
   "source": [
    "hotels_test.isna().sum()"
   ]
  },
  {
   "cell_type": "markdown",
   "metadata": {},
   "source": [
    "No missed data. Let's check for duplicate values."
   ]
  },
  {
   "cell_type": "markdown",
   "metadata": {},
   "source": [
    "### Duplicate values"
   ]
  },
  {
   "cell_type": "markdown",
   "metadata": {},
   "source": [
    "#### Explicit duplicate values"
   ]
  },
  {
   "cell_type": "code",
   "execution_count": 7,
   "metadata": {},
   "outputs": [
    {
     "data": {
      "text/plain": [
       "0"
      ]
     },
     "execution_count": 7,
     "metadata": {},
     "output_type": "execute_result"
    }
   ],
   "source": [
    "hotels_train.duplicated().sum()"
   ]
  },
  {
   "cell_type": "code",
   "execution_count": 8,
   "metadata": {},
   "outputs": [
    {
     "data": {
      "text/plain": [
       "0"
      ]
     },
     "execution_count": 8,
     "metadata": {},
     "output_type": "execute_result"
    }
   ],
   "source": [
    "hotels_test.duplicated().sum()"
   ]
  },
  {
   "cell_type": "markdown",
   "metadata": {},
   "source": [
    "There are no explicit duplicate values."
   ]
  },
  {
   "cell_type": "markdown",
   "metadata": {},
   "source": [
    "#### Implicit duplicate values\n",
    "\n",
    "Now we are going to check columns that potentialy can contain implicit duplicate values: `arrival_date_month`, `meal`, `country`, `distribution_channel`, `reserved_room_type`, `customer_type`\n"
   ]
  },
  {
   "cell_type": "code",
   "execution_count": 9,
   "metadata": {},
   "outputs": [
    {
     "data": {
      "text/plain": [
       "array(['July', 'August', 'September', 'October', 'November', 'December',\n",
       "       'January', 'February', 'March', 'April', 'May', 'June'],\n",
       "      dtype=object)"
      ]
     },
     "metadata": {},
     "output_type": "display_data"
    },
    {
     "data": {
      "text/plain": [
       "array(['January', 'February', 'March', 'April', 'May', 'June', 'July',\n",
       "       'August'], dtype=object)"
      ]
     },
     "metadata": {},
     "output_type": "display_data"
    }
   ],
   "source": [
    "display(hotels_train['arrival_date_month'].unique())\n",
    "display(hotels_test['arrival_date_month'].unique())"
   ]
  },
  {
   "cell_type": "markdown",
   "metadata": {},
   "source": [
    "Column `arrival_date_month` contains correct values."
   ]
  },
  {
   "cell_type": "code",
   "execution_count": 10,
   "metadata": {},
   "outputs": [
    {
     "data": {
      "text/plain": [
       "array(['BB       ', 'FB       ', 'HB       ', 'SC       ', 'SC'],\n",
       "      dtype=object)"
      ]
     },
     "metadata": {},
     "output_type": "display_data"
    },
    {
     "data": {
      "text/plain": [
       "array(['BB       ', 'HB       ', 'SC', 'FB       ', 'SC       '],\n",
       "      dtype=object)"
      ]
     },
     "metadata": {},
     "output_type": "display_data"
    }
   ],
   "source": [
    "display(hotels_train['meal'].unique())\n",
    "display(hotels_test['meal'].unique())"
   ]
  },
  {
   "cell_type": "markdown",
   "metadata": {},
   "source": [
    "Column `meal` has implicit duplicate values, also there are some extra spaces. We'll revome these extra spaces."
   ]
  },
  {
   "cell_type": "code",
   "execution_count": 11,
   "metadata": {},
   "outputs": [],
   "source": [
    "hotels_train['meal'] = hotels_train['meal'].str.strip()\n",
    "hotels_test['meal'] = hotels_test['meal'].str.strip()"
   ]
  },
  {
   "cell_type": "code",
   "execution_count": 12,
   "metadata": {},
   "outputs": [
    {
     "data": {
      "text/plain": [
       "array(['BB', 'FB', 'HB', 'SC'], dtype=object)"
      ]
     },
     "metadata": {},
     "output_type": "display_data"
    },
    {
     "data": {
      "text/plain": [
       "array(['BB', 'HB', 'SC', 'FB'], dtype=object)"
      ]
     },
     "metadata": {},
     "output_type": "display_data"
    }
   ],
   "source": [
    "display(hotels_train['meal'].unique())\n",
    "display(hotels_test['meal'].unique())"
   ]
  },
  {
   "cell_type": "markdown",
   "metadata": {},
   "source": [
    "After removing of extra spaces, we've got rid off implicit duplicate values."
   ]
  },
  {
   "cell_type": "code",
   "execution_count": 13,
   "metadata": {},
   "outputs": [
    {
     "data": {
      "text/plain": [
       "array(['GBR', 'PRT', 'ESP', 'IRL', 'FRA', 'ROU', 'NOR', 'USA', 'DEU',\n",
       "       'BEL', 'CHE', 'CN', 'GRC', 'NLD', 'ARG', 'RUS', 'SWE', 'POL',\n",
       "       'EST', 'CZE', 'ITA', 'FIN', 'DNK', 'MOZ', 'BWA', 'LUX', 'BRA',\n",
       "       'SVN', 'ALB', 'CHN', 'MEX', 'MAR', 'SMR', 'LVA', 'CHL', 'AUT',\n",
       "       'LTU', 'TUR', 'ISR', 'IND', 'CYM', 'AUS', 'CPV', 'ZWE', 'DZA',\n",
       "       'KOR', 'CRI', 'HUN', 'TUN', 'ARE', 'HRV', 'HKG', 'IRN', 'GIB',\n",
       "       'JEY', 'URY', 'ZAF', 'COL', 'GGY', 'KWT', 'CYP', 'KAZ', 'THA',\n",
       "       'DOM', 'NGA', 'BLR', 'VEN', 'UKR', 'ARM', 'JPN', 'LKA', 'MYS',\n",
       "       'BIH', 'MUS', 'OMN', 'SUR', 'JAM', 'BGR', 'CIV', 'SRB', 'JOR',\n",
       "       'SYR', 'PHL', 'PRI', 'SGP', 'BDI', 'LBN', 'AGO', 'VNM', 'AZE',\n",
       "       'PLW', 'NZL', 'EGY', 'MDV', 'CMR', 'MLT', 'SVK', 'MWI', 'STP',\n",
       "       'TWN', 'IDN', 'SEN', 'PER', 'SAU', 'KNA', 'ETH', 'ECU', 'IRQ',\n",
       "       'AND', 'HND', 'PAK', 'GEO', 'ZMB', 'QAT', 'KHM', 'MCO', 'BGD',\n",
       "       'ISL', 'UZB', 'IMN', 'TJK', 'NIC', 'BEN', 'MAC', 'VGB', 'TZA',\n",
       "       'GAB', 'MKD', 'TMP', 'GLP', 'KEN', 'LIE', 'MMR', 'PAN', 'BFA',\n",
       "       'LBY', 'GNB', 'MLI', 'BHR', 'NAM', 'BOL', 'SYC', 'PRY', 'BRB',\n",
       "       'ABW', 'SLV', 'DMA', 'CUB', 'PYF', 'UGA', 'GUY', 'LCA', 'ATA',\n",
       "       'RWA', 'MNE'], dtype=object)"
      ]
     },
     "metadata": {},
     "output_type": "display_data"
    },
    {
     "data": {
      "text/plain": [
       "array(['PRT', 'AUT', 'BEL', 'DEU', 'BRA', 'GBR', 'ESP', 'FRA', 'ITA',\n",
       "       'LUX', 'CHE', 'EST', 'NGA', 'IRL', 'CN', 'POL', 'AUS', 'NLD',\n",
       "       'KOR', 'ROU', 'USA', 'CHL', 'DNK', 'FIN', 'RUS', 'SWE', 'HUN',\n",
       "       'HRV', 'MDV', 'ZAF', 'ISR', 'NOR', 'CHN', 'ARE', 'MAR', 'COL',\n",
       "       'FJI', 'LVA', 'LBN', 'PHL', 'HKG', 'SYC', 'GIB', 'AGO', 'MYS',\n",
       "       'MDG', 'IDN', 'LTU', 'ISL', 'TUR', 'ARG', 'JPN', 'SVN', 'SVK',\n",
       "       'BGR', 'CAF', 'JAM', 'UZB', 'UKR', 'IND', 'CZE', 'URY', 'NZL',\n",
       "       'NPL', 'SRB', 'CPV', 'IRN', 'KAZ', 'BHS', 'SUR', 'CUB', 'PAK',\n",
       "       'MAC', 'CYP', 'JOR', 'GRC', 'KWT', 'TWN', 'VNM', 'SGP', 'DOM',\n",
       "       'VEN', 'SEN', 'BLR', 'TZA', 'LIE', 'GNB', 'SAU', 'DZA', 'PER',\n",
       "       'AZE', 'EGY', 'ETH', 'KEN', 'THA', 'MLT', 'ECU', 'AND', 'IMN',\n",
       "       'BHR', 'TUN', 'MNE', 'MEX', 'BEN', 'MOZ', 'UMI', 'JEY', 'MYT',\n",
       "       'QAT', 'BGD', 'GAB', 'CIV', 'ZWE', 'GTM', 'ALB', 'GHA', 'ATA',\n",
       "       'ASM', 'PAN', 'CRI', 'MCO', 'MUS', 'SYR', 'TGO', 'IRQ', 'LKA',\n",
       "       'BIH', 'PRY', 'MRT', 'ABW', 'NCL', 'STP', 'KIR', 'SDN', 'PRI',\n",
       "       'ATF', 'CMR', 'TJK', 'LBY', 'SLE', 'SLV', 'LAO', 'FRO'],\n",
       "      dtype=object)"
      ]
     },
     "metadata": {},
     "output_type": "display_data"
    }
   ],
   "source": [
    "display(hotels_train['country'].unique())\n",
    "display(hotels_test['country'].unique())"
   ]
  },
  {
   "cell_type": "markdown",
   "metadata": {},
   "source": [
    "Column `country` contains correct values."
   ]
  },
  {
   "cell_type": "code",
   "execution_count": 14,
   "metadata": {},
   "outputs": [
    {
     "data": {
      "text/plain": [
       "array(['Direct', 'TA/TO', 'Corporate', 'GDS'], dtype=object)"
      ]
     },
     "metadata": {},
     "output_type": "display_data"
    },
    {
     "data": {
      "text/plain": [
       "array(['TA/TO', 'Direct', 'Corporate', 'GDS'], dtype=object)"
      ]
     },
     "metadata": {},
     "output_type": "display_data"
    }
   ],
   "source": [
    "display(hotels_train['distribution_channel'].unique())\n",
    "display(hotels_test['distribution_channel'].unique())"
   ]
  },
  {
   "cell_type": "markdown",
   "metadata": {},
   "source": [
    "Column `distribution_channel` contains correct values."
   ]
  },
  {
   "cell_type": "code",
   "execution_count": 15,
   "metadata": {},
   "outputs": [
    {
     "data": {
      "text/plain": [
       "array(['A               ', 'C               ', 'D               ',\n",
       "       'E               ', 'G               ', 'F               ',\n",
       "       'B               '], dtype=object)"
      ]
     },
     "metadata": {},
     "output_type": "display_data"
    },
    {
     "data": {
      "text/plain": [
       "array(['A               ', 'E               ', 'G               ',\n",
       "       'D               ', 'F               ', 'C               ',\n",
       "       'B               '], dtype=object)"
      ]
     },
     "metadata": {},
     "output_type": "display_data"
    }
   ],
   "source": [
    "display(hotels_train['reserved_room_type'].unique())\n",
    "display(hotels_test['reserved_room_type'].unique())"
   ]
  },
  {
   "cell_type": "markdown",
   "metadata": {},
   "source": [
    "Column `reserved_room_type` has correct values, but there are some extra spaces, we'll revome them."
   ]
  },
  {
   "cell_type": "code",
   "execution_count": 16,
   "metadata": {},
   "outputs": [],
   "source": [
    "hotels_train['reserved_room_type'] = hotels_train['reserved_room_type'].str.strip()\n",
    "hotels_test['reserved_room_type'] = hotels_test['reserved_room_type'].str.strip()"
   ]
  },
  {
   "cell_type": "code",
   "execution_count": 17,
   "metadata": {},
   "outputs": [
    {
     "data": {
      "text/plain": [
       "array(['A', 'C', 'D', 'E', 'G', 'F', 'B'], dtype=object)"
      ]
     },
     "metadata": {},
     "output_type": "display_data"
    },
    {
     "data": {
      "text/plain": [
       "array(['A', 'E', 'G', 'D', 'F', 'C', 'B'], dtype=object)"
      ]
     },
     "metadata": {},
     "output_type": "display_data"
    }
   ],
   "source": [
    "display(hotels_train['reserved_room_type'].unique())\n",
    "display(hotels_test['reserved_room_type'].unique())"
   ]
  },
  {
   "cell_type": "markdown",
   "metadata": {},
   "source": [
    "Extra spaces are removed."
   ]
  },
  {
   "cell_type": "code",
   "execution_count": 18,
   "metadata": {},
   "outputs": [
    {
     "data": {
      "text/plain": [
       "array(['Transient', 'Contract', 'Transient-Party', 'Group'], dtype=object)"
      ]
     },
     "metadata": {},
     "output_type": "display_data"
    },
    {
     "data": {
      "text/plain": [
       "array(['Transient', 'Transient-Party', 'Contract', 'Group'], dtype=object)"
      ]
     },
     "metadata": {},
     "output_type": "display_data"
    }
   ],
   "source": [
    "display(hotels_train['customer_type'].unique())\n",
    "display(hotels_test['customer_type'].unique())"
   ]
  },
  {
   "cell_type": "markdown",
   "metadata": {},
   "source": [
    "Column `customer_type` contains correct values."
   ]
  },
  {
   "cell_type": "markdown",
   "metadata": {},
   "source": [
    "### Changing of data types\n",
    "\n",
    "Previously we've noticed that columns `lead_time`, `adults`, `children`, `babies` have float type, but they have to be in integer type. We'are going to change the type for correct one."
   ]
  },
  {
   "cell_type": "code",
   "execution_count": 19,
   "metadata": {},
   "outputs": [],
   "source": [
    "hotels_train['lead_time'] = hotels_train['lead_time'].astype('int16')\n",
    "hotels_train['adults'] = hotels_train['adults'].astype('int8')\n",
    "hotels_train['children'] = hotels_train['children'].astype('int8')\n",
    "hotels_train['babies'] = hotels_train['babies'].astype('int8')\n",
    "\n",
    "hotels_test['lead_time'] = hotels_test['lead_time'].astype('int16')\n",
    "hotels_test['adults'] = hotels_test['adults'].astype('int8')\n",
    "hotels_test['children'] = hotels_test['children'].astype('int8')\n",
    "hotels_test['babies'] = hotels_test['babies'].astype('int8')"
   ]
  },
  {
   "cell_type": "markdown",
   "metadata": {},
   "source": [
    "Also, let's adjust other integer columns. They have int64 type, which is redundantly considering the values they have, we'll chenge them to int16 and int8."
   ]
  },
  {
   "cell_type": "code",
   "execution_count": 20,
   "metadata": {},
   "outputs": [],
   "source": [
    "hotels_train['is_canceled'] = hotels_train['is_canceled'].astype('int8')\n",
    "hotels_train['arrival_date_year'] = hotels_train['arrival_date_year'].astype('int16')\n",
    "hotels_train['arrival_date_week_number'] = hotels_train['arrival_date_week_number'].astype('int8')\n",
    "hotels_train['arrival_date_day_of_month'] = hotels_train['arrival_date_day_of_month'].astype('int8')\n",
    "hotels_train['stays_in_weekend_nights'] = hotels_train['stays_in_weekend_nights'].astype('int8')\n",
    "hotels_train['stays_in_week_nights'] = hotels_train['stays_in_week_nights'].astype('int8')\n",
    "hotels_train['is_repeated_guest'] = hotels_train['is_repeated_guest'].astype('int8')\n",
    "hotels_train['previous_cancellations'] = hotels_train['previous_cancellations'].astype('int8')\n",
    "hotels_train['previous_bookings_not_canceled'] = hotels_train['previous_bookings_not_canceled'].astype('int8')\n",
    "hotels_train['booking_changes'] = hotels_train['booking_changes'].astype('int8')\n",
    "hotels_train['days_in_waiting_list'] = hotels_train['days_in_waiting_list'].astype('int16')\n",
    "hotels_train['required_car_parking_spaces'] = hotels_train['required_car_parking_spaces'].astype('int8')\n",
    "hotels_train['total_of_special_requests'] = hotels_train['total_of_special_requests'].astype('int8')\n",
    "hotels_train['total_nights'] = hotels_train['total_nights'].astype('int8')\n",
    "\n",
    "hotels_test['is_canceled'] = hotels_test['is_canceled'].astype('int8')\n",
    "hotels_test['arrival_date_year'] = hotels_test['arrival_date_year'].astype('int16')\n",
    "hotels_test['arrival_date_week_number'] = hotels_test['arrival_date_week_number'].astype('int8')\n",
    "hotels_test['arrival_date_day_of_month'] = hotels_test['arrival_date_day_of_month'].astype('int8')\n",
    "hotels_test['stays_in_weekend_nights'] = hotels_test['stays_in_weekend_nights'].astype('int8')\n",
    "hotels_test['stays_in_week_nights'] = hotels_test['stays_in_week_nights'].astype('int8')\n",
    "hotels_test['is_repeated_guest'] = hotels_test['is_repeated_guest'].astype('int8')\n",
    "hotels_test['previous_cancellations'] = hotels_test['previous_cancellations'].astype('int8')\n",
    "hotels_test['previous_bookings_not_canceled'] = hotels_test['previous_bookings_not_canceled'].astype('int8')\n",
    "hotels_test['booking_changes'] = hotels_test['booking_changes'].astype('int8')\n",
    "hotels_test['days_in_waiting_list'] = hotels_test['days_in_waiting_list'].astype('int16')\n",
    "hotels_test['required_car_parking_spaces'] = hotels_test['required_car_parking_spaces'].astype('int8')\n",
    "hotels_test['total_of_special_requests'] = hotels_test['total_of_special_requests'].astype('int8')\n",
    "hotels_test['total_nights'] = hotels_test['total_nights'].astype('int8')"
   ]
  },
  {
   "cell_type": "code",
   "execution_count": 21,
   "metadata": {},
   "outputs": [
    {
     "name": "stdout",
     "output_type": "stream",
     "text": [
      "<class 'pandas.core.frame.DataFrame'>\n",
      "RangeIndex: 65229 entries, 0 to 65228\n",
      "Data columns (total 25 columns):\n",
      " #   Column                          Non-Null Count  Dtype \n",
      "---  ------                          --------------  ----- \n",
      " 0   id                              65229 non-null  int64 \n",
      " 1   is_canceled                     65229 non-null  int8  \n",
      " 2   lead_time                       65229 non-null  int16 \n",
      " 3   arrival_date_year               65229 non-null  int16 \n",
      " 4   arrival_date_month              65229 non-null  object\n",
      " 5   arrival_date_week_number        65229 non-null  int8  \n",
      " 6   arrival_date_day_of_month       65229 non-null  int8  \n",
      " 7   stays_in_weekend_nights         65229 non-null  int8  \n",
      " 8   stays_in_week_nights            65229 non-null  int8  \n",
      " 9   adults                          65229 non-null  int8  \n",
      " 10  children                        65229 non-null  int8  \n",
      " 11  babies                          65229 non-null  int8  \n",
      " 12  meal                            65229 non-null  object\n",
      " 13  country                         65229 non-null  object\n",
      " 14  distribution_channel            65229 non-null  object\n",
      " 15  is_repeated_guest               65229 non-null  int8  \n",
      " 16  previous_cancellations          65229 non-null  int8  \n",
      " 17  previous_bookings_not_canceled  65229 non-null  int8  \n",
      " 18  reserved_room_type              65229 non-null  object\n",
      " 19  booking_changes                 65229 non-null  int8  \n",
      " 20  days_in_waiting_list            65229 non-null  int16 \n",
      " 21  customer_type                   65229 non-null  object\n",
      " 22  required_car_parking_spaces     65229 non-null  int8  \n",
      " 23  total_of_special_requests       65229 non-null  int8  \n",
      " 24  total_nights                    65229 non-null  int8  \n",
      "dtypes: int16(3), int64(1), int8(15), object(6)\n",
      "memory usage: 4.8+ MB\n",
      "<class 'pandas.core.frame.DataFrame'>\n",
      "RangeIndex: 32412 entries, 0 to 32411\n",
      "Data columns (total 25 columns):\n",
      " #   Column                          Non-Null Count  Dtype \n",
      "---  ------                          --------------  ----- \n",
      " 0   id                              32412 non-null  int64 \n",
      " 1   is_canceled                     32412 non-null  int8  \n",
      " 2   lead_time                       32412 non-null  int16 \n",
      " 3   arrival_date_year               32412 non-null  int16 \n",
      " 4   arrival_date_month              32412 non-null  object\n",
      " 5   arrival_date_week_number        32412 non-null  int8  \n",
      " 6   arrival_date_day_of_month       32412 non-null  int8  \n",
      " 7   stays_in_weekend_nights         32412 non-null  int8  \n",
      " 8   stays_in_week_nights            32412 non-null  int8  \n",
      " 9   adults                          32412 non-null  int8  \n",
      " 10  children                        32412 non-null  int8  \n",
      " 11  babies                          32412 non-null  int8  \n",
      " 12  meal                            32412 non-null  object\n",
      " 13  country                         32412 non-null  object\n",
      " 14  distribution_channel            32412 non-null  object\n",
      " 15  is_repeated_guest               32412 non-null  int8  \n",
      " 16  previous_cancellations          32412 non-null  int8  \n",
      " 17  previous_bookings_not_canceled  32412 non-null  int8  \n",
      " 18  reserved_room_type              32412 non-null  object\n",
      " 19  booking_changes                 32412 non-null  int8  \n",
      " 20  days_in_waiting_list            32412 non-null  int16 \n",
      " 21  customer_type                   32412 non-null  object\n",
      " 22  required_car_parking_spaces     32412 non-null  int8  \n",
      " 23  total_of_special_requests       32412 non-null  int8  \n",
      " 24  total_nights                    32412 non-null  int8  \n",
      "dtypes: int16(3), int64(1), int8(15), object(6)\n",
      "memory usage: 2.4+ MB\n"
     ]
    }
   ],
   "source": [
    "hotels_train.info()\n",
    "hotels_test.info()"
   ]
  },
  {
   "cell_type": "markdown",
   "metadata": {},
   "source": [
    "Now all columns have correct types."
   ]
  },
  {
   "cell_type": "markdown",
   "metadata": {},
   "source": [
    "### Anomalies\n",
    "\n",
    "We'll check if there are anomalies in the data. For start we'll take a look on histograms for all columns."
   ]
  },
  {
   "cell_type": "code",
   "execution_count": 22,
   "metadata": {
    "scrolled": false
   },
   "outputs": [
    {
     "data": {
      "image/png": "[encoded data removed]",
      "text/plain": [
       "<Figure size 1080x1440 with 20 Axes>"
      ]
     },
     "metadata": {
      "needs_background": "light"
     },
     "output_type": "display_data"
    }
   ],
   "source": [
    "hotels_train.hist(figsize=(15, 20));"
   ]
  },
  {
   "cell_type": "code",
   "execution_count": 23,
   "metadata": {
    "scrolled": false
   },
   "outputs": [
    {
     "data": {
      "image/png": "[encoded data removed]",
      "text/plain": [
       "<Figure size 1080x1440 with 20 Axes>"
      ]
     },
     "metadata": {
      "needs_background": "light"
     },
     "output_type": "display_data"
    }
   ],
   "source": [
    "hotels_test.hist(figsize=(15, 20));"
   ]
  },
  {
   "cell_type": "markdown",
   "metadata": {},
   "source": [
    "In training data we can see that column `babies` has values up to 10, while test data hos only up to 2. Let's check the values they have."
   ]
  },
  {
   "cell_type": "code",
   "execution_count": 24,
   "metadata": {},
   "outputs": [
    {
     "data": {
      "text/plain": [
       "array([ 0,  1,  2,  9, 10], dtype=int8)"
      ]
     },
     "metadata": {},
     "output_type": "display_data"
    },
    {
     "data": {
      "text/plain": [
       "array([0, 1, 2], dtype=int8)"
      ]
     },
     "metadata": {},
     "output_type": "display_data"
    }
   ],
   "source": [
    "display(hotels_train['babies'].sort_values().unique())\n",
    "display(hotels_test['babies'].sort_values().unique())"
   ]
  },
  {
   "cell_type": "markdown",
   "metadata": {},
   "source": [
    "We can see that both datasets have values 0, 1, 2, but the training dataset also has 9 and 10. Those values most probably are anomalies. Let's check how many are they."
   ]
  },
  {
   "cell_type": "code",
   "execution_count": 25,
   "metadata": {},
   "outputs": [
    {
     "data": {
      "text/html": [
       "<div>\n",
       "<style scoped>\n",
       "    .dataframe tbody tr th:only-of-type {\n",
       "        vertical-align: middle;\n",
       "    }\n",
       "\n",
       "    .dataframe tbody tr th {\n",
       "        vertical-align: top;\n",
       "    }\n",
       "\n",
       "    .dataframe thead th {\n",
       "        text-align: right;\n",
       "    }\n",
       "</style>\n",
       "<table border=\"1\" class=\"dataframe\">\n",
       "  <thead>\n",
       "    <tr style=\"text-align: right;\">\n",
       "      <th></th>\n",
       "      <th>id</th>\n",
       "      <th>is_canceled</th>\n",
       "      <th>lead_time</th>\n",
       "      <th>arrival_date_year</th>\n",
       "      <th>arrival_date_month</th>\n",
       "      <th>arrival_date_week_number</th>\n",
       "      <th>arrival_date_day_of_month</th>\n",
       "      <th>stays_in_weekend_nights</th>\n",
       "      <th>stays_in_week_nights</th>\n",
       "      <th>adults</th>\n",
       "      <th>children</th>\n",
       "      <th>babies</th>\n",
       "      <th>meal</th>\n",
       "      <th>country</th>\n",
       "      <th>distribution_channel</th>\n",
       "      <th>is_repeated_guest</th>\n",
       "      <th>previous_cancellations</th>\n",
       "      <th>previous_bookings_not_canceled</th>\n",
       "      <th>reserved_room_type</th>\n",
       "      <th>booking_changes</th>\n",
       "      <th>days_in_waiting_list</th>\n",
       "      <th>customer_type</th>\n",
       "      <th>required_car_parking_spaces</th>\n",
       "      <th>total_of_special_requests</th>\n",
       "      <th>total_nights</th>\n",
       "    </tr>\n",
       "  </thead>\n",
       "  <tbody>\n",
       "    <tr>\n",
       "      <th>41528</th>\n",
       "      <td>59925</td>\n",
       "      <td>0</td>\n",
       "      <td>11</td>\n",
       "      <td>2015</td>\n",
       "      <td>October</td>\n",
       "      <td>42</td>\n",
       "      <td>11</td>\n",
       "      <td>2</td>\n",
       "      <td>1</td>\n",
       "      <td>1</td>\n",
       "      <td>0</td>\n",
       "      <td>9</td>\n",
       "      <td>BB</td>\n",
       "      <td>GBR</td>\n",
       "      <td>Corporate</td>\n",
       "      <td>0</td>\n",
       "      <td>0</td>\n",
       "      <td>0</td>\n",
       "      <td>A</td>\n",
       "      <td>1</td>\n",
       "      <td>0</td>\n",
       "      <td>Transient-Party</td>\n",
       "      <td>0</td>\n",
       "      <td>0</td>\n",
       "      <td>3</td>\n",
       "    </tr>\n",
       "    <tr>\n",
       "      <th>22995</th>\n",
       "      <td>30935</td>\n",
       "      <td>0</td>\n",
       "      <td>37</td>\n",
       "      <td>2016</td>\n",
       "      <td>January</td>\n",
       "      <td>3</td>\n",
       "      <td>12</td>\n",
       "      <td>0</td>\n",
       "      <td>2</td>\n",
       "      <td>2</td>\n",
       "      <td>0</td>\n",
       "      <td>10</td>\n",
       "      <td>BB</td>\n",
       "      <td>PRT</td>\n",
       "      <td>TA/TO</td>\n",
       "      <td>0</td>\n",
       "      <td>0</td>\n",
       "      <td>0</td>\n",
       "      <td>D</td>\n",
       "      <td>1</td>\n",
       "      <td>0</td>\n",
       "      <td>Transient</td>\n",
       "      <td>0</td>\n",
       "      <td>1</td>\n",
       "      <td>2</td>\n",
       "    </tr>\n",
       "  </tbody>\n",
       "</table>\n",
       "</div>"
      ],
      "text/plain": [
       "          id  is_canceled  lead_time  arrival_date_year arrival_date_month  \\\n",
       "41528  59925            0         11               2015            October   \n",
       "22995  30935            0         37               2016            January   \n",
       "\n",
       "       arrival_date_week_number  arrival_date_day_of_month  \\\n",
       "41528                        42                         11   \n",
       "22995                         3                         12   \n",
       "\n",
       "       stays_in_weekend_nights  stays_in_week_nights  adults  children  \\\n",
       "41528                        2                     1       1         0   \n",
       "22995                        0                     2       2         0   \n",
       "\n",
       "       babies meal country distribution_channel  is_repeated_guest  \\\n",
       "41528       9   BB     GBR            Corporate                  0   \n",
       "22995      10   BB     PRT                TA/TO                  0   \n",
       "\n",
       "       previous_cancellations  previous_bookings_not_canceled  \\\n",
       "41528                       0                               0   \n",
       "22995                       0                               0   \n",
       "\n",
       "      reserved_room_type  booking_changes  days_in_waiting_list  \\\n",
       "41528                  A                1                     0   \n",
       "22995                  D                1                     0   \n",
       "\n",
       "         customer_type  required_car_parking_spaces  \\\n",
       "41528  Transient-Party                            0   \n",
       "22995        Transient                            0   \n",
       "\n",
       "       total_of_special_requests  total_nights  \n",
       "41528                          0             3  \n",
       "22995                          1             2  "
      ]
     },
     "execution_count": 25,
     "metadata": {},
     "output_type": "execute_result"
    }
   ],
   "source": [
    "hotels_train.query('babies > 2').sort_values(by='babies')"
   ]
  },
  {
   "cell_type": "markdown",
   "metadata": {},
   "source": [
    "We've found two string, we'll delete them."
   ]
  },
  {
   "cell_type": "code",
   "execution_count": 26,
   "metadata": {},
   "outputs": [],
   "source": [
    "hotels_train = hotels_train.query('babies <= 2').reset_index(drop=True)"
   ]
  },
  {
   "cell_type": "code",
   "execution_count": 27,
   "metadata": {},
   "outputs": [
    {
     "data": {
      "text/plain": [
       "array([0, 1, 2], dtype=int8)"
      ]
     },
     "metadata": {},
     "output_type": "display_data"
    }
   ],
   "source": [
    "display(hotels_train['babies'].sort_values().unique())"
   ]
  },
  {
   "cell_type": "markdown",
   "metadata": {},
   "source": [
    "Anomalies in column `babies` have been deleted.\n",
    "\n",
    "We can see potential anomalies in column `required_car_parking_spaces` in test dataset."
   ]
  },
  {
   "cell_type": "code",
   "execution_count": 28,
   "metadata": {},
   "outputs": [
    {
     "data": {
      "text/plain": [
       "array([0, 1, 2, 3], dtype=int8)"
      ]
     },
     "metadata": {},
     "output_type": "display_data"
    },
    {
     "data": {
      "text/plain": [
       "array([0, 1, 2, 3, 8], dtype=int8)"
      ]
     },
     "metadata": {},
     "output_type": "display_data"
    }
   ],
   "source": [
    "display(hotels_train['required_car_parking_spaces'].sort_values().unique())\n",
    "display(hotels_test['required_car_parking_spaces'].sort_values().unique())"
   ]
  },
  {
   "cell_type": "markdown",
   "metadata": {},
   "source": [
    "For both datasets typical values are 0, 1, 2, 3. But the test dataset also has 8, let's take a look how many are they."
   ]
  },
  {
   "cell_type": "code",
   "execution_count": 29,
   "metadata": {},
   "outputs": [
    {
     "data": {
      "text/html": [
       "<div>\n",
       "<style scoped>\n",
       "    .dataframe tbody tr th:only-of-type {\n",
       "        vertical-align: middle;\n",
       "    }\n",
       "\n",
       "    .dataframe tbody tr th {\n",
       "        vertical-align: top;\n",
       "    }\n",
       "\n",
       "    .dataframe thead th {\n",
       "        text-align: right;\n",
       "    }\n",
       "</style>\n",
       "<table border=\"1\" class=\"dataframe\">\n",
       "  <thead>\n",
       "    <tr style=\"text-align: right;\">\n",
       "      <th></th>\n",
       "      <th>id</th>\n",
       "      <th>is_canceled</th>\n",
       "      <th>lead_time</th>\n",
       "      <th>arrival_date_year</th>\n",
       "      <th>arrival_date_month</th>\n",
       "      <th>arrival_date_week_number</th>\n",
       "      <th>arrival_date_day_of_month</th>\n",
       "      <th>stays_in_weekend_nights</th>\n",
       "      <th>stays_in_week_nights</th>\n",
       "      <th>adults</th>\n",
       "      <th>children</th>\n",
       "      <th>babies</th>\n",
       "      <th>meal</th>\n",
       "      <th>country</th>\n",
       "      <th>distribution_channel</th>\n",
       "      <th>is_repeated_guest</th>\n",
       "      <th>previous_cancellations</th>\n",
       "      <th>previous_bookings_not_canceled</th>\n",
       "      <th>reserved_room_type</th>\n",
       "      <th>booking_changes</th>\n",
       "      <th>days_in_waiting_list</th>\n",
       "      <th>customer_type</th>\n",
       "      <th>required_car_parking_spaces</th>\n",
       "      <th>total_of_special_requests</th>\n",
       "      <th>total_nights</th>\n",
       "    </tr>\n",
       "  </thead>\n",
       "  <tbody>\n",
       "    <tr>\n",
       "      <th>2549</th>\n",
       "      <td>17717</td>\n",
       "      <td>0</td>\n",
       "      <td>26</td>\n",
       "      <td>2017</td>\n",
       "      <td>March</td>\n",
       "      <td>11</td>\n",
       "      <td>14</td>\n",
       "      <td>0</td>\n",
       "      <td>5</td>\n",
       "      <td>2</td>\n",
       "      <td>0</td>\n",
       "      <td>0</td>\n",
       "      <td>HB</td>\n",
       "      <td>AUT</td>\n",
       "      <td>Corporate</td>\n",
       "      <td>1</td>\n",
       "      <td>0</td>\n",
       "      <td>2</td>\n",
       "      <td>E</td>\n",
       "      <td>1</td>\n",
       "      <td>0</td>\n",
       "      <td>Transient-Party</td>\n",
       "      <td>8</td>\n",
       "      <td>1</td>\n",
       "      <td>5</td>\n",
       "    </tr>\n",
       "    <tr>\n",
       "      <th>2550</th>\n",
       "      <td>17718</td>\n",
       "      <td>0</td>\n",
       "      <td>138</td>\n",
       "      <td>2017</td>\n",
       "      <td>March</td>\n",
       "      <td>12</td>\n",
       "      <td>19</td>\n",
       "      <td>2</td>\n",
       "      <td>2</td>\n",
       "      <td>2</td>\n",
       "      <td>0</td>\n",
       "      <td>0</td>\n",
       "      <td>HB</td>\n",
       "      <td>AUT</td>\n",
       "      <td>Corporate</td>\n",
       "      <td>1</td>\n",
       "      <td>0</td>\n",
       "      <td>2</td>\n",
       "      <td>E</td>\n",
       "      <td>1</td>\n",
       "      <td>122</td>\n",
       "      <td>Transient-Party</td>\n",
       "      <td>8</td>\n",
       "      <td>0</td>\n",
       "      <td>4</td>\n",
       "    </tr>\n",
       "  </tbody>\n",
       "</table>\n",
       "</div>"
      ],
      "text/plain": [
       "         id  is_canceled  lead_time  arrival_date_year arrival_date_month  \\\n",
       "2549  17717            0         26               2017              March   \n",
       "2550  17718            0        138               2017              March   \n",
       "\n",
       "      arrival_date_week_number  arrival_date_day_of_month  \\\n",
       "2549                        11                         14   \n",
       "2550                        12                         19   \n",
       "\n",
       "      stays_in_weekend_nights  stays_in_week_nights  adults  children  babies  \\\n",
       "2549                        0                     5       2         0       0   \n",
       "2550                        2                     2       2         0       0   \n",
       "\n",
       "     meal country distribution_channel  is_repeated_guest  \\\n",
       "2549   HB     AUT            Corporate                  1   \n",
       "2550   HB     AUT            Corporate                  1   \n",
       "\n",
       "      previous_cancellations  previous_bookings_not_canceled  \\\n",
       "2549                       0                               2   \n",
       "2550                       0                               2   \n",
       "\n",
       "     reserved_room_type  booking_changes  days_in_waiting_list  \\\n",
       "2549                  E                1                     0   \n",
       "2550                  E                1                   122   \n",
       "\n",
       "        customer_type  required_car_parking_spaces  total_of_special_requests  \\\n",
       "2549  Transient-Party                            8                          1   \n",
       "2550  Transient-Party                            8                          0   \n",
       "\n",
       "      total_nights  \n",
       "2549             5  \n",
       "2550             4  "
      ]
     },
     "execution_count": 29,
     "metadata": {},
     "output_type": "execute_result"
    }
   ],
   "source": [
    "hotels_test.query('required_car_parking_spaces > 3').sort_values(by='required_car_parking_spaces')"
   ]
  },
  {
   "cell_type": "markdown",
   "metadata": {},
   "source": [
    "We've found two string, we'll delete them."
   ]
  },
  {
   "cell_type": "code",
   "execution_count": 30,
   "metadata": {},
   "outputs": [],
   "source": [
    "hotels_test = hotels_test.query('required_car_parking_spaces <= 3').reset_index(drop=True)"
   ]
  },
  {
   "cell_type": "code",
   "execution_count": 31,
   "metadata": {},
   "outputs": [
    {
     "data": {
      "text/plain": [
       "array([0, 1, 2, 3], dtype=int8)"
      ]
     },
     "metadata": {},
     "output_type": "display_data"
    }
   ],
   "source": [
    "display(hotels_test['required_car_parking_spaces'].sort_values().unique())"
   ]
  },
  {
   "cell_type": "markdown",
   "metadata": {},
   "source": [
    "Anomalies in column `babies` have been deleted.\n",
    "\n",
    "Column `adults` has values 0, those strings must be anomalies, let's take a look how many are they."
   ]
  },
  {
   "cell_type": "code",
   "execution_count": 32,
   "metadata": {},
   "outputs": [
    {
     "data": {
      "text/plain": [
       "array([0, 1, 2, 3, 4], dtype=int8)"
      ]
     },
     "metadata": {},
     "output_type": "display_data"
    },
    {
     "data": {
      "text/plain": [
       "array([0, 1, 2, 3, 4], dtype=int8)"
      ]
     },
     "metadata": {},
     "output_type": "display_data"
    }
   ],
   "source": [
    "display(hotels_train['adults'].sort_values().unique())\n",
    "display(hotels_test['adults'].sort_values().unique())"
   ]
  },
  {
   "cell_type": "code",
   "execution_count": 33,
   "metadata": {},
   "outputs": [
    {
     "data": {
      "text/html": [
       "<div>\n",
       "<style scoped>\n",
       "    .dataframe tbody tr th:only-of-type {\n",
       "        vertical-align: middle;\n",
       "    }\n",
       "\n",
       "    .dataframe tbody tr th {\n",
       "        vertical-align: top;\n",
       "    }\n",
       "\n",
       "    .dataframe thead th {\n",
       "        text-align: right;\n",
       "    }\n",
       "</style>\n",
       "<table border=\"1\" class=\"dataframe\">\n",
       "  <thead>\n",
       "    <tr style=\"text-align: right;\">\n",
       "      <th></th>\n",
       "      <th>id</th>\n",
       "      <th>is_canceled</th>\n",
       "      <th>lead_time</th>\n",
       "      <th>arrival_date_year</th>\n",
       "      <th>arrival_date_month</th>\n",
       "      <th>arrival_date_week_number</th>\n",
       "      <th>arrival_date_day_of_month</th>\n",
       "      <th>stays_in_weekend_nights</th>\n",
       "      <th>stays_in_week_nights</th>\n",
       "      <th>adults</th>\n",
       "      <th>children</th>\n",
       "      <th>babies</th>\n",
       "      <th>meal</th>\n",
       "      <th>country</th>\n",
       "      <th>distribution_channel</th>\n",
       "      <th>is_repeated_guest</th>\n",
       "      <th>previous_cancellations</th>\n",
       "      <th>previous_bookings_not_canceled</th>\n",
       "      <th>reserved_room_type</th>\n",
       "      <th>booking_changes</th>\n",
       "      <th>days_in_waiting_list</th>\n",
       "      <th>customer_type</th>\n",
       "      <th>required_car_parking_spaces</th>\n",
       "      <th>total_of_special_requests</th>\n",
       "      <th>total_nights</th>\n",
       "    </tr>\n",
       "  </thead>\n",
       "  <tbody>\n",
       "    <tr>\n",
       "      <th>17540</th>\n",
       "      <td>25480</td>\n",
       "      <td>0</td>\n",
       "      <td>1</td>\n",
       "      <td>2015</td>\n",
       "      <td>August</td>\n",
       "      <td>33</td>\n",
       "      <td>10</td>\n",
       "      <td>1</td>\n",
       "      <td>1</td>\n",
       "      <td>0</td>\n",
       "      <td>3</td>\n",
       "      <td>0</td>\n",
       "      <td>BB</td>\n",
       "      <td>PRT</td>\n",
       "      <td>Direct</td>\n",
       "      <td>0</td>\n",
       "      <td>0</td>\n",
       "      <td>0</td>\n",
       "      <td>B</td>\n",
       "      <td>1</td>\n",
       "      <td>0</td>\n",
       "      <td>Transient-Party</td>\n",
       "      <td>0</td>\n",
       "      <td>0</td>\n",
       "      <td>2</td>\n",
       "    </tr>\n",
       "    <tr>\n",
       "      <th>17598</th>\n",
       "      <td>25538</td>\n",
       "      <td>0</td>\n",
       "      <td>104</td>\n",
       "      <td>2015</td>\n",
       "      <td>August</td>\n",
       "      <td>33</td>\n",
       "      <td>11</td>\n",
       "      <td>0</td>\n",
       "      <td>3</td>\n",
       "      <td>0</td>\n",
       "      <td>2</td>\n",
       "      <td>0</td>\n",
       "      <td>BB</td>\n",
       "      <td>FRA</td>\n",
       "      <td>TA/TO</td>\n",
       "      <td>0</td>\n",
       "      <td>0</td>\n",
       "      <td>0</td>\n",
       "      <td>B</td>\n",
       "      <td>1</td>\n",
       "      <td>0</td>\n",
       "      <td>Transient-Party</td>\n",
       "      <td>0</td>\n",
       "      <td>2</td>\n",
       "      <td>3</td>\n",
       "    </tr>\n",
       "    <tr>\n",
       "      <th>17982</th>\n",
       "      <td>25922</td>\n",
       "      <td>0</td>\n",
       "      <td>3</td>\n",
       "      <td>2015</td>\n",
       "      <td>August</td>\n",
       "      <td>34</td>\n",
       "      <td>16</td>\n",
       "      <td>2</td>\n",
       "      <td>0</td>\n",
       "      <td>0</td>\n",
       "      <td>2</td>\n",
       "      <td>0</td>\n",
       "      <td>BB</td>\n",
       "      <td>PRT</td>\n",
       "      <td>Direct</td>\n",
       "      <td>0</td>\n",
       "      <td>0</td>\n",
       "      <td>0</td>\n",
       "      <td>B</td>\n",
       "      <td>1</td>\n",
       "      <td>0</td>\n",
       "      <td>Transient-Party</td>\n",
       "      <td>0</td>\n",
       "      <td>1</td>\n",
       "      <td>2</td>\n",
       "    </tr>\n",
       "    <tr>\n",
       "      <th>21556</th>\n",
       "      <td>29496</td>\n",
       "      <td>1</td>\n",
       "      <td>48</td>\n",
       "      <td>2015</td>\n",
       "      <td>October</td>\n",
       "      <td>43</td>\n",
       "      <td>19</td>\n",
       "      <td>1</td>\n",
       "      <td>3</td>\n",
       "      <td>0</td>\n",
       "      <td>2</td>\n",
       "      <td>0</td>\n",
       "      <td>BB</td>\n",
       "      <td>PRT</td>\n",
       "      <td>TA/TO</td>\n",
       "      <td>0</td>\n",
       "      <td>0</td>\n",
       "      <td>0</td>\n",
       "      <td>B</td>\n",
       "      <td>0</td>\n",
       "      <td>0</td>\n",
       "      <td>Transient-Party</td>\n",
       "      <td>0</td>\n",
       "      <td>1</td>\n",
       "      <td>4</td>\n",
       "    </tr>\n",
       "    <tr>\n",
       "      <th>22516</th>\n",
       "      <td>30456</td>\n",
       "      <td>1</td>\n",
       "      <td>6</td>\n",
       "      <td>2015</td>\n",
       "      <td>December</td>\n",
       "      <td>51</td>\n",
       "      <td>13</td>\n",
       "      <td>1</td>\n",
       "      <td>0</td>\n",
       "      <td>0</td>\n",
       "      <td>3</td>\n",
       "      <td>0</td>\n",
       "      <td>BB</td>\n",
       "      <td>PRT</td>\n",
       "      <td>TA/TO</td>\n",
       "      <td>0</td>\n",
       "      <td>0</td>\n",
       "      <td>0</td>\n",
       "      <td>B</td>\n",
       "      <td>0</td>\n",
       "      <td>0</td>\n",
       "      <td>Transient-Party</td>\n",
       "      <td>0</td>\n",
       "      <td>1</td>\n",
       "      <td>1</td>\n",
       "    </tr>\n",
       "    <tr>\n",
       "      <th>...</th>\n",
       "      <td>...</td>\n",
       "      <td>...</td>\n",
       "      <td>...</td>\n",
       "      <td>...</td>\n",
       "      <td>...</td>\n",
       "      <td>...</td>\n",
       "      <td>...</td>\n",
       "      <td>...</td>\n",
       "      <td>...</td>\n",
       "      <td>...</td>\n",
       "      <td>...</td>\n",
       "      <td>...</td>\n",
       "      <td>...</td>\n",
       "      <td>...</td>\n",
       "      <td>...</td>\n",
       "      <td>...</td>\n",
       "      <td>...</td>\n",
       "      <td>...</td>\n",
       "      <td>...</td>\n",
       "      <td>...</td>\n",
       "      <td>...</td>\n",
       "      <td>...</td>\n",
       "      <td>...</td>\n",
       "      <td>...</td>\n",
       "      <td>...</td>\n",
       "    </tr>\n",
       "    <tr>\n",
       "      <th>64749</th>\n",
       "      <td>83478</td>\n",
       "      <td>0</td>\n",
       "      <td>197</td>\n",
       "      <td>2016</td>\n",
       "      <td>December</td>\n",
       "      <td>52</td>\n",
       "      <td>21</td>\n",
       "      <td>1</td>\n",
       "      <td>4</td>\n",
       "      <td>0</td>\n",
       "      <td>3</td>\n",
       "      <td>0</td>\n",
       "      <td>HB</td>\n",
       "      <td>FRA</td>\n",
       "      <td>TA/TO</td>\n",
       "      <td>0</td>\n",
       "      <td>0</td>\n",
       "      <td>0</td>\n",
       "      <td>A</td>\n",
       "      <td>7</td>\n",
       "      <td>0</td>\n",
       "      <td>Transient-Party</td>\n",
       "      <td>0</td>\n",
       "      <td>0</td>\n",
       "      <td>5</td>\n",
       "    </tr>\n",
       "    <tr>\n",
       "      <th>64880</th>\n",
       "      <td>83610</td>\n",
       "      <td>0</td>\n",
       "      <td>104</td>\n",
       "      <td>2016</td>\n",
       "      <td>December</td>\n",
       "      <td>53</td>\n",
       "      <td>25</td>\n",
       "      <td>2</td>\n",
       "      <td>1</td>\n",
       "      <td>0</td>\n",
       "      <td>2</td>\n",
       "      <td>0</td>\n",
       "      <td>BB</td>\n",
       "      <td>PRT</td>\n",
       "      <td>TA/TO</td>\n",
       "      <td>0</td>\n",
       "      <td>0</td>\n",
       "      <td>0</td>\n",
       "      <td>B</td>\n",
       "      <td>1</td>\n",
       "      <td>0</td>\n",
       "      <td>Transient</td>\n",
       "      <td>0</td>\n",
       "      <td>2</td>\n",
       "      <td>3</td>\n",
       "    </tr>\n",
       "    <tr>\n",
       "      <th>64890</th>\n",
       "      <td>83620</td>\n",
       "      <td>0</td>\n",
       "      <td>104</td>\n",
       "      <td>2016</td>\n",
       "      <td>December</td>\n",
       "      <td>53</td>\n",
       "      <td>25</td>\n",
       "      <td>2</td>\n",
       "      <td>1</td>\n",
       "      <td>0</td>\n",
       "      <td>2</td>\n",
       "      <td>0</td>\n",
       "      <td>BB</td>\n",
       "      <td>FRA</td>\n",
       "      <td>TA/TO</td>\n",
       "      <td>0</td>\n",
       "      <td>0</td>\n",
       "      <td>0</td>\n",
       "      <td>B</td>\n",
       "      <td>0</td>\n",
       "      <td>0</td>\n",
       "      <td>Transient</td>\n",
       "      <td>0</td>\n",
       "      <td>2</td>\n",
       "      <td>3</td>\n",
       "    </tr>\n",
       "    <tr>\n",
       "      <th>64901</th>\n",
       "      <td>83633</td>\n",
       "      <td>0</td>\n",
       "      <td>247</td>\n",
       "      <td>2016</td>\n",
       "      <td>December</td>\n",
       "      <td>52</td>\n",
       "      <td>24</td>\n",
       "      <td>2</td>\n",
       "      <td>3</td>\n",
       "      <td>0</td>\n",
       "      <td>2</td>\n",
       "      <td>0</td>\n",
       "      <td>BB</td>\n",
       "      <td>PRT</td>\n",
       "      <td>TA/TO</td>\n",
       "      <td>0</td>\n",
       "      <td>0</td>\n",
       "      <td>0</td>\n",
       "      <td>B</td>\n",
       "      <td>0</td>\n",
       "      <td>0</td>\n",
       "      <td>Transient</td>\n",
       "      <td>0</td>\n",
       "      <td>1</td>\n",
       "      <td>5</td>\n",
       "    </tr>\n",
       "    <tr>\n",
       "      <th>64978</th>\n",
       "      <td>83710</td>\n",
       "      <td>0</td>\n",
       "      <td>255</td>\n",
       "      <td>2016</td>\n",
       "      <td>December</td>\n",
       "      <td>53</td>\n",
       "      <td>27</td>\n",
       "      <td>0</td>\n",
       "      <td>3</td>\n",
       "      <td>0</td>\n",
       "      <td>0</td>\n",
       "      <td>0</td>\n",
       "      <td>BB</td>\n",
       "      <td>PRT</td>\n",
       "      <td>TA/TO</td>\n",
       "      <td>0</td>\n",
       "      <td>0</td>\n",
       "      <td>0</td>\n",
       "      <td>A</td>\n",
       "      <td>3</td>\n",
       "      <td>0</td>\n",
       "      <td>Transient</td>\n",
       "      <td>0</td>\n",
       "      <td>0</td>\n",
       "      <td>3</td>\n",
       "    </tr>\n",
       "  </tbody>\n",
       "</table>\n",
       "<p>166 rows × 25 columns</p>\n",
       "</div>"
      ],
      "text/plain": [
       "          id  is_canceled  lead_time  arrival_date_year arrival_date_month  \\\n",
       "17540  25480            0          1               2015             August   \n",
       "17598  25538            0        104               2015             August   \n",
       "17982  25922            0          3               2015             August   \n",
       "21556  29496            1         48               2015            October   \n",
       "22516  30456            1          6               2015           December   \n",
       "...      ...          ...        ...                ...                ...   \n",
       "64749  83478            0        197               2016           December   \n",
       "64880  83610            0        104               2016           December   \n",
       "64890  83620            0        104               2016           December   \n",
       "64901  83633            0        247               2016           December   \n",
       "64978  83710            0        255               2016           December   \n",
       "\n",
       "       arrival_date_week_number  arrival_date_day_of_month  \\\n",
       "17540                        33                         10   \n",
       "17598                        33                         11   \n",
       "17982                        34                         16   \n",
       "21556                        43                         19   \n",
       "22516                        51                         13   \n",
       "...                         ...                        ...   \n",
       "64749                        52                         21   \n",
       "64880                        53                         25   \n",
       "64890                        53                         25   \n",
       "64901                        52                         24   \n",
       "64978                        53                         27   \n",
       "\n",
       "       stays_in_weekend_nights  stays_in_week_nights  adults  children  \\\n",
       "17540                        1                     1       0         3   \n",
       "17598                        0                     3       0         2   \n",
       "17982                        2                     0       0         2   \n",
       "21556                        1                     3       0         2   \n",
       "22516                        1                     0       0         3   \n",
       "...                        ...                   ...     ...       ...   \n",
       "64749                        1                     4       0         3   \n",
       "64880                        2                     1       0         2   \n",
       "64890                        2                     1       0         2   \n",
       "64901                        2                     3       0         2   \n",
       "64978                        0                     3       0         0   \n",
       "\n",
       "       babies meal country distribution_channel  is_repeated_guest  \\\n",
       "17540       0   BB     PRT               Direct                  0   \n",
       "17598       0   BB     FRA                TA/TO                  0   \n",
       "17982       0   BB     PRT               Direct                  0   \n",
       "21556       0   BB     PRT                TA/TO                  0   \n",
       "22516       0   BB     PRT                TA/TO                  0   \n",
       "...       ...  ...     ...                  ...                ...   \n",
       "64749       0   HB     FRA                TA/TO                  0   \n",
       "64880       0   BB     PRT                TA/TO                  0   \n",
       "64890       0   BB     FRA                TA/TO                  0   \n",
       "64901       0   BB     PRT                TA/TO                  0   \n",
       "64978       0   BB     PRT                TA/TO                  0   \n",
       "\n",
       "       previous_cancellations  previous_bookings_not_canceled  \\\n",
       "17540                       0                               0   \n",
       "17598                       0                               0   \n",
       "17982                       0                               0   \n",
       "21556                       0                               0   \n",
       "22516                       0                               0   \n",
       "...                       ...                             ...   \n",
       "64749                       0                               0   \n",
       "64880                       0                               0   \n",
       "64890                       0                               0   \n",
       "64901                       0                               0   \n",
       "64978                       0                               0   \n",
       "\n",
       "      reserved_room_type  booking_changes  days_in_waiting_list  \\\n",
       "17540                  B                1                     0   \n",
       "17598                  B                1                     0   \n",
       "17982                  B                1                     0   \n",
       "21556                  B                0                     0   \n",
       "22516                  B                0                     0   \n",
       "...                  ...              ...                   ...   \n",
       "64749                  A                7                     0   \n",
       "64880                  B                1                     0   \n",
       "64890                  B                0                     0   \n",
       "64901                  B                0                     0   \n",
       "64978                  A                3                     0   \n",
       "\n",
       "         customer_type  required_car_parking_spaces  \\\n",
       "17540  Transient-Party                            0   \n",
       "17598  Transient-Party                            0   \n",
       "17982  Transient-Party                            0   \n",
       "21556  Transient-Party                            0   \n",
       "22516  Transient-Party                            0   \n",
       "...                ...                          ...   \n",
       "64749  Transient-Party                            0   \n",
       "64880        Transient                            0   \n",
       "64890        Transient                            0   \n",
       "64901        Transient                            0   \n",
       "64978        Transient                            0   \n",
       "\n",
       "       total_of_special_requests  total_nights  \n",
       "17540                          0             2  \n",
       "17598                          2             3  \n",
       "17982                          1             2  \n",
       "21556                          1             4  \n",
       "22516                          1             1  \n",
       "...                          ...           ...  \n",
       "64749                          0             5  \n",
       "64880                          2             3  \n",
       "64890                          2             3  \n",
       "64901                          1             5  \n",
       "64978                          0             3  \n",
       "\n",
       "[166 rows x 25 columns]"
      ]
     },
     "execution_count": 33,
     "metadata": {},
     "output_type": "execute_result"
    }
   ],
   "source": [
    "hotels_train.query('adults < 1')"
   ]
  },
  {
   "cell_type": "code",
   "execution_count": 34,
   "metadata": {},
   "outputs": [
    {
     "data": {
      "text/html": [
       "<div>\n",
       "<style scoped>\n",
       "    .dataframe tbody tr th:only-of-type {\n",
       "        vertical-align: middle;\n",
       "    }\n",
       "\n",
       "    .dataframe tbody tr th {\n",
       "        vertical-align: top;\n",
       "    }\n",
       "\n",
       "    .dataframe thead th {\n",
       "        text-align: right;\n",
       "    }\n",
       "</style>\n",
       "<table border=\"1\" class=\"dataframe\">\n",
       "  <thead>\n",
       "    <tr style=\"text-align: right;\">\n",
       "      <th></th>\n",
       "      <th>id</th>\n",
       "      <th>is_canceled</th>\n",
       "      <th>lead_time</th>\n",
       "      <th>arrival_date_year</th>\n",
       "      <th>arrival_date_month</th>\n",
       "      <th>arrival_date_week_number</th>\n",
       "      <th>arrival_date_day_of_month</th>\n",
       "      <th>stays_in_weekend_nights</th>\n",
       "      <th>stays_in_week_nights</th>\n",
       "      <th>adults</th>\n",
       "      <th>children</th>\n",
       "      <th>babies</th>\n",
       "      <th>meal</th>\n",
       "      <th>country</th>\n",
       "      <th>distribution_channel</th>\n",
       "      <th>is_repeated_guest</th>\n",
       "      <th>previous_cancellations</th>\n",
       "      <th>previous_bookings_not_canceled</th>\n",
       "      <th>reserved_room_type</th>\n",
       "      <th>booking_changes</th>\n",
       "      <th>days_in_waiting_list</th>\n",
       "      <th>customer_type</th>\n",
       "      <th>required_car_parking_spaces</th>\n",
       "      <th>total_of_special_requests</th>\n",
       "      <th>total_nights</th>\n",
       "    </tr>\n",
       "  </thead>\n",
       "  <tbody>\n",
       "    <tr>\n",
       "      <th>7741</th>\n",
       "      <td>44932</td>\n",
       "      <td>1</td>\n",
       "      <td>111</td>\n",
       "      <td>2017</td>\n",
       "      <td>January</td>\n",
       "      <td>1</td>\n",
       "      <td>2</td>\n",
       "      <td>1</td>\n",
       "      <td>3</td>\n",
       "      <td>0</td>\n",
       "      <td>2</td>\n",
       "      <td>0</td>\n",
       "      <td>BB</td>\n",
       "      <td>RUS</td>\n",
       "      <td>TA/TO</td>\n",
       "      <td>0</td>\n",
       "      <td>0</td>\n",
       "      <td>0</td>\n",
       "      <td>B</td>\n",
       "      <td>0</td>\n",
       "      <td>0</td>\n",
       "      <td>Transient</td>\n",
       "      <td>0</td>\n",
       "      <td>2</td>\n",
       "      <td>4</td>\n",
       "    </tr>\n",
       "    <tr>\n",
       "      <th>7749</th>\n",
       "      <td>44940</td>\n",
       "      <td>1</td>\n",
       "      <td>268</td>\n",
       "      <td>2017</td>\n",
       "      <td>January</td>\n",
       "      <td>1</td>\n",
       "      <td>2</td>\n",
       "      <td>1</td>\n",
       "      <td>4</td>\n",
       "      <td>0</td>\n",
       "      <td>2</td>\n",
       "      <td>0</td>\n",
       "      <td>BB</td>\n",
       "      <td>RUS</td>\n",
       "      <td>TA/TO</td>\n",
       "      <td>0</td>\n",
       "      <td>0</td>\n",
       "      <td>0</td>\n",
       "      <td>B</td>\n",
       "      <td>0</td>\n",
       "      <td>0</td>\n",
       "      <td>Transient</td>\n",
       "      <td>0</td>\n",
       "      <td>1</td>\n",
       "      <td>5</td>\n",
       "    </tr>\n",
       "    <tr>\n",
       "      <th>8770</th>\n",
       "      <td>45961</td>\n",
       "      <td>1</td>\n",
       "      <td>148</td>\n",
       "      <td>2017</td>\n",
       "      <td>February</td>\n",
       "      <td>6</td>\n",
       "      <td>5</td>\n",
       "      <td>2</td>\n",
       "      <td>5</td>\n",
       "      <td>0</td>\n",
       "      <td>2</td>\n",
       "      <td>0</td>\n",
       "      <td>BB</td>\n",
       "      <td>FRA</td>\n",
       "      <td>TA/TO</td>\n",
       "      <td>0</td>\n",
       "      <td>0</td>\n",
       "      <td>0</td>\n",
       "      <td>B</td>\n",
       "      <td>0</td>\n",
       "      <td>0</td>\n",
       "      <td>Transient</td>\n",
       "      <td>0</td>\n",
       "      <td>2</td>\n",
       "      <td>7</td>\n",
       "    </tr>\n",
       "    <tr>\n",
       "      <th>9241</th>\n",
       "      <td>46432</td>\n",
       "      <td>1</td>\n",
       "      <td>134</td>\n",
       "      <td>2017</td>\n",
       "      <td>February</td>\n",
       "      <td>8</td>\n",
       "      <td>22</td>\n",
       "      <td>2</td>\n",
       "      <td>4</td>\n",
       "      <td>0</td>\n",
       "      <td>2</td>\n",
       "      <td>0</td>\n",
       "      <td>BB</td>\n",
       "      <td>BRA</td>\n",
       "      <td>TA/TO</td>\n",
       "      <td>0</td>\n",
       "      <td>0</td>\n",
       "      <td>0</td>\n",
       "      <td>B</td>\n",
       "      <td>0</td>\n",
       "      <td>0</td>\n",
       "      <td>Transient</td>\n",
       "      <td>0</td>\n",
       "      <td>1</td>\n",
       "      <td>6</td>\n",
       "    </tr>\n",
       "    <tr>\n",
       "      <th>9303</th>\n",
       "      <td>46494</td>\n",
       "      <td>1</td>\n",
       "      <td>148</td>\n",
       "      <td>2017</td>\n",
       "      <td>February</td>\n",
       "      <td>8</td>\n",
       "      <td>24</td>\n",
       "      <td>2</td>\n",
       "      <td>2</td>\n",
       "      <td>0</td>\n",
       "      <td>2</td>\n",
       "      <td>0</td>\n",
       "      <td>BB</td>\n",
       "      <td>BRA</td>\n",
       "      <td>TA/TO</td>\n",
       "      <td>0</td>\n",
       "      <td>0</td>\n",
       "      <td>0</td>\n",
       "      <td>B</td>\n",
       "      <td>1</td>\n",
       "      <td>0</td>\n",
       "      <td>Transient</td>\n",
       "      <td>0</td>\n",
       "      <td>1</td>\n",
       "      <td>4</td>\n",
       "    </tr>\n",
       "    <tr>\n",
       "      <th>...</th>\n",
       "      <td>...</td>\n",
       "      <td>...</td>\n",
       "      <td>...</td>\n",
       "      <td>...</td>\n",
       "      <td>...</td>\n",
       "      <td>...</td>\n",
       "      <td>...</td>\n",
       "      <td>...</td>\n",
       "      <td>...</td>\n",
       "      <td>...</td>\n",
       "      <td>...</td>\n",
       "      <td>...</td>\n",
       "      <td>...</td>\n",
       "      <td>...</td>\n",
       "      <td>...</td>\n",
       "      <td>...</td>\n",
       "      <td>...</td>\n",
       "      <td>...</td>\n",
       "      <td>...</td>\n",
       "      <td>...</td>\n",
       "      <td>...</td>\n",
       "      <td>...</td>\n",
       "      <td>...</td>\n",
       "      <td>...</td>\n",
       "      <td>...</td>\n",
       "    </tr>\n",
       "    <tr>\n",
       "      <th>30599</th>\n",
       "      <td>96093</td>\n",
       "      <td>0</td>\n",
       "      <td>296</td>\n",
       "      <td>2017</td>\n",
       "      <td>July</td>\n",
       "      <td>30</td>\n",
       "      <td>27</td>\n",
       "      <td>1</td>\n",
       "      <td>3</td>\n",
       "      <td>0</td>\n",
       "      <td>2</td>\n",
       "      <td>0</td>\n",
       "      <td>BB</td>\n",
       "      <td>GBR</td>\n",
       "      <td>TA/TO</td>\n",
       "      <td>0</td>\n",
       "      <td>0</td>\n",
       "      <td>0</td>\n",
       "      <td>B</td>\n",
       "      <td>0</td>\n",
       "      <td>0</td>\n",
       "      <td>Transient</td>\n",
       "      <td>0</td>\n",
       "      <td>1</td>\n",
       "      <td>4</td>\n",
       "    </tr>\n",
       "    <tr>\n",
       "      <th>30652</th>\n",
       "      <td>96146</td>\n",
       "      <td>0</td>\n",
       "      <td>276</td>\n",
       "      <td>2017</td>\n",
       "      <td>July</td>\n",
       "      <td>31</td>\n",
       "      <td>30</td>\n",
       "      <td>2</td>\n",
       "      <td>1</td>\n",
       "      <td>0</td>\n",
       "      <td>2</td>\n",
       "      <td>0</td>\n",
       "      <td>BB</td>\n",
       "      <td>DEU</td>\n",
       "      <td>TA/TO</td>\n",
       "      <td>0</td>\n",
       "      <td>0</td>\n",
       "      <td>0</td>\n",
       "      <td>B</td>\n",
       "      <td>1</td>\n",
       "      <td>0</td>\n",
       "      <td>Transient</td>\n",
       "      <td>0</td>\n",
       "      <td>2</td>\n",
       "      <td>3</td>\n",
       "    </tr>\n",
       "    <tr>\n",
       "      <th>30676</th>\n",
       "      <td>96170</td>\n",
       "      <td>0</td>\n",
       "      <td>291</td>\n",
       "      <td>2017</td>\n",
       "      <td>July</td>\n",
       "      <td>30</td>\n",
       "      <td>29</td>\n",
       "      <td>2</td>\n",
       "      <td>2</td>\n",
       "      <td>0</td>\n",
       "      <td>2</td>\n",
       "      <td>0</td>\n",
       "      <td>BB</td>\n",
       "      <td>PRT</td>\n",
       "      <td>TA/TO</td>\n",
       "      <td>0</td>\n",
       "      <td>0</td>\n",
       "      <td>0</td>\n",
       "      <td>B</td>\n",
       "      <td>0</td>\n",
       "      <td>0</td>\n",
       "      <td>Transient</td>\n",
       "      <td>0</td>\n",
       "      <td>1</td>\n",
       "      <td>4</td>\n",
       "    </tr>\n",
       "    <tr>\n",
       "      <th>30813</th>\n",
       "      <td>96307</td>\n",
       "      <td>0</td>\n",
       "      <td>159</td>\n",
       "      <td>2017</td>\n",
       "      <td>July</td>\n",
       "      <td>31</td>\n",
       "      <td>31</td>\n",
       "      <td>1</td>\n",
       "      <td>3</td>\n",
       "      <td>0</td>\n",
       "      <td>2</td>\n",
       "      <td>0</td>\n",
       "      <td>SC</td>\n",
       "      <td>FRA</td>\n",
       "      <td>TA/TO</td>\n",
       "      <td>0</td>\n",
       "      <td>0</td>\n",
       "      <td>0</td>\n",
       "      <td>A</td>\n",
       "      <td>1</td>\n",
       "      <td>0</td>\n",
       "      <td>Transient</td>\n",
       "      <td>0</td>\n",
       "      <td>1</td>\n",
       "      <td>4</td>\n",
       "    </tr>\n",
       "    <tr>\n",
       "      <th>31416</th>\n",
       "      <td>96910</td>\n",
       "      <td>0</td>\n",
       "      <td>10</td>\n",
       "      <td>2017</td>\n",
       "      <td>August</td>\n",
       "      <td>32</td>\n",
       "      <td>12</td>\n",
       "      <td>2</td>\n",
       "      <td>2</td>\n",
       "      <td>0</td>\n",
       "      <td>3</td>\n",
       "      <td>0</td>\n",
       "      <td>BB</td>\n",
       "      <td>MAR</td>\n",
       "      <td>Direct</td>\n",
       "      <td>0</td>\n",
       "      <td>0</td>\n",
       "      <td>0</td>\n",
       "      <td>B</td>\n",
       "      <td>1</td>\n",
       "      <td>0</td>\n",
       "      <td>Transient-Party</td>\n",
       "      <td>0</td>\n",
       "      <td>1</td>\n",
       "      <td>4</td>\n",
       "    </tr>\n",
       "  </tbody>\n",
       "</table>\n",
       "<p>69 rows × 25 columns</p>\n",
       "</div>"
      ],
      "text/plain": [
       "          id  is_canceled  lead_time  arrival_date_year arrival_date_month  \\\n",
       "7741   44932            1        111               2017            January   \n",
       "7749   44940            1        268               2017            January   \n",
       "8770   45961            1        148               2017           February   \n",
       "9241   46432            1        134               2017           February   \n",
       "9303   46494            1        148               2017           February   \n",
       "...      ...          ...        ...                ...                ...   \n",
       "30599  96093            0        296               2017               July   \n",
       "30652  96146            0        276               2017               July   \n",
       "30676  96170            0        291               2017               July   \n",
       "30813  96307            0        159               2017               July   \n",
       "31416  96910            0         10               2017             August   \n",
       "\n",
       "       arrival_date_week_number  arrival_date_day_of_month  \\\n",
       "7741                          1                          2   \n",
       "7749                          1                          2   \n",
       "8770                          6                          5   \n",
       "9241                          8                         22   \n",
       "9303                          8                         24   \n",
       "...                         ...                        ...   \n",
       "30599                        30                         27   \n",
       "30652                        31                         30   \n",
       "30676                        30                         29   \n",
       "30813                        31                         31   \n",
       "31416                        32                         12   \n",
       "\n",
       "       stays_in_weekend_nights  stays_in_week_nights  adults  children  \\\n",
       "7741                         1                     3       0         2   \n",
       "7749                         1                     4       0         2   \n",
       "8770                         2                     5       0         2   \n",
       "9241                         2                     4       0         2   \n",
       "9303                         2                     2       0         2   \n",
       "...                        ...                   ...     ...       ...   \n",
       "30599                        1                     3       0         2   \n",
       "30652                        2                     1       0         2   \n",
       "30676                        2                     2       0         2   \n",
       "30813                        1                     3       0         2   \n",
       "31416                        2                     2       0         3   \n",
       "\n",
       "       babies meal country distribution_channel  is_repeated_guest  \\\n",
       "7741        0   BB     RUS                TA/TO                  0   \n",
       "7749        0   BB     RUS                TA/TO                  0   \n",
       "8770        0   BB     FRA                TA/TO                  0   \n",
       "9241        0   BB     BRA                TA/TO                  0   \n",
       "9303        0   BB     BRA                TA/TO                  0   \n",
       "...       ...  ...     ...                  ...                ...   \n",
       "30599       0   BB     GBR                TA/TO                  0   \n",
       "30652       0   BB     DEU                TA/TO                  0   \n",
       "30676       0   BB     PRT                TA/TO                  0   \n",
       "30813       0   SC     FRA                TA/TO                  0   \n",
       "31416       0   BB     MAR               Direct                  0   \n",
       "\n",
       "       previous_cancellations  previous_bookings_not_canceled  \\\n",
       "7741                        0                               0   \n",
       "7749                        0                               0   \n",
       "8770                        0                               0   \n",
       "9241                        0                               0   \n",
       "9303                        0                               0   \n",
       "...                       ...                             ...   \n",
       "30599                       0                               0   \n",
       "30652                       0                               0   \n",
       "30676                       0                               0   \n",
       "30813                       0                               0   \n",
       "31416                       0                               0   \n",
       "\n",
       "      reserved_room_type  booking_changes  days_in_waiting_list  \\\n",
       "7741                   B                0                     0   \n",
       "7749                   B                0                     0   \n",
       "8770                   B                0                     0   \n",
       "9241                   B                0                     0   \n",
       "9303                   B                1                     0   \n",
       "...                  ...              ...                   ...   \n",
       "30599                  B                0                     0   \n",
       "30652                  B                1                     0   \n",
       "30676                  B                0                     0   \n",
       "30813                  A                1                     0   \n",
       "31416                  B                1                     0   \n",
       "\n",
       "         customer_type  required_car_parking_spaces  \\\n",
       "7741         Transient                            0   \n",
       "7749         Transient                            0   \n",
       "8770         Transient                            0   \n",
       "9241         Transient                            0   \n",
       "9303         Transient                            0   \n",
       "...                ...                          ...   \n",
       "30599        Transient                            0   \n",
       "30652        Transient                            0   \n",
       "30676        Transient                            0   \n",
       "30813        Transient                            0   \n",
       "31416  Transient-Party                            0   \n",
       "\n",
       "       total_of_special_requests  total_nights  \n",
       "7741                           2             4  \n",
       "7749                           1             5  \n",
       "8770                           2             7  \n",
       "9241                           1             6  \n",
       "9303                           1             4  \n",
       "...                          ...           ...  \n",
       "30599                          1             4  \n",
       "30652                          2             3  \n",
       "30676                          1             4  \n",
       "30813                          1             4  \n",
       "31416                          1             4  \n",
       "\n",
       "[69 rows x 25 columns]"
      ]
     },
     "execution_count": 34,
     "metadata": {},
     "output_type": "execute_result"
    }
   ],
   "source": [
    "hotels_test.query('adults < 1')"
   ]
  },
  {
   "cell_type": "markdown",
   "metadata": {},
   "source": [
    "We've found 166 strings in training dataset and 69 in test dataset. We'll delete them.\n",
    "Нашли 166 строк в тренировочном датасете и 69 в тестовом. Удалим их."
   ]
  },
  {
   "cell_type": "code",
   "execution_count": 35,
   "metadata": {},
   "outputs": [],
   "source": [
    "hotels_train = hotels_train.query('adults > 0').reset_index(drop=True)\n",
    "hotels_test = hotels_test.query('adults > 0').reset_index(drop=True)"
   ]
  },
  {
   "cell_type": "markdown",
   "metadata": {},
   "source": [
    "### Preprocessing conclusion\n",
    "\n",
    "We've checked datasets for missing values, duplicates, anomalies also cheched if data types in columns are correct.\n",
    "\n",
    "- There were no missing values in the data.\n",
    "- We check both explicit and implicit duplicates.\n",
    " - No explicit duplicates were found.\n",
    " - We've found implicit duplicates in column `meal` also this column was incorrectly filled. Same problems had column `reserved_room_type`. We've fixed it, now there are no duplicates in the data.\n",
    "- We've revealed anomalies in three columns `babies`, `required_car_parking_spaces` and `adults`. In total 239 abnormal strings, 168 - from training dataset and 71 - from test dataset. We've deleted these strings.\n",
    "\n",
    "Now the prepocessing is finished. We can start Exploratory Data Analysis."
   ]
  },
  {
   "cell_type": "markdown",
   "metadata": {},
   "source": [
    "### Exploratory Data Analysis"
   ]
  },
  {
   "cell_type": "markdown",
   "metadata": {},
   "source": [
    "**Booking cancellation**\n",
    "\n",
    "We'll take a look at canceled, not canceled booking ratio."
   ]
  },
  {
   "cell_type": "code",
   "execution_count": 36,
   "metadata": {},
   "outputs": [
    {
     "name": "stdout",
     "output_type": "stream",
     "text": [
      "0    0.631177\n",
      "1    0.368823\n",
      "Name: is_canceled, dtype: float64\n"
     ]
    },
    {
     "data": {
      "image/png": "[encoded data removed]",
      "text/plain": [
       "<Figure size 432x288 with 1 Axes>"
      ]
     },
     "metadata": {
      "needs_background": "light"
     },
     "output_type": "display_data"
    }
   ],
   "source": [
    "class_frequency = hotels_train['is_canceled'].value_counts(normalize=True)\n",
    "print(class_frequency)\n",
    "class_frequency.plot(kind='bar');"
   ]
  },
  {
   "cell_type": "code",
   "execution_count": 37,
   "metadata": {},
   "outputs": [
    {
     "name": "stdout",
     "output_type": "stream",
     "text": [
      "0    0.611638\n",
      "1    0.388362\n",
      "Name: is_canceled, dtype: float64\n"
     ]
    },
    {
     "data": {
      "image/png": "[encoded data removed]",
      "text/plain": [
       "<Figure size 432x288 with 1 Axes>"
      ]
     },
     "metadata": {
      "needs_background": "light"
     },
     "output_type": "display_data"
    }
   ],
   "source": [
    "class_frequency = hotels_test['is_canceled'].value_counts(normalize=True)\n",
    "print(class_frequency)\n",
    "class_frequency.plot(kind='bar');"
   ]
  },
  {
   "cell_type": "markdown",
   "metadata": {},
   "source": [
    "There is a slight class disbalance, but it's not critical. 63% and 61% are not canceled bookings in training and test datasets respectively. 37% and 39% - canceled.\n",
    "\n",
    "**Time between booking and arrival**\n",
    "\n",
    "We'll make histograms and take a look how values are disturbed in column `lead_time`"
   ]
  },
  {
   "cell_type": "code",
   "execution_count": 38,
   "metadata": {},
   "outputs": [
    {
     "data": {
      "image/png": "[encoded data removed]",
      "text/plain": [
       "<Figure size 432x288 with 1 Axes>"
      ]
     },
     "metadata": {
      "needs_background": "light"
     },
     "output_type": "display_data"
    }
   ],
   "source": [
    "fig, ax = plt.subplots()\n",
    "ax.hist(hotels_train['lead_time'], bins=15);\n",
    "ax.set_title('Time between booking and arrival')\n",
    "ax.set_xlabel('Days')\n",
    "ax.set_ylabel('Amount')\n",
    "plt.show()"
   ]
  },
  {
   "cell_type": "code",
   "execution_count": 39,
   "metadata": {
    "scrolled": true
   },
   "outputs": [
    {
     "data": {
      "image/png": "[encoded data removed]",
      "text/plain": [
       "<Figure size 432x288 with 1 Axes>"
      ]
     },
     "metadata": {
      "needs_background": "light"
     },
     "output_type": "display_data"
    }
   ],
   "source": [
    "fig, ax = plt.subplots()\n",
    "ax.hist(hotels_test['lead_time'], bins=15);\n",
    "ax.set_title('Time between booking and arrival')\n",
    "ax.set_xlabel('Days')\n",
    "ax.set_ylabel('Amount')\n",
    "plt.show()"
   ]
  },
  {
   "cell_type": "markdown",
   "metadata": {},
   "source": [
    "We can see that the most of the values are located closer towards 0 days and there is a long tail towards a year. This kind of distribution looks logical for this column."
   ]
  },
  {
   "cell_type": "markdown",
   "metadata": {},
   "source": [
    "**Arrival month**\n",
    "\n",
    "Let's take a look which months are the most popular and which are less."
   ]
  },
  {
   "cell_type": "code",
   "execution_count": 40,
   "metadata": {
    "scrolled": false
   },
   "outputs": [
    {
     "data": {
      "image/png": "[encoded data removed]",
      "text/plain": [
       "<Figure size 1080x504 with 1 Axes>"
      ]
     },
     "metadata": {},
     "output_type": "display_data"
    }
   ],
   "source": [
    "sns.set(style=\"darkgrid\")\n",
    "\n",
    "plt.figure(figsize=(15, 7))\n",
    "sns.barplot(\n",
    "    x='arrival_date_month', \n",
    "    y=hotels_train.index, \n",
    "    data=hotels_train, \n",
    "    estimator=len, \n",
    "    ci=None, \n",
    "    color='#69b3a2');\n",
    "plt.title('Arrival month');\n",
    "plt.xlabel('Month');\n",
    "plt.ylabel('Amount');"
   ]
  },
  {
   "cell_type": "code",
   "execution_count": 41,
   "metadata": {
    "scrolled": false
   },
   "outputs": [
    {
     "data": {
      "image/png": "[encoded data removed]",
      "text/plain": [
       "<Figure size 1080x504 with 1 Axes>"
      ]
     },
     "metadata": {},
     "output_type": "display_data"
    }
   ],
   "source": [
    "sns.set(style=\"darkgrid\")\n",
    "\n",
    "plt.figure(figsize=(15, 7))\n",
    "sns.barplot(\n",
    "    x='arrival_date_month', \n",
    "    y=hotels_test.index, \n",
    "    data=hotels_test, \n",
    "    estimator=len, \n",
    "    ci=None, \n",
    "    color='#69b3a2');\n",
    "plt.title('Arrival month');\n",
    "plt.xlabel('Month');\n",
    "plt.ylabel('Amount');"
   ]
  },
  {
   "cell_type": "markdown",
   "metadata": {},
   "source": [
    "First two months of autumn are the most popular, and January and Februare are the least popular. Such conclusion we can make based on training data. In the test dataset we have data only for first 8 months.\n",
    "\n",
    "Let's take a look for the months with the most cancelations."
   ]
  },
  {
   "cell_type": "code",
   "execution_count": 42,
   "metadata": {},
   "outputs": [
    {
     "data": {
      "text/html": [
       "<div>\n",
       "<style scoped>\n",
       "    .dataframe tbody tr th:only-of-type {\n",
       "        vertical-align: middle;\n",
       "    }\n",
       "\n",
       "    .dataframe tbody tr th {\n",
       "        vertical-align: top;\n",
       "    }\n",
       "\n",
       "    .dataframe thead th {\n",
       "        text-align: right;\n",
       "    }\n",
       "</style>\n",
       "<table border=\"1\" class=\"dataframe\">\n",
       "  <thead>\n",
       "    <tr style=\"text-align: right;\">\n",
       "      <th></th>\n",
       "      <th>is_canceled</th>\n",
       "    </tr>\n",
       "    <tr>\n",
       "      <th>arrival_date_month</th>\n",
       "      <th></th>\n",
       "    </tr>\n",
       "  </thead>\n",
       "  <tbody>\n",
       "    <tr>\n",
       "      <th>June</th>\n",
       "      <td>0.414750</td>\n",
       "    </tr>\n",
       "    <tr>\n",
       "      <th>September</th>\n",
       "      <td>0.396762</td>\n",
       "    </tr>\n",
       "    <tr>\n",
       "      <th>April</th>\n",
       "      <td>0.392909</td>\n",
       "    </tr>\n",
       "    <tr>\n",
       "      <th>August</th>\n",
       "      <td>0.389499</td>\n",
       "    </tr>\n",
       "    <tr>\n",
       "      <th>July</th>\n",
       "      <td>0.388704</td>\n",
       "    </tr>\n",
       "    <tr>\n",
       "      <th>October</th>\n",
       "      <td>0.385798</td>\n",
       "    </tr>\n",
       "    <tr>\n",
       "      <th>May</th>\n",
       "      <td>0.358046</td>\n",
       "    </tr>\n",
       "    <tr>\n",
       "      <th>February</th>\n",
       "      <td>0.352572</td>\n",
       "    </tr>\n",
       "    <tr>\n",
       "      <th>December</th>\n",
       "      <td>0.348302</td>\n",
       "    </tr>\n",
       "    <tr>\n",
       "      <th>November</th>\n",
       "      <td>0.316348</td>\n",
       "    </tr>\n",
       "    <tr>\n",
       "      <th>March</th>\n",
       "      <td>0.307395</td>\n",
       "    </tr>\n",
       "    <tr>\n",
       "      <th>January</th>\n",
       "      <td>0.257842</td>\n",
       "    </tr>\n",
       "  </tbody>\n",
       "</table>\n",
       "</div>"
      ],
      "text/plain": [
       "                    is_canceled\n",
       "arrival_date_month             \n",
       "June                   0.414750\n",
       "September              0.396762\n",
       "April                  0.392909\n",
       "August                 0.389499\n",
       "July                   0.388704\n",
       "October                0.385798\n",
       "May                    0.358046\n",
       "February               0.352572\n",
       "December               0.348302\n",
       "November               0.316348\n",
       "March                  0.307395\n",
       "January                0.257842"
      ]
     },
     "execution_count": 42,
     "metadata": {},
     "output_type": "execute_result"
    }
   ],
   "source": [
    "hotels_train.pivot_table(index='arrival_date_month',\n",
    "                         values='is_canceled',\n",
    "                         aggfunc='mean') \\\n",
    ".sort_values(by='is_canceled', ascending=False)"
   ]
  },
  {
   "cell_type": "code",
   "execution_count": 43,
   "metadata": {},
   "outputs": [
    {
     "data": {
      "text/html": [
       "<div>\n",
       "<style scoped>\n",
       "    .dataframe tbody tr th:only-of-type {\n",
       "        vertical-align: middle;\n",
       "    }\n",
       "\n",
       "    .dataframe tbody tr th {\n",
       "        vertical-align: top;\n",
       "    }\n",
       "\n",
       "    .dataframe thead th {\n",
       "        text-align: right;\n",
       "    }\n",
       "</style>\n",
       "<table border=\"1\" class=\"dataframe\">\n",
       "  <thead>\n",
       "    <tr style=\"text-align: right;\">\n",
       "      <th></th>\n",
       "      <th>is_canceled</th>\n",
       "    </tr>\n",
       "    <tr>\n",
       "      <th>arrival_date_month</th>\n",
       "      <th></th>\n",
       "    </tr>\n",
       "  </thead>\n",
       "  <tbody>\n",
       "    <tr>\n",
       "      <th>June</th>\n",
       "      <td>0.448623</td>\n",
       "    </tr>\n",
       "    <tr>\n",
       "      <th>April</th>\n",
       "      <td>0.445427</td>\n",
       "    </tr>\n",
       "    <tr>\n",
       "      <th>May</th>\n",
       "      <td>0.439558</td>\n",
       "    </tr>\n",
       "    <tr>\n",
       "      <th>July</th>\n",
       "      <td>0.367313</td>\n",
       "    </tr>\n",
       "    <tr>\n",
       "      <th>August</th>\n",
       "      <td>0.355642</td>\n",
       "    </tr>\n",
       "    <tr>\n",
       "      <th>January</th>\n",
       "      <td>0.340229</td>\n",
       "    </tr>\n",
       "    <tr>\n",
       "      <th>March</th>\n",
       "      <td>0.329348</td>\n",
       "    </tr>\n",
       "    <tr>\n",
       "      <th>February</th>\n",
       "      <td>0.319955</td>\n",
       "    </tr>\n",
       "  </tbody>\n",
       "</table>\n",
       "</div>"
      ],
      "text/plain": [
       "                    is_canceled\n",
       "arrival_date_month             \n",
       "June                   0.448623\n",
       "April                  0.445427\n",
       "May                    0.439558\n",
       "July                   0.367313\n",
       "August                 0.355642\n",
       "January                0.340229\n",
       "March                  0.329348\n",
       "February               0.319955"
      ]
     },
     "execution_count": 43,
     "metadata": {},
     "output_type": "execute_result"
    }
   ],
   "source": [
    "hotels_test.pivot_table(index='arrival_date_month',\n",
    "                         values='is_canceled',\n",
    "                         aggfunc='mean') \\\n",
    ".sort_values(by='is_canceled', ascending=False)"
   ]
  },
  {
   "cell_type": "markdown",
   "metadata": {},
   "source": [
    "The most often booking was canceled in June and April. The less - in the beginning of the year: January, February, March."
   ]
  },
  {
   "cell_type": "markdown",
   "metadata": {},
   "source": [
    "**Repeated clients**\n",
    "\n",
    "Let's take a look for amount of repeated clients and the connection with booking cancellation."
   ]
  },
  {
   "cell_type": "code",
   "execution_count": 44,
   "metadata": {
    "scrolled": false
   },
   "outputs": [
    {
     "data": {
      "image/png": "[encoded data removed]",
      "text/plain": [
       "<Figure size 1080x504 with 1 Axes>"
      ]
     },
     "metadata": {},
     "output_type": "display_data"
    }
   ],
   "source": [
    "sns.set(style=\"darkgrid\")\n",
    "\n",
    "plt.figure(figsize=(15, 7))\n",
    "sns.barplot(\n",
    "    x='is_repeated_guest', \n",
    "    y=hotels_train.index, \n",
    "    data=hotels_train, \n",
    "    estimator=len, \n",
    "    ci=None, \n",
    "    color='#69b3a2');\n",
    "plt.title('Repeated clients');\n",
    "plt.xlabel('Repeated client (1 - True, 0 - False)');\n",
    "plt.ylabel('Amount');"
   ]
  },
  {
   "cell_type": "code",
   "execution_count": 45,
   "metadata": {
    "scrolled": false
   },
   "outputs": [
    {
     "data": {
      "image/png": "[encoded data removed]",
      "text/plain": [
       "<Figure size 1080x504 with 1 Axes>"
      ]
     },
     "metadata": {},
     "output_type": "display_data"
    }
   ],
   "source": [
    "sns.set(style=\"darkgrid\")\n",
    "\n",
    "plt.figure(figsize=(15, 7))\n",
    "sns.barplot(\n",
    "    x='is_repeated_guest', \n",
    "    y=hotels_test.index, \n",
    "    data=hotels_test, \n",
    "    estimator=len, \n",
    "    ci=None, \n",
    "    color='#69b3a2');\n",
    "plt.title('Repeated clients');\n",
    "plt.xlabel('Repeated client (1 - True, 0 - False)');\n",
    "plt.ylabel('Amount');"
   ]
  },
  {
   "cell_type": "code",
   "execution_count": 46,
   "metadata": {},
   "outputs": [
    {
     "data": {
      "text/html": [
       "<div>\n",
       "<style scoped>\n",
       "    .dataframe tbody tr th:only-of-type {\n",
       "        vertical-align: middle;\n",
       "    }\n",
       "\n",
       "    .dataframe tbody tr th {\n",
       "        vertical-align: top;\n",
       "    }\n",
       "\n",
       "    .dataframe thead th {\n",
       "        text-align: right;\n",
       "    }\n",
       "</style>\n",
       "<table border=\"1\" class=\"dataframe\">\n",
       "  <thead>\n",
       "    <tr style=\"text-align: right;\">\n",
       "      <th></th>\n",
       "      <th>is_canceled</th>\n",
       "    </tr>\n",
       "    <tr>\n",
       "      <th>is_repeated_guest</th>\n",
       "      <th></th>\n",
       "    </tr>\n",
       "  </thead>\n",
       "  <tbody>\n",
       "    <tr>\n",
       "      <th>0</th>\n",
       "      <td>0.372075</td>\n",
       "    </tr>\n",
       "    <tr>\n",
       "      <th>1</th>\n",
       "      <td>0.252542</td>\n",
       "    </tr>\n",
       "  </tbody>\n",
       "</table>\n",
       "</div>"
      ],
      "text/plain": [
       "                   is_canceled\n",
       "is_repeated_guest             \n",
       "0                     0.372075\n",
       "1                     0.252542"
      ]
     },
     "execution_count": 46,
     "metadata": {},
     "output_type": "execute_result"
    }
   ],
   "source": [
    "hotels_train.pivot_table(index='is_repeated_guest',\n",
    "                         values='is_canceled',\n",
    "                         aggfunc='mean') \\\n",
    ".sort_values(by='is_canceled', ascending=False)"
   ]
  },
  {
   "cell_type": "code",
   "execution_count": 47,
   "metadata": {},
   "outputs": [
    {
     "data": {
      "text/html": [
       "<div>\n",
       "<style scoped>\n",
       "    .dataframe tbody tr th:only-of-type {\n",
       "        vertical-align: middle;\n",
       "    }\n",
       "\n",
       "    .dataframe tbody tr th {\n",
       "        vertical-align: top;\n",
       "    }\n",
       "\n",
       "    .dataframe thead th {\n",
       "        text-align: right;\n",
       "    }\n",
       "</style>\n",
       "<table border=\"1\" class=\"dataframe\">\n",
       "  <thead>\n",
       "    <tr style=\"text-align: right;\">\n",
       "      <th></th>\n",
       "      <th>is_canceled</th>\n",
       "    </tr>\n",
       "    <tr>\n",
       "      <th>is_repeated_guest</th>\n",
       "      <th></th>\n",
       "    </tr>\n",
       "  </thead>\n",
       "  <tbody>\n",
       "    <tr>\n",
       "      <th>0</th>\n",
       "      <td>0.399355</td>\n",
       "    </tr>\n",
       "    <tr>\n",
       "      <th>1</th>\n",
       "      <td>0.048371</td>\n",
       "    </tr>\n",
       "  </tbody>\n",
       "</table>\n",
       "</div>"
      ],
      "text/plain": [
       "                   is_canceled\n",
       "is_repeated_guest             \n",
       "0                     0.399355\n",
       "1                     0.048371"
      ]
     },
     "execution_count": 47,
     "metadata": {},
     "output_type": "execute_result"
    }
   ],
   "source": [
    "hotels_test.pivot_table(index='is_repeated_guest',\n",
    "                         values='is_canceled',\n",
    "                         aggfunc='mean') \\\n",
    ".sort_values(by='is_canceled', ascending=False)"
   ]
  },
  {
   "cell_type": "markdown",
   "metadata": {},
   "source": [
    "Most of the client book for the first time. Those clients who are booking not for the first time are less likely to cancel."
   ]
  },
  {
   "cell_type": "markdown",
   "metadata": {},
   "source": [
    "**Total amount of nights**\n",
    "\n",
    "Let's check is there a connection between amount of nights and cancellation."
   ]
  },
  {
   "cell_type": "code",
   "execution_count": 48,
   "metadata": {},
   "outputs": [
    {
     "data": {
      "text/html": [
       "<div>\n",
       "<style scoped>\n",
       "    .dataframe tbody tr th:only-of-type {\n",
       "        vertical-align: middle;\n",
       "    }\n",
       "\n",
       "    .dataframe tbody tr th {\n",
       "        vertical-align: top;\n",
       "    }\n",
       "\n",
       "    .dataframe thead th {\n",
       "        text-align: right;\n",
       "    }\n",
       "</style>\n",
       "<table border=\"1\" class=\"dataframe\">\n",
       "  <thead>\n",
       "    <tr style=\"text-align: right;\">\n",
       "      <th></th>\n",
       "      <th>is_canceled</th>\n",
       "    </tr>\n",
       "    <tr>\n",
       "      <th>total_nights</th>\n",
       "      <th></th>\n",
       "    </tr>\n",
       "  </thead>\n",
       "  <tbody>\n",
       "    <tr>\n",
       "      <th>2</th>\n",
       "      <td>0.451542</td>\n",
       "    </tr>\n",
       "    <tr>\n",
       "      <th>6</th>\n",
       "      <td>0.410740</td>\n",
       "    </tr>\n",
       "    <tr>\n",
       "      <th>9</th>\n",
       "      <td>0.403974</td>\n",
       "    </tr>\n",
       "    <tr>\n",
       "      <th>3</th>\n",
       "      <td>0.402319</td>\n",
       "    </tr>\n",
       "    <tr>\n",
       "      <th>4</th>\n",
       "      <td>0.349771</td>\n",
       "    </tr>\n",
       "    <tr>\n",
       "      <th>8</th>\n",
       "      <td>0.338262</td>\n",
       "    </tr>\n",
       "    <tr>\n",
       "      <th>10</th>\n",
       "      <td>0.322034</td>\n",
       "    </tr>\n",
       "    <tr>\n",
       "      <th>7</th>\n",
       "      <td>0.318087</td>\n",
       "    </tr>\n",
       "    <tr>\n",
       "      <th>5</th>\n",
       "      <td>0.313188</td>\n",
       "    </tr>\n",
       "    <tr>\n",
       "      <th>1</th>\n",
       "      <td>0.256095</td>\n",
       "    </tr>\n",
       "  </tbody>\n",
       "</table>\n",
       "</div>"
      ],
      "text/plain": [
       "              is_canceled\n",
       "total_nights             \n",
       "2                0.451542\n",
       "6                0.410740\n",
       "9                0.403974\n",
       "3                0.402319\n",
       "4                0.349771\n",
       "8                0.338262\n",
       "10               0.322034\n",
       "7                0.318087\n",
       "5                0.313188\n",
       "1                0.256095"
      ]
     },
     "execution_count": 48,
     "metadata": {},
     "output_type": "execute_result"
    }
   ],
   "source": [
    "hotels_train.pivot_table(index='total_nights',\n",
    "                         values='is_canceled',\n",
    "                         aggfunc='mean') \\\n",
    ".sort_values(by='is_canceled', ascending=False)"
   ]
  },
  {
   "cell_type": "code",
   "execution_count": 49,
   "metadata": {},
   "outputs": [
    {
     "data": {
      "text/html": [
       "<div>\n",
       "<style scoped>\n",
       "    .dataframe tbody tr th:only-of-type {\n",
       "        vertical-align: middle;\n",
       "    }\n",
       "\n",
       "    .dataframe tbody tr th {\n",
       "        vertical-align: top;\n",
       "    }\n",
       "\n",
       "    .dataframe thead th {\n",
       "        text-align: right;\n",
       "    }\n",
       "</style>\n",
       "<table border=\"1\" class=\"dataframe\">\n",
       "  <thead>\n",
       "    <tr style=\"text-align: right;\">\n",
       "      <th></th>\n",
       "      <th>is_canceled</th>\n",
       "    </tr>\n",
       "    <tr>\n",
       "      <th>total_nights</th>\n",
       "      <th></th>\n",
       "    </tr>\n",
       "  </thead>\n",
       "  <tbody>\n",
       "    <tr>\n",
       "      <th>3</th>\n",
       "      <td>0.457214</td>\n",
       "    </tr>\n",
       "    <tr>\n",
       "      <th>2</th>\n",
       "      <td>0.424067</td>\n",
       "    </tr>\n",
       "    <tr>\n",
       "      <th>8</th>\n",
       "      <td>0.415094</td>\n",
       "    </tr>\n",
       "    <tr>\n",
       "      <th>4</th>\n",
       "      <td>0.390181</td>\n",
       "    </tr>\n",
       "    <tr>\n",
       "      <th>5</th>\n",
       "      <td>0.383430</td>\n",
       "    </tr>\n",
       "    <tr>\n",
       "      <th>6</th>\n",
       "      <td>0.377540</td>\n",
       "    </tr>\n",
       "    <tr>\n",
       "      <th>7</th>\n",
       "      <td>0.365950</td>\n",
       "    </tr>\n",
       "    <tr>\n",
       "      <th>10</th>\n",
       "      <td>0.345455</td>\n",
       "    </tr>\n",
       "    <tr>\n",
       "      <th>9</th>\n",
       "      <td>0.290323</td>\n",
       "    </tr>\n",
       "    <tr>\n",
       "      <th>1</th>\n",
       "      <td>0.250367</td>\n",
       "    </tr>\n",
       "  </tbody>\n",
       "</table>\n",
       "</div>"
      ],
      "text/plain": [
       "              is_canceled\n",
       "total_nights             \n",
       "3                0.457214\n",
       "2                0.424067\n",
       "8                0.415094\n",
       "4                0.390181\n",
       "5                0.383430\n",
       "6                0.377540\n",
       "7                0.365950\n",
       "10               0.345455\n",
       "9                0.290323\n",
       "1                0.250367"
      ]
     },
     "execution_count": 49,
     "metadata": {},
     "output_type": "execute_result"
    }
   ],
   "source": [
    "hotels_test.pivot_table(index='total_nights',\n",
    "                         values='is_canceled',\n",
    "                         aggfunc='mean') \\\n",
    ".sort_values(by='is_canceled', ascending=False)"
   ]
  },
  {
   "cell_type": "markdown",
   "metadata": {},
   "source": [
    "Results in both datasets are different, but the is a one common feature. Those who book for one night are less likely to cancel."
   ]
  },
  {
   "cell_type": "code",
   "execution_count": 50,
   "metadata": {},
   "outputs": [],
   "source": [
    "train_plot = hotels_train.groupby('total_nights').agg(mean=('is_canceled', 'mean'))\n",
    "test_plot = hotels_test.groupby('total_nights').agg(mean=('is_canceled', 'mean'))"
   ]
  },
  {
   "cell_type": "code",
   "execution_count": 51,
   "metadata": {},
   "outputs": [
    {
     "data": {
      "image/png": "[encoded data removed]",
      "text/plain": [
       "<Figure size 1080x504 with 1 Axes>"
      ]
     },
     "metadata": {},
     "output_type": "display_data"
    }
   ],
   "source": [
    "sns.set(style=\"darkgrid\")\n",
    "plt.figure(figsize=(15, 7))\n",
    "\n",
    "sns.barplot(\n",
    "    x=train_plot.index, \n",
    "    y='mean', \n",
    "    data=train_plot, \n",
    "    estimator=sum, \n",
    "    ci=None,\n",
    "    alpha=0.6,\n",
    "    color='green');\n",
    "\n",
    "\n",
    "sns.barplot(\n",
    "    x=test_plot.index, \n",
    "    y='mean', \n",
    "    data=test_plot, \n",
    "    estimator=sum, \n",
    "    ci=None,\n",
    "    alpha=0.6,\n",
    "    color='blue');\n",
    "\n",
    "plt.title('Amount of nights to cancelation ratio');\n",
    "plt.xlabel('Nights');\n",
    "plt.ylabel('Cancellation rate');"
   ]
  },
  {
   "cell_type": "markdown",
   "metadata": {},
   "source": [
    "**Distribution channel**\n",
    "\n",
    "We're going to check if distribution channel has effect on cancellation."
   ]
  },
  {
   "cell_type": "code",
   "execution_count": 52,
   "metadata": {},
   "outputs": [
    {
     "data": {
      "text/html": [
       "<div>\n",
       "<style scoped>\n",
       "    .dataframe tbody tr th:only-of-type {\n",
       "        vertical-align: middle;\n",
       "    }\n",
       "\n",
       "    .dataframe tbody tr th {\n",
       "        vertical-align: top;\n",
       "    }\n",
       "\n",
       "    .dataframe thead th {\n",
       "        text-align: right;\n",
       "    }\n",
       "</style>\n",
       "<table border=\"1\" class=\"dataframe\">\n",
       "  <thead>\n",
       "    <tr style=\"text-align: right;\">\n",
       "      <th></th>\n",
       "      <th>is_canceled</th>\n",
       "    </tr>\n",
       "    <tr>\n",
       "      <th>distribution_channel</th>\n",
       "      <th></th>\n",
       "    </tr>\n",
       "  </thead>\n",
       "  <tbody>\n",
       "    <tr>\n",
       "      <th>TA/TO</th>\n",
       "      <td>0.404401</td>\n",
       "    </tr>\n",
       "    <tr>\n",
       "      <th>Corporate</th>\n",
       "      <td>0.217482</td>\n",
       "    </tr>\n",
       "    <tr>\n",
       "      <th>GDS</th>\n",
       "      <td>0.191919</td>\n",
       "    </tr>\n",
       "    <tr>\n",
       "      <th>Direct</th>\n",
       "      <td>0.173181</td>\n",
       "    </tr>\n",
       "  </tbody>\n",
       "</table>\n",
       "</div>"
      ],
      "text/plain": [
       "                      is_canceled\n",
       "distribution_channel             \n",
       "TA/TO                    0.404401\n",
       "Corporate                0.217482\n",
       "GDS                      0.191919\n",
       "Direct                   0.173181"
      ]
     },
     "execution_count": 52,
     "metadata": {},
     "output_type": "execute_result"
    }
   ],
   "source": [
    "hotels_train.pivot_table(index='distribution_channel',\n",
    "                         values='is_canceled',\n",
    "                         aggfunc='mean') \\\n",
    ".sort_values(by='is_canceled', ascending=False)"
   ]
  },
  {
   "cell_type": "code",
   "execution_count": 53,
   "metadata": {},
   "outputs": [
    {
     "data": {
      "text/html": [
       "<div>\n",
       "<style scoped>\n",
       "    .dataframe tbody tr th:only-of-type {\n",
       "        vertical-align: middle;\n",
       "    }\n",
       "\n",
       "    .dataframe tbody tr th {\n",
       "        vertical-align: top;\n",
       "    }\n",
       "\n",
       "    .dataframe thead th {\n",
       "        text-align: right;\n",
       "    }\n",
       "</style>\n",
       "<table border=\"1\" class=\"dataframe\">\n",
       "  <thead>\n",
       "    <tr style=\"text-align: right;\">\n",
       "      <th></th>\n",
       "      <th>is_canceled</th>\n",
       "    </tr>\n",
       "    <tr>\n",
       "      <th>distribution_channel</th>\n",
       "      <th></th>\n",
       "    </tr>\n",
       "  </thead>\n",
       "  <tbody>\n",
       "    <tr>\n",
       "      <th>TA/TO</th>\n",
       "      <td>0.426081</td>\n",
       "    </tr>\n",
       "    <tr>\n",
       "      <th>Corporate</th>\n",
       "      <td>0.256410</td>\n",
       "    </tr>\n",
       "    <tr>\n",
       "      <th>Direct</th>\n",
       "      <td>0.171161</td>\n",
       "    </tr>\n",
       "    <tr>\n",
       "      <th>GDS</th>\n",
       "      <td>0.164706</td>\n",
       "    </tr>\n",
       "  </tbody>\n",
       "</table>\n",
       "</div>"
      ],
      "text/plain": [
       "                      is_canceled\n",
       "distribution_channel             \n",
       "TA/TO                    0.426081\n",
       "Corporate                0.256410\n",
       "Direct                   0.171161\n",
       "GDS                      0.164706"
      ]
     },
     "execution_count": 53,
     "metadata": {},
     "output_type": "execute_result"
    }
   ],
   "source": [
    "hotels_test.pivot_table(index='distribution_channel',\n",
    "                         values='is_canceled',\n",
    "                         aggfunc='mean') \\\n",
    ".sort_values(by='is_canceled', ascending=False)"
   ]
  },
  {
   "cell_type": "markdown",
   "metadata": {},
   "source": [
    "Result with both datasets are approximately the same. TA/TO is the most unreliable channel. Direct и GDS are the most reliable. Corporate is closer towards Direct and GDS."
   ]
  },
  {
   "cell_type": "markdown",
   "metadata": {},
   "source": [
    "**Customer type**\n",
    "\n",
    "Let's check if customer type has an impact on cancellations."
   ]
  },
  {
   "cell_type": "code",
   "execution_count": 54,
   "metadata": {},
   "outputs": [
    {
     "data": {
      "text/html": [
       "<div>\n",
       "<style scoped>\n",
       "    .dataframe tbody tr th:only-of-type {\n",
       "        vertical-align: middle;\n",
       "    }\n",
       "\n",
       "    .dataframe tbody tr th {\n",
       "        vertical-align: top;\n",
       "    }\n",
       "\n",
       "    .dataframe thead th {\n",
       "        text-align: right;\n",
       "    }\n",
       "</style>\n",
       "<table border=\"1\" class=\"dataframe\">\n",
       "  <thead>\n",
       "    <tr style=\"text-align: right;\">\n",
       "      <th></th>\n",
       "      <th>is_canceled</th>\n",
       "    </tr>\n",
       "    <tr>\n",
       "      <th>customer_type</th>\n",
       "      <th></th>\n",
       "    </tr>\n",
       "  </thead>\n",
       "  <tbody>\n",
       "    <tr>\n",
       "      <th>Contract</th>\n",
       "      <td>0.397086</td>\n",
       "    </tr>\n",
       "    <tr>\n",
       "      <th>Transient</th>\n",
       "      <td>0.396269</td>\n",
       "    </tr>\n",
       "    <tr>\n",
       "      <th>Transient-Party</th>\n",
       "      <td>0.294125</td>\n",
       "    </tr>\n",
       "    <tr>\n",
       "      <th>Group</th>\n",
       "      <td>0.083916</td>\n",
       "    </tr>\n",
       "  </tbody>\n",
       "</table>\n",
       "</div>"
      ],
      "text/plain": [
       "                 is_canceled\n",
       "customer_type               \n",
       "Contract            0.397086\n",
       "Transient           0.396269\n",
       "Transient-Party     0.294125\n",
       "Group               0.083916"
      ]
     },
     "execution_count": 54,
     "metadata": {},
     "output_type": "execute_result"
    }
   ],
   "source": [
    "hotels_train.pivot_table(index='customer_type',\n",
    "                         values='is_canceled',\n",
    "                         aggfunc='mean') \\\n",
    ".sort_values(by='is_canceled', ascending=False)"
   ]
  },
  {
   "cell_type": "code",
   "execution_count": 55,
   "metadata": {},
   "outputs": [
    {
     "data": {
      "text/html": [
       "<div>\n",
       "<style scoped>\n",
       "    .dataframe tbody tr th:only-of-type {\n",
       "        vertical-align: middle;\n",
       "    }\n",
       "\n",
       "    .dataframe tbody tr th {\n",
       "        vertical-align: top;\n",
       "    }\n",
       "\n",
       "    .dataframe thead th {\n",
       "        text-align: right;\n",
       "    }\n",
       "</style>\n",
       "<table border=\"1\" class=\"dataframe\">\n",
       "  <thead>\n",
       "    <tr style=\"text-align: right;\">\n",
       "      <th></th>\n",
       "      <th>is_canceled</th>\n",
       "    </tr>\n",
       "    <tr>\n",
       "      <th>customer_type</th>\n",
       "      <th></th>\n",
       "    </tr>\n",
       "  </thead>\n",
       "  <tbody>\n",
       "    <tr>\n",
       "      <th>Transient</th>\n",
       "      <td>0.429692</td>\n",
       "    </tr>\n",
       "    <tr>\n",
       "      <th>Transient-Party</th>\n",
       "      <td>0.165987</td>\n",
       "    </tr>\n",
       "    <tr>\n",
       "      <th>Contract</th>\n",
       "      <td>0.125348</td>\n",
       "    </tr>\n",
       "    <tr>\n",
       "      <th>Group</th>\n",
       "      <td>0.048485</td>\n",
       "    </tr>\n",
       "  </tbody>\n",
       "</table>\n",
       "</div>"
      ],
      "text/plain": [
       "                 is_canceled\n",
       "customer_type               \n",
       "Transient           0.429692\n",
       "Transient-Party     0.165987\n",
       "Contract            0.125348\n",
       "Group               0.048485"
      ]
     },
     "execution_count": 55,
     "metadata": {},
     "output_type": "execute_result"
    }
   ],
   "source": [
    "hotels_test.pivot_table(index='customer_type',\n",
    "                         values='is_canceled',\n",
    "                         aggfunc='mean') \\\n",
    ".sort_values(by='is_canceled', ascending=False)"
   ]
  },
  {
   "cell_type": "markdown",
   "metadata": {},
   "source": [
    "We can make a conclusion that the group check-in is the most reliable type. Other types are quite different, we can't make any unambiguous conclusions based on the data we have."
   ]
  },
  {
   "cell_type": "markdown",
   "metadata": {},
   "source": [
    "**Special requests**\n",
    "\n",
    "Let's check if special requests have an imapct on cancellations."
   ]
  },
  {
   "cell_type": "code",
   "execution_count": 56,
   "metadata": {},
   "outputs": [
    {
     "data": {
      "text/html": [
       "<div>\n",
       "<style scoped>\n",
       "    .dataframe tbody tr th:only-of-type {\n",
       "        vertical-align: middle;\n",
       "    }\n",
       "\n",
       "    .dataframe tbody tr th {\n",
       "        vertical-align: top;\n",
       "    }\n",
       "\n",
       "    .dataframe thead th {\n",
       "        text-align: right;\n",
       "    }\n",
       "</style>\n",
       "<table border=\"1\" class=\"dataframe\">\n",
       "  <thead>\n",
       "    <tr style=\"text-align: right;\">\n",
       "      <th></th>\n",
       "      <th>is_canceled</th>\n",
       "    </tr>\n",
       "    <tr>\n",
       "      <th>total_of_special_requests</th>\n",
       "      <th></th>\n",
       "    </tr>\n",
       "  </thead>\n",
       "  <tbody>\n",
       "    <tr>\n",
       "      <th>0</th>\n",
       "      <td>0.479599</td>\n",
       "    </tr>\n",
       "    <tr>\n",
       "      <th>3</th>\n",
       "      <td>0.196307</td>\n",
       "    </tr>\n",
       "    <tr>\n",
       "      <th>2</th>\n",
       "      <td>0.194423</td>\n",
       "    </tr>\n",
       "    <tr>\n",
       "      <th>1</th>\n",
       "      <td>0.181000</td>\n",
       "    </tr>\n",
       "    <tr>\n",
       "      <th>4</th>\n",
       "      <td>0.123810</td>\n",
       "    </tr>\n",
       "    <tr>\n",
       "      <th>5</th>\n",
       "      <td>0.000000</td>\n",
       "    </tr>\n",
       "  </tbody>\n",
       "</table>\n",
       "</div>"
      ],
      "text/plain": [
       "                           is_canceled\n",
       "total_of_special_requests             \n",
       "0                             0.479599\n",
       "3                             0.196307\n",
       "2                             0.194423\n",
       "1                             0.181000\n",
       "4                             0.123810\n",
       "5                             0.000000"
      ]
     },
     "execution_count": 56,
     "metadata": {},
     "output_type": "execute_result"
    }
   ],
   "source": [
    "hotels_train.pivot_table(index='total_of_special_requests',\n",
    "                         values='is_canceled',\n",
    "                         aggfunc='mean') \\\n",
    ".sort_values(by='is_canceled', ascending=False)"
   ]
  },
  {
   "cell_type": "code",
   "execution_count": 57,
   "metadata": {},
   "outputs": [
    {
     "data": {
      "text/html": [
       "<div>\n",
       "<style scoped>\n",
       "    .dataframe tbody tr th:only-of-type {\n",
       "        vertical-align: middle;\n",
       "    }\n",
       "\n",
       "    .dataframe tbody tr th {\n",
       "        vertical-align: top;\n",
       "    }\n",
       "\n",
       "    .dataframe thead th {\n",
       "        text-align: right;\n",
       "    }\n",
       "</style>\n",
       "<table border=\"1\" class=\"dataframe\">\n",
       "  <thead>\n",
       "    <tr style=\"text-align: right;\">\n",
       "      <th></th>\n",
       "      <th>is_canceled</th>\n",
       "    </tr>\n",
       "    <tr>\n",
       "      <th>total_of_special_requests</th>\n",
       "      <th></th>\n",
       "    </tr>\n",
       "  </thead>\n",
       "  <tbody>\n",
       "    <tr>\n",
       "      <th>0</th>\n",
       "      <td>0.494688</td>\n",
       "    </tr>\n",
       "    <tr>\n",
       "      <th>1</th>\n",
       "      <td>0.278793</td>\n",
       "    </tr>\n",
       "    <tr>\n",
       "      <th>2</th>\n",
       "      <td>0.260771</td>\n",
       "    </tr>\n",
       "    <tr>\n",
       "      <th>3</th>\n",
       "      <td>0.169811</td>\n",
       "    </tr>\n",
       "    <tr>\n",
       "      <th>4</th>\n",
       "      <td>0.104839</td>\n",
       "    </tr>\n",
       "    <tr>\n",
       "      <th>5</th>\n",
       "      <td>0.055556</td>\n",
       "    </tr>\n",
       "  </tbody>\n",
       "</table>\n",
       "</div>"
      ],
      "text/plain": [
       "                           is_canceled\n",
       "total_of_special_requests             \n",
       "0                             0.494688\n",
       "1                             0.278793\n",
       "2                             0.260771\n",
       "3                             0.169811\n",
       "4                             0.104839\n",
       "5                             0.055556"
      ]
     },
     "execution_count": 57,
     "metadata": {},
     "output_type": "execute_result"
    }
   ],
   "source": [
    "hotels_test.pivot_table(index='total_of_special_requests',\n",
    "                         values='is_canceled',\n",
    "                         aggfunc='mean') \\\n",
    ".sort_values(by='is_canceled', ascending=False)"
   ]
  },
  {
   "cell_type": "markdown",
   "metadata": {},
   "source": [
    "We can make a conclusion that clients that don't have any special requests are more likely to cancel then those who has at least one special request."
   ]
  },
  {
   "cell_type": "markdown",
   "metadata": {},
   "source": [
    "### Exploratory Data Analysis conclusion\n",
    "\n",
    "We've checked how different data can have an impact on cancellations.\n",
    "\n",
    "- The most unreliable months are June and April, but first months of the year (January, February, March) are less likely to be canceled.\n",
    "- Client that make reservation for the first time are less likely to cancel.\n",
    "- Those how book one night are less likely to cancel.\n",
    "- Found out that distribution chanel has an impact on cancellation. TA/TO is the most unreliable but Direct and GDS are the most reliable.\n",
    "- Customer type also has an impact on cancellation. Group check-in is the most reliable type. We can't make conclusive conclusion about other types.\n",
    "- Special requests have an impact on cancellation. Those clients that don't have requests are more likely to cancel.\n",
    "\n",
    "Checked the class balance. There is a minor disvbalance in both datasets, but nothing critical."
   ]
  },
  {
   "cell_type": "markdown",
   "metadata": {},
   "source": [
    "## Formulation a ML-task based on business task"
   ]
  },
  {
   "cell_type": "markdown",
   "metadata": {},
   "source": [
    "### Profit calculation excluding deposits\n",
    "\n",
    "Let's calculate profit on the test dataset excluding deposits offered by the cancelation predictor system. That means if a client cancels reservation, the hotel chain losses money spent on one-time maintence.\n",
    "\n",
    "We're going to calulate profit in the following way:\n",
    "\n",
    "**Room price (considering if it was canceled or not) * Coefficient * Amount of nights - Maintenance costs * Amount of nights (considering if client books more then 2 nights then maintenance is going to be done once in two days)**\n",
    "\n",
    "That way we can found out profit from each client.\n",
    "\n",
    "Let's write the constants which we need to calculate profit."
   ]
  },
  {
   "cell_type": "code",
   "execution_count": 58,
   "metadata": {},
   "outputs": [],
   "source": [
    "BUDGET = 400000 # Budget allocated for the forecasting system\n",
    "\n",
    "A_PRICE = 1000 # Price per night of different room categories\n",
    "B_PRICE = 800\n",
    "C_PRICE = 600\n",
    "D_PRICE = 550\n",
    "E_PRICE = 500\n",
    "F_PRICE = 450\n",
    "G_PRICE = 350\n",
    "\n",
    "A_MAINTENANCE = 400 # One-time maintenance costs (considering categories)\n",
    "B_MAINTENANCE = 350\n",
    "C_MAINTENANCE = 350\n",
    "D_MAINTENANCE = 150\n",
    "E_MAINTENANCE = 150\n",
    "F_MAINTENANCE = 150\n",
    "G_MAINTENANCE = 150\n",
    "\n",
    "SUMMER_COEF = 1.4 # Summer coefficient \n",
    "SPRING_FALL_COEF = 1.2 # Spring/Autumn coefficient\n",
    "\n",
    "DEPOSIT = 0.8 # Deposit size"
   ]
  },
  {
   "cell_type": "markdown",
   "metadata": {},
   "source": [
    "For more convinient work with the coefficents let's create two lists with summer and spring/autumn months."
   ]
  },
  {
   "cell_type": "code",
   "execution_count": 59,
   "metadata": {},
   "outputs": [],
   "source": [
    "summer = ['June', 'July', 'August']\n",
    "spring_fall = ['March', 'April', 'May', 'September', 'October', 'November']"
   ]
  },
  {
   "cell_type": "markdown",
   "metadata": {},
   "source": [
    "Let's write functions with which we add the season coefficients, room price (considering it's type), one-time maintenance (considering it's type) in a dataframe."
   ]
  },
  {
   "cell_type": "code",
   "execution_count": 60,
   "metadata": {},
   "outputs": [],
   "source": [
    "# Function for adding a season coefficient\n",
    "def coef(season):\n",
    "    if season in summer:\n",
    "        return SUMMER_COEF\n",
    "    elif season in spring_fall:\n",
    "        return SPRING_FALL_COEF\n",
    "    else:\n",
    "        return 1\n",
    "\n",
    "# Function for adding a price per night\n",
    "def room_type(room_type):\n",
    "    if room_type == 'A':\n",
    "        return A_PRICE\n",
    "    elif room_type == 'B':\n",
    "        return B_PRICE\n",
    "    elif room_type == 'C':\n",
    "        return C_PRICE\n",
    "    elif room_type == 'D':\n",
    "        return D_PRICE\n",
    "    elif room_type == 'E':\n",
    "        return E_PRICE\n",
    "    elif room_type == 'F':\n",
    "        return F_PRICE\n",
    "    elif room_type == 'G':\n",
    "        return G_PRICE\n",
    "\n",
    "# Function for adding one-time maintenance\n",
    "def maintenance(room_type):\n",
    "    if room_type == 'A':\n",
    "        return A_MAINTENANCE\n",
    "    elif room_type == 'B':\n",
    "        return B_MAINTENANCE\n",
    "    elif room_type == 'C':\n",
    "        return C_MAINTENANCE\n",
    "    elif room_type == 'D':\n",
    "        return D_MAINTENANCE\n",
    "    elif room_type == 'E':\n",
    "        return E_MAINTENANCE\n",
    "    elif room_type == 'F':\n",
    "        return F_MAINTENANCE\n",
    "    elif room_type == 'G':\n",
    "        return G_MAINTENANCE"
   ]
  },
  {
   "cell_type": "markdown",
   "metadata": {},
   "source": [
    "Now we have all necessary functions, let's add the columns in the dataframe."
   ]
  },
  {
   "cell_type": "code",
   "execution_count": 61,
   "metadata": {},
   "outputs": [],
   "source": [
    "hotels_test['coefficient'] = hotels_test['arrival_date_month'].apply(coef)\n",
    "hotels_test['price_per_night'] = hotels_test['reserved_room_type'].apply(room_type)\n",
    "hotels_test['maintenance_cost'] = hotels_test['reserved_room_type'].apply(maintenance)"
   ]
  },
  {
   "cell_type": "code",
   "execution_count": 62,
   "metadata": {},
   "outputs": [
    {
     "data": {
      "text/html": [
       "<div>\n",
       "<style scoped>\n",
       "    .dataframe tbody tr th:only-of-type {\n",
       "        vertical-align: middle;\n",
       "    }\n",
       "\n",
       "    .dataframe tbody tr th {\n",
       "        vertical-align: top;\n",
       "    }\n",
       "\n",
       "    .dataframe thead th {\n",
       "        text-align: right;\n",
       "    }\n",
       "</style>\n",
       "<table border=\"1\" class=\"dataframe\">\n",
       "  <thead>\n",
       "    <tr style=\"text-align: right;\">\n",
       "      <th></th>\n",
       "      <th>id</th>\n",
       "      <th>is_canceled</th>\n",
       "      <th>lead_time</th>\n",
       "      <th>arrival_date_year</th>\n",
       "      <th>arrival_date_month</th>\n",
       "      <th>arrival_date_week_number</th>\n",
       "      <th>arrival_date_day_of_month</th>\n",
       "      <th>stays_in_weekend_nights</th>\n",
       "      <th>stays_in_week_nights</th>\n",
       "      <th>adults</th>\n",
       "      <th>children</th>\n",
       "      <th>babies</th>\n",
       "      <th>meal</th>\n",
       "      <th>country</th>\n",
       "      <th>distribution_channel</th>\n",
       "      <th>is_repeated_guest</th>\n",
       "      <th>previous_cancellations</th>\n",
       "      <th>previous_bookings_not_canceled</th>\n",
       "      <th>reserved_room_type</th>\n",
       "      <th>booking_changes</th>\n",
       "      <th>days_in_waiting_list</th>\n",
       "      <th>customer_type</th>\n",
       "      <th>required_car_parking_spaces</th>\n",
       "      <th>total_of_special_requests</th>\n",
       "      <th>total_nights</th>\n",
       "      <th>coefficient</th>\n",
       "      <th>price_per_night</th>\n",
       "      <th>maintenance_cost</th>\n",
       "    </tr>\n",
       "  </thead>\n",
       "  <tbody>\n",
       "    <tr>\n",
       "      <th>0</th>\n",
       "      <td>6086</td>\n",
       "      <td>1</td>\n",
       "      <td>74</td>\n",
       "      <td>2017</td>\n",
       "      <td>January</td>\n",
       "      <td>1</td>\n",
       "      <td>1</td>\n",
       "      <td>1</td>\n",
       "      <td>0</td>\n",
       "      <td>2</td>\n",
       "      <td>0</td>\n",
       "      <td>0</td>\n",
       "      <td>BB</td>\n",
       "      <td>PRT</td>\n",
       "      <td>TA/TO</td>\n",
       "      <td>0</td>\n",
       "      <td>0</td>\n",
       "      <td>0</td>\n",
       "      <td>A</td>\n",
       "      <td>0</td>\n",
       "      <td>0</td>\n",
       "      <td>Transient</td>\n",
       "      <td>0</td>\n",
       "      <td>0</td>\n",
       "      <td>1</td>\n",
       "      <td>1.0</td>\n",
       "      <td>1000</td>\n",
       "      <td>400</td>\n",
       "    </tr>\n",
       "    <tr>\n",
       "      <th>1</th>\n",
       "      <td>6087</td>\n",
       "      <td>1</td>\n",
       "      <td>62</td>\n",
       "      <td>2017</td>\n",
       "      <td>January</td>\n",
       "      <td>1</td>\n",
       "      <td>1</td>\n",
       "      <td>2</td>\n",
       "      <td>2</td>\n",
       "      <td>2</td>\n",
       "      <td>0</td>\n",
       "      <td>0</td>\n",
       "      <td>BB</td>\n",
       "      <td>AUT</td>\n",
       "      <td>TA/TO</td>\n",
       "      <td>0</td>\n",
       "      <td>0</td>\n",
       "      <td>0</td>\n",
       "      <td>A</td>\n",
       "      <td>0</td>\n",
       "      <td>0</td>\n",
       "      <td>Transient</td>\n",
       "      <td>0</td>\n",
       "      <td>1</td>\n",
       "      <td>4</td>\n",
       "      <td>1.0</td>\n",
       "      <td>1000</td>\n",
       "      <td>400</td>\n",
       "    </tr>\n",
       "    <tr>\n",
       "      <th>2</th>\n",
       "      <td>6088</td>\n",
       "      <td>1</td>\n",
       "      <td>62</td>\n",
       "      <td>2017</td>\n",
       "      <td>January</td>\n",
       "      <td>1</td>\n",
       "      <td>1</td>\n",
       "      <td>2</td>\n",
       "      <td>2</td>\n",
       "      <td>2</td>\n",
       "      <td>0</td>\n",
       "      <td>0</td>\n",
       "      <td>BB</td>\n",
       "      <td>AUT</td>\n",
       "      <td>TA/TO</td>\n",
       "      <td>0</td>\n",
       "      <td>0</td>\n",
       "      <td>0</td>\n",
       "      <td>A</td>\n",
       "      <td>0</td>\n",
       "      <td>0</td>\n",
       "      <td>Transient</td>\n",
       "      <td>0</td>\n",
       "      <td>1</td>\n",
       "      <td>4</td>\n",
       "      <td>1.0</td>\n",
       "      <td>1000</td>\n",
       "      <td>400</td>\n",
       "    </tr>\n",
       "    <tr>\n",
       "      <th>3</th>\n",
       "      <td>6089</td>\n",
       "      <td>1</td>\n",
       "      <td>71</td>\n",
       "      <td>2017</td>\n",
       "      <td>January</td>\n",
       "      <td>1</td>\n",
       "      <td>1</td>\n",
       "      <td>2</td>\n",
       "      <td>2</td>\n",
       "      <td>1</td>\n",
       "      <td>0</td>\n",
       "      <td>0</td>\n",
       "      <td>BB</td>\n",
       "      <td>PRT</td>\n",
       "      <td>TA/TO</td>\n",
       "      <td>0</td>\n",
       "      <td>0</td>\n",
       "      <td>0</td>\n",
       "      <td>A</td>\n",
       "      <td>0</td>\n",
       "      <td>0</td>\n",
       "      <td>Transient</td>\n",
       "      <td>0</td>\n",
       "      <td>1</td>\n",
       "      <td>4</td>\n",
       "      <td>1.0</td>\n",
       "      <td>1000</td>\n",
       "      <td>400</td>\n",
       "    </tr>\n",
       "    <tr>\n",
       "      <th>4</th>\n",
       "      <td>6090</td>\n",
       "      <td>1</td>\n",
       "      <td>172</td>\n",
       "      <td>2017</td>\n",
       "      <td>January</td>\n",
       "      <td>1</td>\n",
       "      <td>1</td>\n",
       "      <td>2</td>\n",
       "      <td>5</td>\n",
       "      <td>2</td>\n",
       "      <td>0</td>\n",
       "      <td>0</td>\n",
       "      <td>BB</td>\n",
       "      <td>BEL</td>\n",
       "      <td>TA/TO</td>\n",
       "      <td>0</td>\n",
       "      <td>0</td>\n",
       "      <td>0</td>\n",
       "      <td>A</td>\n",
       "      <td>0</td>\n",
       "      <td>0</td>\n",
       "      <td>Transient</td>\n",
       "      <td>0</td>\n",
       "      <td>0</td>\n",
       "      <td>7</td>\n",
       "      <td>1.0</td>\n",
       "      <td>1000</td>\n",
       "      <td>400</td>\n",
       "    </tr>\n",
       "    <tr>\n",
       "      <th>...</th>\n",
       "      <td>...</td>\n",
       "      <td>...</td>\n",
       "      <td>...</td>\n",
       "      <td>...</td>\n",
       "      <td>...</td>\n",
       "      <td>...</td>\n",
       "      <td>...</td>\n",
       "      <td>...</td>\n",
       "      <td>...</td>\n",
       "      <td>...</td>\n",
       "      <td>...</td>\n",
       "      <td>...</td>\n",
       "      <td>...</td>\n",
       "      <td>...</td>\n",
       "      <td>...</td>\n",
       "      <td>...</td>\n",
       "      <td>...</td>\n",
       "      <td>...</td>\n",
       "      <td>...</td>\n",
       "      <td>...</td>\n",
       "      <td>...</td>\n",
       "      <td>...</td>\n",
       "      <td>...</td>\n",
       "      <td>...</td>\n",
       "      <td>...</td>\n",
       "      <td>...</td>\n",
       "      <td>...</td>\n",
       "      <td>...</td>\n",
       "    </tr>\n",
       "    <tr>\n",
       "      <th>32336</th>\n",
       "      <td>97899</td>\n",
       "      <td>0</td>\n",
       "      <td>164</td>\n",
       "      <td>2017</td>\n",
       "      <td>August</td>\n",
       "      <td>35</td>\n",
       "      <td>31</td>\n",
       "      <td>2</td>\n",
       "      <td>4</td>\n",
       "      <td>2</td>\n",
       "      <td>0</td>\n",
       "      <td>0</td>\n",
       "      <td>BB</td>\n",
       "      <td>DEU</td>\n",
       "      <td>TA/TO</td>\n",
       "      <td>0</td>\n",
       "      <td>0</td>\n",
       "      <td>0</td>\n",
       "      <td>A</td>\n",
       "      <td>0</td>\n",
       "      <td>0</td>\n",
       "      <td>Transient</td>\n",
       "      <td>0</td>\n",
       "      <td>0</td>\n",
       "      <td>6</td>\n",
       "      <td>1.4</td>\n",
       "      <td>1000</td>\n",
       "      <td>400</td>\n",
       "    </tr>\n",
       "    <tr>\n",
       "      <th>32337</th>\n",
       "      <td>97900</td>\n",
       "      <td>0</td>\n",
       "      <td>21</td>\n",
       "      <td>2017</td>\n",
       "      <td>August</td>\n",
       "      <td>35</td>\n",
       "      <td>30</td>\n",
       "      <td>2</td>\n",
       "      <td>5</td>\n",
       "      <td>2</td>\n",
       "      <td>0</td>\n",
       "      <td>0</td>\n",
       "      <td>BB</td>\n",
       "      <td>BEL</td>\n",
       "      <td>TA/TO</td>\n",
       "      <td>0</td>\n",
       "      <td>0</td>\n",
       "      <td>0</td>\n",
       "      <td>A</td>\n",
       "      <td>0</td>\n",
       "      <td>0</td>\n",
       "      <td>Transient</td>\n",
       "      <td>0</td>\n",
       "      <td>2</td>\n",
       "      <td>7</td>\n",
       "      <td>1.4</td>\n",
       "      <td>1000</td>\n",
       "      <td>400</td>\n",
       "    </tr>\n",
       "    <tr>\n",
       "      <th>32338</th>\n",
       "      <td>97901</td>\n",
       "      <td>0</td>\n",
       "      <td>23</td>\n",
       "      <td>2017</td>\n",
       "      <td>August</td>\n",
       "      <td>35</td>\n",
       "      <td>30</td>\n",
       "      <td>2</td>\n",
       "      <td>5</td>\n",
       "      <td>2</td>\n",
       "      <td>0</td>\n",
       "      <td>0</td>\n",
       "      <td>BB</td>\n",
       "      <td>BEL</td>\n",
       "      <td>TA/TO</td>\n",
       "      <td>0</td>\n",
       "      <td>0</td>\n",
       "      <td>0</td>\n",
       "      <td>A</td>\n",
       "      <td>0</td>\n",
       "      <td>0</td>\n",
       "      <td>Transient</td>\n",
       "      <td>0</td>\n",
       "      <td>0</td>\n",
       "      <td>7</td>\n",
       "      <td>1.4</td>\n",
       "      <td>1000</td>\n",
       "      <td>400</td>\n",
       "    </tr>\n",
       "    <tr>\n",
       "      <th>32339</th>\n",
       "      <td>97902</td>\n",
       "      <td>0</td>\n",
       "      <td>34</td>\n",
       "      <td>2017</td>\n",
       "      <td>August</td>\n",
       "      <td>35</td>\n",
       "      <td>31</td>\n",
       "      <td>2</td>\n",
       "      <td>5</td>\n",
       "      <td>2</td>\n",
       "      <td>0</td>\n",
       "      <td>0</td>\n",
       "      <td>BB</td>\n",
       "      <td>DEU</td>\n",
       "      <td>TA/TO</td>\n",
       "      <td>0</td>\n",
       "      <td>0</td>\n",
       "      <td>0</td>\n",
       "      <td>D</td>\n",
       "      <td>0</td>\n",
       "      <td>0</td>\n",
       "      <td>Transient</td>\n",
       "      <td>0</td>\n",
       "      <td>4</td>\n",
       "      <td>7</td>\n",
       "      <td>1.4</td>\n",
       "      <td>550</td>\n",
       "      <td>150</td>\n",
       "    </tr>\n",
       "    <tr>\n",
       "      <th>32340</th>\n",
       "      <td>97903</td>\n",
       "      <td>0</td>\n",
       "      <td>109</td>\n",
       "      <td>2017</td>\n",
       "      <td>August</td>\n",
       "      <td>35</td>\n",
       "      <td>31</td>\n",
       "      <td>2</td>\n",
       "      <td>5</td>\n",
       "      <td>2</td>\n",
       "      <td>0</td>\n",
       "      <td>0</td>\n",
       "      <td>BB</td>\n",
       "      <td>GBR</td>\n",
       "      <td>TA/TO</td>\n",
       "      <td>0</td>\n",
       "      <td>0</td>\n",
       "      <td>0</td>\n",
       "      <td>A</td>\n",
       "      <td>0</td>\n",
       "      <td>0</td>\n",
       "      <td>Transient</td>\n",
       "      <td>0</td>\n",
       "      <td>0</td>\n",
       "      <td>7</td>\n",
       "      <td>1.4</td>\n",
       "      <td>1000</td>\n",
       "      <td>400</td>\n",
       "    </tr>\n",
       "  </tbody>\n",
       "</table>\n",
       "<p>32341 rows × 28 columns</p>\n",
       "</div>"
      ],
      "text/plain": [
       "          id  is_canceled  lead_time  arrival_date_year arrival_date_month  \\\n",
       "0       6086            1         74               2017            January   \n",
       "1       6087            1         62               2017            January   \n",
       "2       6088            1         62               2017            January   \n",
       "3       6089            1         71               2017            January   \n",
       "4       6090            1        172               2017            January   \n",
       "...      ...          ...        ...                ...                ...   \n",
       "32336  97899            0        164               2017             August   \n",
       "32337  97900            0         21               2017             August   \n",
       "32338  97901            0         23               2017             August   \n",
       "32339  97902            0         34               2017             August   \n",
       "32340  97903            0        109               2017             August   \n",
       "\n",
       "       arrival_date_week_number  arrival_date_day_of_month  \\\n",
       "0                             1                          1   \n",
       "1                             1                          1   \n",
       "2                             1                          1   \n",
       "3                             1                          1   \n",
       "4                             1                          1   \n",
       "...                         ...                        ...   \n",
       "32336                        35                         31   \n",
       "32337                        35                         30   \n",
       "32338                        35                         30   \n",
       "32339                        35                         31   \n",
       "32340                        35                         31   \n",
       "\n",
       "       stays_in_weekend_nights  stays_in_week_nights  adults  children  \\\n",
       "0                            1                     0       2         0   \n",
       "1                            2                     2       2         0   \n",
       "2                            2                     2       2         0   \n",
       "3                            2                     2       1         0   \n",
       "4                            2                     5       2         0   \n",
       "...                        ...                   ...     ...       ...   \n",
       "32336                        2                     4       2         0   \n",
       "32337                        2                     5       2         0   \n",
       "32338                        2                     5       2         0   \n",
       "32339                        2                     5       2         0   \n",
       "32340                        2                     5       2         0   \n",
       "\n",
       "       babies meal country distribution_channel  is_repeated_guest  \\\n",
       "0           0   BB     PRT                TA/TO                  0   \n",
       "1           0   BB     AUT                TA/TO                  0   \n",
       "2           0   BB     AUT                TA/TO                  0   \n",
       "3           0   BB     PRT                TA/TO                  0   \n",
       "4           0   BB     BEL                TA/TO                  0   \n",
       "...       ...  ...     ...                  ...                ...   \n",
       "32336       0   BB     DEU                TA/TO                  0   \n",
       "32337       0   BB     BEL                TA/TO                  0   \n",
       "32338       0   BB     BEL                TA/TO                  0   \n",
       "32339       0   BB     DEU                TA/TO                  0   \n",
       "32340       0   BB     GBR                TA/TO                  0   \n",
       "\n",
       "       previous_cancellations  previous_bookings_not_canceled  \\\n",
       "0                           0                               0   \n",
       "1                           0                               0   \n",
       "2                           0                               0   \n",
       "3                           0                               0   \n",
       "4                           0                               0   \n",
       "...                       ...                             ...   \n",
       "32336                       0                               0   \n",
       "32337                       0                               0   \n",
       "32338                       0                               0   \n",
       "32339                       0                               0   \n",
       "32340                       0                               0   \n",
       "\n",
       "      reserved_room_type  booking_changes  days_in_waiting_list customer_type  \\\n",
       "0                      A                0                     0     Transient   \n",
       "1                      A                0                     0     Transient   \n",
       "2                      A                0                     0     Transient   \n",
       "3                      A                0                     0     Transient   \n",
       "4                      A                0                     0     Transient   \n",
       "...                  ...              ...                   ...           ...   \n",
       "32336                  A                0                     0     Transient   \n",
       "32337                  A                0                     0     Transient   \n",
       "32338                  A                0                     0     Transient   \n",
       "32339                  D                0                     0     Transient   \n",
       "32340                  A                0                     0     Transient   \n",
       "\n",
       "       required_car_parking_spaces  total_of_special_requests  total_nights  \\\n",
       "0                                0                          0             1   \n",
       "1                                0                          1             4   \n",
       "2                                0                          1             4   \n",
       "3                                0                          1             4   \n",
       "4                                0                          0             7   \n",
       "...                            ...                        ...           ...   \n",
       "32336                            0                          0             6   \n",
       "32337                            0                          2             7   \n",
       "32338                            0                          0             7   \n",
       "32339                            0                          4             7   \n",
       "32340                            0                          0             7   \n",
       "\n",
       "       coefficient  price_per_night  maintenance_cost  \n",
       "0              1.0             1000               400  \n",
       "1              1.0             1000               400  \n",
       "2              1.0             1000               400  \n",
       "3              1.0             1000               400  \n",
       "4              1.0             1000               400  \n",
       "...            ...              ...               ...  \n",
       "32336          1.4             1000               400  \n",
       "32337          1.4             1000               400  \n",
       "32338          1.4             1000               400  \n",
       "32339          1.4              550               150  \n",
       "32340          1.4             1000               400  \n",
       "\n",
       "[32341 rows x 28 columns]"
      ]
     },
     "execution_count": 62,
     "metadata": {},
     "output_type": "execute_result"
    }
   ],
   "source": [
    "hotels_test"
   ]
  },
  {
   "cell_type": "markdown",
   "metadata": {},
   "source": [
    "We've added and confirmed that they are added correctly. Now we need to addjust the column with price considering clients that canceled a reservation."
   ]
  },
  {
   "cell_type": "code",
   "execution_count": 63,
   "metadata": {},
   "outputs": [],
   "source": [
    "hotels_test.loc[(hotels_test['is_canceled'] == 1), 'price_per_night'] = -hotels_test['price_per_night']"
   ]
  },
  {
   "cell_type": "markdown",
   "metadata": {},
   "source": [
    "We've changed the column with price per night for clients that canceled a reservation. Now we're going to calculate total costs for room maintenance considering amount of nights."
   ]
  },
  {
   "cell_type": "code",
   "execution_count": 64,
   "metadata": {},
   "outputs": [],
   "source": [
    "hotels_test.loc[(hotels_test['total_nights'] > 2) & (hotels_test['is_canceled'] != 1), 'maintenance_cost'] = \\\n",
    "hotels_test['maintenance_cost'] * ((hotels_test['total_nights'] + 1) // 2)"
   ]
  },
  {
   "cell_type": "code",
   "execution_count": 65,
   "metadata": {},
   "outputs": [
    {
     "data": {
      "text/html": [
       "<div>\n",
       "<style scoped>\n",
       "    .dataframe tbody tr th:only-of-type {\n",
       "        vertical-align: middle;\n",
       "    }\n",
       "\n",
       "    .dataframe tbody tr th {\n",
       "        vertical-align: top;\n",
       "    }\n",
       "\n",
       "    .dataframe thead th {\n",
       "        text-align: right;\n",
       "    }\n",
       "</style>\n",
       "<table border=\"1\" class=\"dataframe\">\n",
       "  <thead>\n",
       "    <tr style=\"text-align: right;\">\n",
       "      <th></th>\n",
       "      <th>id</th>\n",
       "      <th>is_canceled</th>\n",
       "      <th>lead_time</th>\n",
       "      <th>arrival_date_year</th>\n",
       "      <th>arrival_date_month</th>\n",
       "      <th>arrival_date_week_number</th>\n",
       "      <th>arrival_date_day_of_month</th>\n",
       "      <th>stays_in_weekend_nights</th>\n",
       "      <th>stays_in_week_nights</th>\n",
       "      <th>adults</th>\n",
       "      <th>children</th>\n",
       "      <th>babies</th>\n",
       "      <th>meal</th>\n",
       "      <th>country</th>\n",
       "      <th>distribution_channel</th>\n",
       "      <th>is_repeated_guest</th>\n",
       "      <th>previous_cancellations</th>\n",
       "      <th>previous_bookings_not_canceled</th>\n",
       "      <th>reserved_room_type</th>\n",
       "      <th>booking_changes</th>\n",
       "      <th>days_in_waiting_list</th>\n",
       "      <th>customer_type</th>\n",
       "      <th>required_car_parking_spaces</th>\n",
       "      <th>total_of_special_requests</th>\n",
       "      <th>total_nights</th>\n",
       "      <th>coefficient</th>\n",
       "      <th>price_per_night</th>\n",
       "      <th>maintenance_cost</th>\n",
       "    </tr>\n",
       "  </thead>\n",
       "  <tbody>\n",
       "    <tr>\n",
       "      <th>0</th>\n",
       "      <td>6086</td>\n",
       "      <td>1</td>\n",
       "      <td>74</td>\n",
       "      <td>2017</td>\n",
       "      <td>January</td>\n",
       "      <td>1</td>\n",
       "      <td>1</td>\n",
       "      <td>1</td>\n",
       "      <td>0</td>\n",
       "      <td>2</td>\n",
       "      <td>0</td>\n",
       "      <td>0</td>\n",
       "      <td>BB</td>\n",
       "      <td>PRT</td>\n",
       "      <td>TA/TO</td>\n",
       "      <td>0</td>\n",
       "      <td>0</td>\n",
       "      <td>0</td>\n",
       "      <td>A</td>\n",
       "      <td>0</td>\n",
       "      <td>0</td>\n",
       "      <td>Transient</td>\n",
       "      <td>0</td>\n",
       "      <td>0</td>\n",
       "      <td>1</td>\n",
       "      <td>1.0</td>\n",
       "      <td>-1000</td>\n",
       "      <td>400</td>\n",
       "    </tr>\n",
       "    <tr>\n",
       "      <th>1</th>\n",
       "      <td>6087</td>\n",
       "      <td>1</td>\n",
       "      <td>62</td>\n",
       "      <td>2017</td>\n",
       "      <td>January</td>\n",
       "      <td>1</td>\n",
       "      <td>1</td>\n",
       "      <td>2</td>\n",
       "      <td>2</td>\n",
       "      <td>2</td>\n",
       "      <td>0</td>\n",
       "      <td>0</td>\n",
       "      <td>BB</td>\n",
       "      <td>AUT</td>\n",
       "      <td>TA/TO</td>\n",
       "      <td>0</td>\n",
       "      <td>0</td>\n",
       "      <td>0</td>\n",
       "      <td>A</td>\n",
       "      <td>0</td>\n",
       "      <td>0</td>\n",
       "      <td>Transient</td>\n",
       "      <td>0</td>\n",
       "      <td>1</td>\n",
       "      <td>4</td>\n",
       "      <td>1.0</td>\n",
       "      <td>-1000</td>\n",
       "      <td>400</td>\n",
       "    </tr>\n",
       "    <tr>\n",
       "      <th>2</th>\n",
       "      <td>6088</td>\n",
       "      <td>1</td>\n",
       "      <td>62</td>\n",
       "      <td>2017</td>\n",
       "      <td>January</td>\n",
       "      <td>1</td>\n",
       "      <td>1</td>\n",
       "      <td>2</td>\n",
       "      <td>2</td>\n",
       "      <td>2</td>\n",
       "      <td>0</td>\n",
       "      <td>0</td>\n",
       "      <td>BB</td>\n",
       "      <td>AUT</td>\n",
       "      <td>TA/TO</td>\n",
       "      <td>0</td>\n",
       "      <td>0</td>\n",
       "      <td>0</td>\n",
       "      <td>A</td>\n",
       "      <td>0</td>\n",
       "      <td>0</td>\n",
       "      <td>Transient</td>\n",
       "      <td>0</td>\n",
       "      <td>1</td>\n",
       "      <td>4</td>\n",
       "      <td>1.0</td>\n",
       "      <td>-1000</td>\n",
       "      <td>400</td>\n",
       "    </tr>\n",
       "    <tr>\n",
       "      <th>3</th>\n",
       "      <td>6089</td>\n",
       "      <td>1</td>\n",
       "      <td>71</td>\n",
       "      <td>2017</td>\n",
       "      <td>January</td>\n",
       "      <td>1</td>\n",
       "      <td>1</td>\n",
       "      <td>2</td>\n",
       "      <td>2</td>\n",
       "      <td>1</td>\n",
       "      <td>0</td>\n",
       "      <td>0</td>\n",
       "      <td>BB</td>\n",
       "      <td>PRT</td>\n",
       "      <td>TA/TO</td>\n",
       "      <td>0</td>\n",
       "      <td>0</td>\n",
       "      <td>0</td>\n",
       "      <td>A</td>\n",
       "      <td>0</td>\n",
       "      <td>0</td>\n",
       "      <td>Transient</td>\n",
       "      <td>0</td>\n",
       "      <td>1</td>\n",
       "      <td>4</td>\n",
       "      <td>1.0</td>\n",
       "      <td>-1000</td>\n",
       "      <td>400</td>\n",
       "    </tr>\n",
       "    <tr>\n",
       "      <th>4</th>\n",
       "      <td>6090</td>\n",
       "      <td>1</td>\n",
       "      <td>172</td>\n",
       "      <td>2017</td>\n",
       "      <td>January</td>\n",
       "      <td>1</td>\n",
       "      <td>1</td>\n",
       "      <td>2</td>\n",
       "      <td>5</td>\n",
       "      <td>2</td>\n",
       "      <td>0</td>\n",
       "      <td>0</td>\n",
       "      <td>BB</td>\n",
       "      <td>BEL</td>\n",
       "      <td>TA/TO</td>\n",
       "      <td>0</td>\n",
       "      <td>0</td>\n",
       "      <td>0</td>\n",
       "      <td>A</td>\n",
       "      <td>0</td>\n",
       "      <td>0</td>\n",
       "      <td>Transient</td>\n",
       "      <td>0</td>\n",
       "      <td>0</td>\n",
       "      <td>7</td>\n",
       "      <td>1.0</td>\n",
       "      <td>-1000</td>\n",
       "      <td>400</td>\n",
       "    </tr>\n",
       "    <tr>\n",
       "      <th>...</th>\n",
       "      <td>...</td>\n",
       "      <td>...</td>\n",
       "      <td>...</td>\n",
       "      <td>...</td>\n",
       "      <td>...</td>\n",
       "      <td>...</td>\n",
       "      <td>...</td>\n",
       "      <td>...</td>\n",
       "      <td>...</td>\n",
       "      <td>...</td>\n",
       "      <td>...</td>\n",
       "      <td>...</td>\n",
       "      <td>...</td>\n",
       "      <td>...</td>\n",
       "      <td>...</td>\n",
       "      <td>...</td>\n",
       "      <td>...</td>\n",
       "      <td>...</td>\n",
       "      <td>...</td>\n",
       "      <td>...</td>\n",
       "      <td>...</td>\n",
       "      <td>...</td>\n",
       "      <td>...</td>\n",
       "      <td>...</td>\n",
       "      <td>...</td>\n",
       "      <td>...</td>\n",
       "      <td>...</td>\n",
       "      <td>...</td>\n",
       "    </tr>\n",
       "    <tr>\n",
       "      <th>32336</th>\n",
       "      <td>97899</td>\n",
       "      <td>0</td>\n",
       "      <td>164</td>\n",
       "      <td>2017</td>\n",
       "      <td>August</td>\n",
       "      <td>35</td>\n",
       "      <td>31</td>\n",
       "      <td>2</td>\n",
       "      <td>4</td>\n",
       "      <td>2</td>\n",
       "      <td>0</td>\n",
       "      <td>0</td>\n",
       "      <td>BB</td>\n",
       "      <td>DEU</td>\n",
       "      <td>TA/TO</td>\n",
       "      <td>0</td>\n",
       "      <td>0</td>\n",
       "      <td>0</td>\n",
       "      <td>A</td>\n",
       "      <td>0</td>\n",
       "      <td>0</td>\n",
       "      <td>Transient</td>\n",
       "      <td>0</td>\n",
       "      <td>0</td>\n",
       "      <td>6</td>\n",
       "      <td>1.4</td>\n",
       "      <td>1000</td>\n",
       "      <td>1200</td>\n",
       "    </tr>\n",
       "    <tr>\n",
       "      <th>32337</th>\n",
       "      <td>97900</td>\n",
       "      <td>0</td>\n",
       "      <td>21</td>\n",
       "      <td>2017</td>\n",
       "      <td>August</td>\n",
       "      <td>35</td>\n",
       "      <td>30</td>\n",
       "      <td>2</td>\n",
       "      <td>5</td>\n",
       "      <td>2</td>\n",
       "      <td>0</td>\n",
       "      <td>0</td>\n",
       "      <td>BB</td>\n",
       "      <td>BEL</td>\n",
       "      <td>TA/TO</td>\n",
       "      <td>0</td>\n",
       "      <td>0</td>\n",
       "      <td>0</td>\n",
       "      <td>A</td>\n",
       "      <td>0</td>\n",
       "      <td>0</td>\n",
       "      <td>Transient</td>\n",
       "      <td>0</td>\n",
       "      <td>2</td>\n",
       "      <td>7</td>\n",
       "      <td>1.4</td>\n",
       "      <td>1000</td>\n",
       "      <td>1600</td>\n",
       "    </tr>\n",
       "    <tr>\n",
       "      <th>32338</th>\n",
       "      <td>97901</td>\n",
       "      <td>0</td>\n",
       "      <td>23</td>\n",
       "      <td>2017</td>\n",
       "      <td>August</td>\n",
       "      <td>35</td>\n",
       "      <td>30</td>\n",
       "      <td>2</td>\n",
       "      <td>5</td>\n",
       "      <td>2</td>\n",
       "      <td>0</td>\n",
       "      <td>0</td>\n",
       "      <td>BB</td>\n",
       "      <td>BEL</td>\n",
       "      <td>TA/TO</td>\n",
       "      <td>0</td>\n",
       "      <td>0</td>\n",
       "      <td>0</td>\n",
       "      <td>A</td>\n",
       "      <td>0</td>\n",
       "      <td>0</td>\n",
       "      <td>Transient</td>\n",
       "      <td>0</td>\n",
       "      <td>0</td>\n",
       "      <td>7</td>\n",
       "      <td>1.4</td>\n",
       "      <td>1000</td>\n",
       "      <td>1600</td>\n",
       "    </tr>\n",
       "    <tr>\n",
       "      <th>32339</th>\n",
       "      <td>97902</td>\n",
       "      <td>0</td>\n",
       "      <td>34</td>\n",
       "      <td>2017</td>\n",
       "      <td>August</td>\n",
       "      <td>35</td>\n",
       "      <td>31</td>\n",
       "      <td>2</td>\n",
       "      <td>5</td>\n",
       "      <td>2</td>\n",
       "      <td>0</td>\n",
       "      <td>0</td>\n",
       "      <td>BB</td>\n",
       "      <td>DEU</td>\n",
       "      <td>TA/TO</td>\n",
       "      <td>0</td>\n",
       "      <td>0</td>\n",
       "      <td>0</td>\n",
       "      <td>D</td>\n",
       "      <td>0</td>\n",
       "      <td>0</td>\n",
       "      <td>Transient</td>\n",
       "      <td>0</td>\n",
       "      <td>4</td>\n",
       "      <td>7</td>\n",
       "      <td>1.4</td>\n",
       "      <td>550</td>\n",
       "      <td>600</td>\n",
       "    </tr>\n",
       "    <tr>\n",
       "      <th>32340</th>\n",
       "      <td>97903</td>\n",
       "      <td>0</td>\n",
       "      <td>109</td>\n",
       "      <td>2017</td>\n",
       "      <td>August</td>\n",
       "      <td>35</td>\n",
       "      <td>31</td>\n",
       "      <td>2</td>\n",
       "      <td>5</td>\n",
       "      <td>2</td>\n",
       "      <td>0</td>\n",
       "      <td>0</td>\n",
       "      <td>BB</td>\n",
       "      <td>GBR</td>\n",
       "      <td>TA/TO</td>\n",
       "      <td>0</td>\n",
       "      <td>0</td>\n",
       "      <td>0</td>\n",
       "      <td>A</td>\n",
       "      <td>0</td>\n",
       "      <td>0</td>\n",
       "      <td>Transient</td>\n",
       "      <td>0</td>\n",
       "      <td>0</td>\n",
       "      <td>7</td>\n",
       "      <td>1.4</td>\n",
       "      <td>1000</td>\n",
       "      <td>1600</td>\n",
       "    </tr>\n",
       "  </tbody>\n",
       "</table>\n",
       "<p>32341 rows × 28 columns</p>\n",
       "</div>"
      ],
      "text/plain": [
       "          id  is_canceled  lead_time  arrival_date_year arrival_date_month  \\\n",
       "0       6086            1         74               2017            January   \n",
       "1       6087            1         62               2017            January   \n",
       "2       6088            1         62               2017            January   \n",
       "3       6089            1         71               2017            January   \n",
       "4       6090            1        172               2017            January   \n",
       "...      ...          ...        ...                ...                ...   \n",
       "32336  97899            0        164               2017             August   \n",
       "32337  97900            0         21               2017             August   \n",
       "32338  97901            0         23               2017             August   \n",
       "32339  97902            0         34               2017             August   \n",
       "32340  97903            0        109               2017             August   \n",
       "\n",
       "       arrival_date_week_number  arrival_date_day_of_month  \\\n",
       "0                             1                          1   \n",
       "1                             1                          1   \n",
       "2                             1                          1   \n",
       "3                             1                          1   \n",
       "4                             1                          1   \n",
       "...                         ...                        ...   \n",
       "32336                        35                         31   \n",
       "32337                        35                         30   \n",
       "32338                        35                         30   \n",
       "32339                        35                         31   \n",
       "32340                        35                         31   \n",
       "\n",
       "       stays_in_weekend_nights  stays_in_week_nights  adults  children  \\\n",
       "0                            1                     0       2         0   \n",
       "1                            2                     2       2         0   \n",
       "2                            2                     2       2         0   \n",
       "3                            2                     2       1         0   \n",
       "4                            2                     5       2         0   \n",
       "...                        ...                   ...     ...       ...   \n",
       "32336                        2                     4       2         0   \n",
       "32337                        2                     5       2         0   \n",
       "32338                        2                     5       2         0   \n",
       "32339                        2                     5       2         0   \n",
       "32340                        2                     5       2         0   \n",
       "\n",
       "       babies meal country distribution_channel  is_repeated_guest  \\\n",
       "0           0   BB     PRT                TA/TO                  0   \n",
       "1           0   BB     AUT                TA/TO                  0   \n",
       "2           0   BB     AUT                TA/TO                  0   \n",
       "3           0   BB     PRT                TA/TO                  0   \n",
       "4           0   BB     BEL                TA/TO                  0   \n",
       "...       ...  ...     ...                  ...                ...   \n",
       "32336       0   BB     DEU                TA/TO                  0   \n",
       "32337       0   BB     BEL                TA/TO                  0   \n",
       "32338       0   BB     BEL                TA/TO                  0   \n",
       "32339       0   BB     DEU                TA/TO                  0   \n",
       "32340       0   BB     GBR                TA/TO                  0   \n",
       "\n",
       "       previous_cancellations  previous_bookings_not_canceled  \\\n",
       "0                           0                               0   \n",
       "1                           0                               0   \n",
       "2                           0                               0   \n",
       "3                           0                               0   \n",
       "4                           0                               0   \n",
       "...                       ...                             ...   \n",
       "32336                       0                               0   \n",
       "32337                       0                               0   \n",
       "32338                       0                               0   \n",
       "32339                       0                               0   \n",
       "32340                       0                               0   \n",
       "\n",
       "      reserved_room_type  booking_changes  days_in_waiting_list customer_type  \\\n",
       "0                      A                0                     0     Transient   \n",
       "1                      A                0                     0     Transient   \n",
       "2                      A                0                     0     Transient   \n",
       "3                      A                0                     0     Transient   \n",
       "4                      A                0                     0     Transient   \n",
       "...                  ...              ...                   ...           ...   \n",
       "32336                  A                0                     0     Transient   \n",
       "32337                  A                0                     0     Transient   \n",
       "32338                  A                0                     0     Transient   \n",
       "32339                  D                0                     0     Transient   \n",
       "32340                  A                0                     0     Transient   \n",
       "\n",
       "       required_car_parking_spaces  total_of_special_requests  total_nights  \\\n",
       "0                                0                          0             1   \n",
       "1                                0                          1             4   \n",
       "2                                0                          1             4   \n",
       "3                                0                          1             4   \n",
       "4                                0                          0             7   \n",
       "...                            ...                        ...           ...   \n",
       "32336                            0                          0             6   \n",
       "32337                            0                          2             7   \n",
       "32338                            0                          0             7   \n",
       "32339                            0                          4             7   \n",
       "32340                            0                          0             7   \n",
       "\n",
       "       coefficient  price_per_night  maintenance_cost  \n",
       "0              1.0            -1000               400  \n",
       "1              1.0            -1000               400  \n",
       "2              1.0            -1000               400  \n",
       "3              1.0            -1000               400  \n",
       "4              1.0            -1000               400  \n",
       "...            ...              ...               ...  \n",
       "32336          1.4             1000              1200  \n",
       "32337          1.4             1000              1600  \n",
       "32338          1.4             1000              1600  \n",
       "32339          1.4              550               600  \n",
       "32340          1.4             1000              1600  \n",
       "\n",
       "[32341 rows x 28 columns]"
      ]
     },
     "execution_count": 65,
     "metadata": {},
     "output_type": "execute_result"
    }
   ],
   "source": [
    "hotels_test"
   ]
  },
  {
   "cell_type": "markdown",
   "metadata": {},
   "source": [
    "Now we have all the nesessary data for profit calculation from each client. Let's add a column with this calculation."
   ]
  },
  {
   "cell_type": "code",
   "execution_count": 66,
   "metadata": {},
   "outputs": [],
   "source": [
    "hotels_test.loc[(hotels_test['is_canceled'] == 1), 'income'] = \\\n",
    "    hotels_test['price_per_night'] * \\\n",
    "    hotels_test['coefficient'] - \\\n",
    "    hotels_test['maintenance_cost']\n",
    "\n",
    "hotels_test.loc[(hotels_test['is_canceled'] == 0), 'income'] = \\\n",
    "    hotels_test['price_per_night'] * \\\n",
    "    hotels_test['coefficient'] * \\\n",
    "    hotels_test['total_nights'] - \\\n",
    "    hotels_test['maintenance_cost']"
   ]
  },
  {
   "cell_type": "code",
   "execution_count": 67,
   "metadata": {},
   "outputs": [
    {
     "data": {
      "text/html": [
       "<div>\n",
       "<style scoped>\n",
       "    .dataframe tbody tr th:only-of-type {\n",
       "        vertical-align: middle;\n",
       "    }\n",
       "\n",
       "    .dataframe tbody tr th {\n",
       "        vertical-align: top;\n",
       "    }\n",
       "\n",
       "    .dataframe thead th {\n",
       "        text-align: right;\n",
       "    }\n",
       "</style>\n",
       "<table border=\"1\" class=\"dataframe\">\n",
       "  <thead>\n",
       "    <tr style=\"text-align: right;\">\n",
       "      <th></th>\n",
       "      <th>id</th>\n",
       "      <th>is_canceled</th>\n",
       "      <th>lead_time</th>\n",
       "      <th>arrival_date_year</th>\n",
       "      <th>arrival_date_month</th>\n",
       "      <th>arrival_date_week_number</th>\n",
       "      <th>arrival_date_day_of_month</th>\n",
       "      <th>stays_in_weekend_nights</th>\n",
       "      <th>stays_in_week_nights</th>\n",
       "      <th>adults</th>\n",
       "      <th>children</th>\n",
       "      <th>babies</th>\n",
       "      <th>meal</th>\n",
       "      <th>country</th>\n",
       "      <th>distribution_channel</th>\n",
       "      <th>is_repeated_guest</th>\n",
       "      <th>previous_cancellations</th>\n",
       "      <th>previous_bookings_not_canceled</th>\n",
       "      <th>reserved_room_type</th>\n",
       "      <th>booking_changes</th>\n",
       "      <th>days_in_waiting_list</th>\n",
       "      <th>customer_type</th>\n",
       "      <th>required_car_parking_spaces</th>\n",
       "      <th>total_of_special_requests</th>\n",
       "      <th>total_nights</th>\n",
       "      <th>coefficient</th>\n",
       "      <th>price_per_night</th>\n",
       "      <th>maintenance_cost</th>\n",
       "      <th>income</th>\n",
       "    </tr>\n",
       "  </thead>\n",
       "  <tbody>\n",
       "    <tr>\n",
       "      <th>0</th>\n",
       "      <td>6086</td>\n",
       "      <td>1</td>\n",
       "      <td>74</td>\n",
       "      <td>2017</td>\n",
       "      <td>January</td>\n",
       "      <td>1</td>\n",
       "      <td>1</td>\n",
       "      <td>1</td>\n",
       "      <td>0</td>\n",
       "      <td>2</td>\n",
       "      <td>0</td>\n",
       "      <td>0</td>\n",
       "      <td>BB</td>\n",
       "      <td>PRT</td>\n",
       "      <td>TA/TO</td>\n",
       "      <td>0</td>\n",
       "      <td>0</td>\n",
       "      <td>0</td>\n",
       "      <td>A</td>\n",
       "      <td>0</td>\n",
       "      <td>0</td>\n",
       "      <td>Transient</td>\n",
       "      <td>0</td>\n",
       "      <td>0</td>\n",
       "      <td>1</td>\n",
       "      <td>1.0</td>\n",
       "      <td>-1000</td>\n",
       "      <td>400</td>\n",
       "      <td>-1400.0</td>\n",
       "    </tr>\n",
       "    <tr>\n",
       "      <th>1</th>\n",
       "      <td>6087</td>\n",
       "      <td>1</td>\n",
       "      <td>62</td>\n",
       "      <td>2017</td>\n",
       "      <td>January</td>\n",
       "      <td>1</td>\n",
       "      <td>1</td>\n",
       "      <td>2</td>\n",
       "      <td>2</td>\n",
       "      <td>2</td>\n",
       "      <td>0</td>\n",
       "      <td>0</td>\n",
       "      <td>BB</td>\n",
       "      <td>AUT</td>\n",
       "      <td>TA/TO</td>\n",
       "      <td>0</td>\n",
       "      <td>0</td>\n",
       "      <td>0</td>\n",
       "      <td>A</td>\n",
       "      <td>0</td>\n",
       "      <td>0</td>\n",
       "      <td>Transient</td>\n",
       "      <td>0</td>\n",
       "      <td>1</td>\n",
       "      <td>4</td>\n",
       "      <td>1.0</td>\n",
       "      <td>-1000</td>\n",
       "      <td>400</td>\n",
       "      <td>-1400.0</td>\n",
       "    </tr>\n",
       "    <tr>\n",
       "      <th>2</th>\n",
       "      <td>6088</td>\n",
       "      <td>1</td>\n",
       "      <td>62</td>\n",
       "      <td>2017</td>\n",
       "      <td>January</td>\n",
       "      <td>1</td>\n",
       "      <td>1</td>\n",
       "      <td>2</td>\n",
       "      <td>2</td>\n",
       "      <td>2</td>\n",
       "      <td>0</td>\n",
       "      <td>0</td>\n",
       "      <td>BB</td>\n",
       "      <td>AUT</td>\n",
       "      <td>TA/TO</td>\n",
       "      <td>0</td>\n",
       "      <td>0</td>\n",
       "      <td>0</td>\n",
       "      <td>A</td>\n",
       "      <td>0</td>\n",
       "      <td>0</td>\n",
       "      <td>Transient</td>\n",
       "      <td>0</td>\n",
       "      <td>1</td>\n",
       "      <td>4</td>\n",
       "      <td>1.0</td>\n",
       "      <td>-1000</td>\n",
       "      <td>400</td>\n",
       "      <td>-1400.0</td>\n",
       "    </tr>\n",
       "    <tr>\n",
       "      <th>3</th>\n",
       "      <td>6089</td>\n",
       "      <td>1</td>\n",
       "      <td>71</td>\n",
       "      <td>2017</td>\n",
       "      <td>January</td>\n",
       "      <td>1</td>\n",
       "      <td>1</td>\n",
       "      <td>2</td>\n",
       "      <td>2</td>\n",
       "      <td>1</td>\n",
       "      <td>0</td>\n",
       "      <td>0</td>\n",
       "      <td>BB</td>\n",
       "      <td>PRT</td>\n",
       "      <td>TA/TO</td>\n",
       "      <td>0</td>\n",
       "      <td>0</td>\n",
       "      <td>0</td>\n",
       "      <td>A</td>\n",
       "      <td>0</td>\n",
       "      <td>0</td>\n",
       "      <td>Transient</td>\n",
       "      <td>0</td>\n",
       "      <td>1</td>\n",
       "      <td>4</td>\n",
       "      <td>1.0</td>\n",
       "      <td>-1000</td>\n",
       "      <td>400</td>\n",
       "      <td>-1400.0</td>\n",
       "    </tr>\n",
       "    <tr>\n",
       "      <th>4</th>\n",
       "      <td>6090</td>\n",
       "      <td>1</td>\n",
       "      <td>172</td>\n",
       "      <td>2017</td>\n",
       "      <td>January</td>\n",
       "      <td>1</td>\n",
       "      <td>1</td>\n",
       "      <td>2</td>\n",
       "      <td>5</td>\n",
       "      <td>2</td>\n",
       "      <td>0</td>\n",
       "      <td>0</td>\n",
       "      <td>BB</td>\n",
       "      <td>BEL</td>\n",
       "      <td>TA/TO</td>\n",
       "      <td>0</td>\n",
       "      <td>0</td>\n",
       "      <td>0</td>\n",
       "      <td>A</td>\n",
       "      <td>0</td>\n",
       "      <td>0</td>\n",
       "      <td>Transient</td>\n",
       "      <td>0</td>\n",
       "      <td>0</td>\n",
       "      <td>7</td>\n",
       "      <td>1.0</td>\n",
       "      <td>-1000</td>\n",
       "      <td>400</td>\n",
       "      <td>-1400.0</td>\n",
       "    </tr>\n",
       "    <tr>\n",
       "      <th>...</th>\n",
       "      <td>...</td>\n",
       "      <td>...</td>\n",
       "      <td>...</td>\n",
       "      <td>...</td>\n",
       "      <td>...</td>\n",
       "      <td>...</td>\n",
       "      <td>...</td>\n",
       "      <td>...</td>\n",
       "      <td>...</td>\n",
       "      <td>...</td>\n",
       "      <td>...</td>\n",
       "      <td>...</td>\n",
       "      <td>...</td>\n",
       "      <td>...</td>\n",
       "      <td>...</td>\n",
       "      <td>...</td>\n",
       "      <td>...</td>\n",
       "      <td>...</td>\n",
       "      <td>...</td>\n",
       "      <td>...</td>\n",
       "      <td>...</td>\n",
       "      <td>...</td>\n",
       "      <td>...</td>\n",
       "      <td>...</td>\n",
       "      <td>...</td>\n",
       "      <td>...</td>\n",
       "      <td>...</td>\n",
       "      <td>...</td>\n",
       "      <td>...</td>\n",
       "    </tr>\n",
       "    <tr>\n",
       "      <th>32336</th>\n",
       "      <td>97899</td>\n",
       "      <td>0</td>\n",
       "      <td>164</td>\n",
       "      <td>2017</td>\n",
       "      <td>August</td>\n",
       "      <td>35</td>\n",
       "      <td>31</td>\n",
       "      <td>2</td>\n",
       "      <td>4</td>\n",
       "      <td>2</td>\n",
       "      <td>0</td>\n",
       "      <td>0</td>\n",
       "      <td>BB</td>\n",
       "      <td>DEU</td>\n",
       "      <td>TA/TO</td>\n",
       "      <td>0</td>\n",
       "      <td>0</td>\n",
       "      <td>0</td>\n",
       "      <td>A</td>\n",
       "      <td>0</td>\n",
       "      <td>0</td>\n",
       "      <td>Transient</td>\n",
       "      <td>0</td>\n",
       "      <td>0</td>\n",
       "      <td>6</td>\n",
       "      <td>1.4</td>\n",
       "      <td>1000</td>\n",
       "      <td>1200</td>\n",
       "      <td>7200.0</td>\n",
       "    </tr>\n",
       "    <tr>\n",
       "      <th>32337</th>\n",
       "      <td>97900</td>\n",
       "      <td>0</td>\n",
       "      <td>21</td>\n",
       "      <td>2017</td>\n",
       "      <td>August</td>\n",
       "      <td>35</td>\n",
       "      <td>30</td>\n",
       "      <td>2</td>\n",
       "      <td>5</td>\n",
       "      <td>2</td>\n",
       "      <td>0</td>\n",
       "      <td>0</td>\n",
       "      <td>BB</td>\n",
       "      <td>BEL</td>\n",
       "      <td>TA/TO</td>\n",
       "      <td>0</td>\n",
       "      <td>0</td>\n",
       "      <td>0</td>\n",
       "      <td>A</td>\n",
       "      <td>0</td>\n",
       "      <td>0</td>\n",
       "      <td>Transient</td>\n",
       "      <td>0</td>\n",
       "      <td>2</td>\n",
       "      <td>7</td>\n",
       "      <td>1.4</td>\n",
       "      <td>1000</td>\n",
       "      <td>1600</td>\n",
       "      <td>8200.0</td>\n",
       "    </tr>\n",
       "    <tr>\n",
       "      <th>32338</th>\n",
       "      <td>97901</td>\n",
       "      <td>0</td>\n",
       "      <td>23</td>\n",
       "      <td>2017</td>\n",
       "      <td>August</td>\n",
       "      <td>35</td>\n",
       "      <td>30</td>\n",
       "      <td>2</td>\n",
       "      <td>5</td>\n",
       "      <td>2</td>\n",
       "      <td>0</td>\n",
       "      <td>0</td>\n",
       "      <td>BB</td>\n",
       "      <td>BEL</td>\n",
       "      <td>TA/TO</td>\n",
       "      <td>0</td>\n",
       "      <td>0</td>\n",
       "      <td>0</td>\n",
       "      <td>A</td>\n",
       "      <td>0</td>\n",
       "      <td>0</td>\n",
       "      <td>Transient</td>\n",
       "      <td>0</td>\n",
       "      <td>0</td>\n",
       "      <td>7</td>\n",
       "      <td>1.4</td>\n",
       "      <td>1000</td>\n",
       "      <td>1600</td>\n",
       "      <td>8200.0</td>\n",
       "    </tr>\n",
       "    <tr>\n",
       "      <th>32339</th>\n",
       "      <td>97902</td>\n",
       "      <td>0</td>\n",
       "      <td>34</td>\n",
       "      <td>2017</td>\n",
       "      <td>August</td>\n",
       "      <td>35</td>\n",
       "      <td>31</td>\n",
       "      <td>2</td>\n",
       "      <td>5</td>\n",
       "      <td>2</td>\n",
       "      <td>0</td>\n",
       "      <td>0</td>\n",
       "      <td>BB</td>\n",
       "      <td>DEU</td>\n",
       "      <td>TA/TO</td>\n",
       "      <td>0</td>\n",
       "      <td>0</td>\n",
       "      <td>0</td>\n",
       "      <td>D</td>\n",
       "      <td>0</td>\n",
       "      <td>0</td>\n",
       "      <td>Transient</td>\n",
       "      <td>0</td>\n",
       "      <td>4</td>\n",
       "      <td>7</td>\n",
       "      <td>1.4</td>\n",
       "      <td>550</td>\n",
       "      <td>600</td>\n",
       "      <td>4790.0</td>\n",
       "    </tr>\n",
       "    <tr>\n",
       "      <th>32340</th>\n",
       "      <td>97903</td>\n",
       "      <td>0</td>\n",
       "      <td>109</td>\n",
       "      <td>2017</td>\n",
       "      <td>August</td>\n",
       "      <td>35</td>\n",
       "      <td>31</td>\n",
       "      <td>2</td>\n",
       "      <td>5</td>\n",
       "      <td>2</td>\n",
       "      <td>0</td>\n",
       "      <td>0</td>\n",
       "      <td>BB</td>\n",
       "      <td>GBR</td>\n",
       "      <td>TA/TO</td>\n",
       "      <td>0</td>\n",
       "      <td>0</td>\n",
       "      <td>0</td>\n",
       "      <td>A</td>\n",
       "      <td>0</td>\n",
       "      <td>0</td>\n",
       "      <td>Transient</td>\n",
       "      <td>0</td>\n",
       "      <td>0</td>\n",
       "      <td>7</td>\n",
       "      <td>1.4</td>\n",
       "      <td>1000</td>\n",
       "      <td>1600</td>\n",
       "      <td>8200.0</td>\n",
       "    </tr>\n",
       "  </tbody>\n",
       "</table>\n",
       "<p>32341 rows × 29 columns</p>\n",
       "</div>"
      ],
      "text/plain": [
       "          id  is_canceled  lead_time  arrival_date_year arrival_date_month  \\\n",
       "0       6086            1         74               2017            January   \n",
       "1       6087            1         62               2017            January   \n",
       "2       6088            1         62               2017            January   \n",
       "3       6089            1         71               2017            January   \n",
       "4       6090            1        172               2017            January   \n",
       "...      ...          ...        ...                ...                ...   \n",
       "32336  97899            0        164               2017             August   \n",
       "32337  97900            0         21               2017             August   \n",
       "32338  97901            0         23               2017             August   \n",
       "32339  97902            0         34               2017             August   \n",
       "32340  97903            0        109               2017             August   \n",
       "\n",
       "       arrival_date_week_number  arrival_date_day_of_month  \\\n",
       "0                             1                          1   \n",
       "1                             1                          1   \n",
       "2                             1                          1   \n",
       "3                             1                          1   \n",
       "4                             1                          1   \n",
       "...                         ...                        ...   \n",
       "32336                        35                         31   \n",
       "32337                        35                         30   \n",
       "32338                        35                         30   \n",
       "32339                        35                         31   \n",
       "32340                        35                         31   \n",
       "\n",
       "       stays_in_weekend_nights  stays_in_week_nights  adults  children  \\\n",
       "0                            1                     0       2         0   \n",
       "1                            2                     2       2         0   \n",
       "2                            2                     2       2         0   \n",
       "3                            2                     2       1         0   \n",
       "4                            2                     5       2         0   \n",
       "...                        ...                   ...     ...       ...   \n",
       "32336                        2                     4       2         0   \n",
       "32337                        2                     5       2         0   \n",
       "32338                        2                     5       2         0   \n",
       "32339                        2                     5       2         0   \n",
       "32340                        2                     5       2         0   \n",
       "\n",
       "       babies meal country distribution_channel  is_repeated_guest  \\\n",
       "0           0   BB     PRT                TA/TO                  0   \n",
       "1           0   BB     AUT                TA/TO                  0   \n",
       "2           0   BB     AUT                TA/TO                  0   \n",
       "3           0   BB     PRT                TA/TO                  0   \n",
       "4           0   BB     BEL                TA/TO                  0   \n",
       "...       ...  ...     ...                  ...                ...   \n",
       "32336       0   BB     DEU                TA/TO                  0   \n",
       "32337       0   BB     BEL                TA/TO                  0   \n",
       "32338       0   BB     BEL                TA/TO                  0   \n",
       "32339       0   BB     DEU                TA/TO                  0   \n",
       "32340       0   BB     GBR                TA/TO                  0   \n",
       "\n",
       "       previous_cancellations  previous_bookings_not_canceled  \\\n",
       "0                           0                               0   \n",
       "1                           0                               0   \n",
       "2                           0                               0   \n",
       "3                           0                               0   \n",
       "4                           0                               0   \n",
       "...                       ...                             ...   \n",
       "32336                       0                               0   \n",
       "32337                       0                               0   \n",
       "32338                       0                               0   \n",
       "32339                       0                               0   \n",
       "32340                       0                               0   \n",
       "\n",
       "      reserved_room_type  booking_changes  days_in_waiting_list customer_type  \\\n",
       "0                      A                0                     0     Transient   \n",
       "1                      A                0                     0     Transient   \n",
       "2                      A                0                     0     Transient   \n",
       "3                      A                0                     0     Transient   \n",
       "4                      A                0                     0     Transient   \n",
       "...                  ...              ...                   ...           ...   \n",
       "32336                  A                0                     0     Transient   \n",
       "32337                  A                0                     0     Transient   \n",
       "32338                  A                0                     0     Transient   \n",
       "32339                  D                0                     0     Transient   \n",
       "32340                  A                0                     0     Transient   \n",
       "\n",
       "       required_car_parking_spaces  total_of_special_requests  total_nights  \\\n",
       "0                                0                          0             1   \n",
       "1                                0                          1             4   \n",
       "2                                0                          1             4   \n",
       "3                                0                          1             4   \n",
       "4                                0                          0             7   \n",
       "...                            ...                        ...           ...   \n",
       "32336                            0                          0             6   \n",
       "32337                            0                          2             7   \n",
       "32338                            0                          0             7   \n",
       "32339                            0                          4             7   \n",
       "32340                            0                          0             7   \n",
       "\n",
       "       coefficient  price_per_night  maintenance_cost  income  \n",
       "0              1.0            -1000               400 -1400.0  \n",
       "1              1.0            -1000               400 -1400.0  \n",
       "2              1.0            -1000               400 -1400.0  \n",
       "3              1.0            -1000               400 -1400.0  \n",
       "4              1.0            -1000               400 -1400.0  \n",
       "...            ...              ...               ...     ...  \n",
       "32336          1.4             1000              1200  7200.0  \n",
       "32337          1.4             1000              1600  8200.0  \n",
       "32338          1.4             1000              1600  8200.0  \n",
       "32339          1.4              550               600  4790.0  \n",
       "32340          1.4             1000              1600  8200.0  \n",
       "\n",
       "[32341 rows x 29 columns]"
      ]
     },
     "execution_count": 67,
     "metadata": {},
     "output_type": "execute_result"
    }
   ],
   "source": [
    "hotels_test"
   ]
  },
  {
   "cell_type": "markdown",
   "metadata": {},
   "source": [
    "Let's calculate how much the hotel chain earned in a year."
   ]
  },
  {
   "cell_type": "code",
   "execution_count": 68,
   "metadata": {},
   "outputs": [
    {
     "name": "stdout",
     "output_type": "stream",
     "text": [
      "52825935.0\n"
     ]
    }
   ],
   "source": [
    "income_without_deposit = hotels_test['income'].sum() * (12/8)\n",
    "print(income_without_deposit)"
   ]
  },
  {
   "cell_type": "markdown",
   "metadata": {},
   "source": [
    "### Profit calculation excluding deposits conclusion\n",
    "\n",
    "52.83 million profit for the year, taking into account losses due to the no deposit system. The hotel chain wants to implement a system which uses a ML model forecasting  booking cancelation of a client. If model predicts cancelation, then the client will be asked to make a deposit in amount of 80% of the cost of the night. 400k were allocated for the development of this system. Costs should pay off during the test period that is taking into account the model we should get profit for a year on the test dataset no less than 53.23 million. Let's move on to the next step - creating of the ML model."
   ]
  },
  {
   "cell_type": "markdown",
   "metadata": {},
   "source": [
    "## ML model development"
   ]
  },
  {
   "cell_type": "markdown",
   "metadata": {},
   "source": [
    "### Preparing data for the model\n",
    "\n",
    "**Removing unnecessary data**\n",
    "\n",
    "Let's delete unnecessary columns for model training."
   ]
  },
  {
   "cell_type": "code",
   "execution_count": 69,
   "metadata": {},
   "outputs": [],
   "source": [
    "hotels_train = hotels_train.drop(['country',\n",
    "                                  'id',\n",
    "                                  'arrival_date_year'], axis=1).reset_index(drop=True)\n",
    "\n",
    "hotels_test = hotels_test.drop(['country',\n",
    "                                'id',\n",
    "                                'arrival_date_year',\n",
    "                                'coefficient',\n",
    "                                'price_per_night',\n",
    "                                'maintenance_cost',\n",
    "                                'income'], axis=1).reset_index(drop=True)"
   ]
  },
  {
   "cell_type": "code",
   "execution_count": 70,
   "metadata": {},
   "outputs": [
    {
     "data": {
      "text/plain": [
       "(65061, 22)"
      ]
     },
     "metadata": {},
     "output_type": "display_data"
    },
    {
     "data": {
      "text/plain": [
       "(32341, 22)"
      ]
     },
     "metadata": {},
     "output_type": "display_data"
    }
   ],
   "source": [
    "display(hotels_train.shape)\n",
    "display(hotels_test.shape)"
   ]
  },
  {
   "cell_type": "markdown",
   "metadata": {},
   "source": [
    "We've deleted the columns, checked sizes of the datasets, both datasets have the same amount of columns. We can proceed to encoding of categorical variables.\n",
    "\n",
    "**Ordinal coding**\n",
    "\n",
    "As an encoding, we choose ordinal encoding. One-Hot Encoding is not suitable for us using these datasets. If we used OHE, we would get different amount of columns."
   ]
  },
  {
   "cell_type": "code",
   "execution_count": 71,
   "metadata": {},
   "outputs": [],
   "source": [
    "encoder = OrdinalEncoder(handle_unknown='use_encoded_value', unknown_value=1234)\n",
    "encoder.fit(hotels_train)\n",
    "train_ordinal = pd.DataFrame(encoder.transform(hotels_train),\n",
    "                            columns=hotels_train.columns)\n",
    "\n",
    "test_ordinal = pd.DataFrame(encoder.transform(hotels_test),\n",
    "                            columns=hotels_test.columns)"
   ]
  },
  {
   "cell_type": "markdown",
   "metadata": {},
   "source": [
    "Encoding completed. Target value is column `is_canceled` that contans information about booking cancelation. It is a classification task for the ML model."
   ]
  },
  {
   "cell_type": "code",
   "execution_count": 72,
   "metadata": {},
   "outputs": [],
   "source": [
    "features_train = train_ordinal.drop('is_canceled', axis=1)\n",
    "features_test = test_ordinal.drop('is_canceled', axis=1)\n",
    "\n",
    "target_train = train_ordinal['is_canceled']\n",
    "target_test = test_ordinal['is_canceled']"
   ]
  },
  {
   "cell_type": "code",
   "execution_count": 73,
   "metadata": {},
   "outputs": [
    {
     "data": {
      "text/plain": [
       "(65061, 21)"
      ]
     },
     "metadata": {},
     "output_type": "display_data"
    },
    {
     "data": {
      "text/plain": [
       "(32341, 21)"
      ]
     },
     "metadata": {},
     "output_type": "display_data"
    },
    {
     "data": {
      "text/plain": [
       "(65061,)"
      ]
     },
     "metadata": {},
     "output_type": "display_data"
    },
    {
     "data": {
      "text/plain": [
       "(32341,)"
      ]
     },
     "metadata": {},
     "output_type": "display_data"
    }
   ],
   "source": [
    "display(features_train.shape)\n",
    "display(features_test.shape)\n",
    "display(target_train.shape)\n",
    "display(target_test.shape)"
   ]
  },
  {
   "cell_type": "markdown",
   "metadata": {},
   "source": [
    "We've separated target and features for both datasets.\n",
    "\n",
    "**Standardization**\n",
    "\n",
    "Let's do standardization of features to make it look like standard normally distributed data which helps to train ML model more efficiently."
   ]
  },
  {
   "cell_type": "code",
   "execution_count": 74,
   "metadata": {},
   "outputs": [],
   "source": [
    "pd.options.mode.chained_assignment = None\n",
    "\n",
    "numeric = list(features_train.columns)\n",
    "\n",
    "scaler = StandardScaler()\n",
    "scaler.fit(features_train[numeric])\n",
    "features_train[numeric] = scaler.transform(features_train[numeric])\n",
    "features_test[numeric] = scaler.transform(features_test[numeric])"
   ]
  },
  {
   "cell_type": "markdown",
   "metadata": {},
   "source": [
    "### Random Forest\n",
    "\n",
    "Using cross-validation GridSearchCV we'll find the best parameters for random forest model. As estimator we're going to use Recall since we're more interested in how good the model can predict true positives. If model predict positive when it's actually negative, the hotel will ask a client to make a deposit, the client will not cancel the booking and the chain won't lose money. If model predict negative when it's actually positive, the hotel won't ask a client to make a deposit but the client will cancel the booking and the chain will lose money. That's why we are specificaly interested in prediction of true positives."
   ]
  },
  {
   "cell_type": "code",
   "execution_count": 75,
   "metadata": {},
   "outputs": [],
   "source": [
    "n_estimators = list(range(10, 151, 20))\n",
    "max_depth = list(range(1, 15, 2))"
   ]
  },
  {
   "cell_type": "code",
   "execution_count": 76,
   "metadata": {},
   "outputs": [],
   "source": [
    "rf = RandomForestClassifier()\n",
    "params = {\n",
    "    'random_state': [12345],\n",
    "    'class_weight':['balanced', None],\n",
    "    'n_estimators': n_estimators,\n",
    "    'max_depth': max_depth\n",
    "         }\n",
    "\n",
    "rf_clf = GridSearchCV(\n",
    "    estimator=rf,\n",
    "    param_grid=params,\n",
    "    cv=5,\n",
    "    scoring='recall'\n",
    ")"
   ]
  },
  {
   "cell_type": "markdown",
   "metadata": {},
   "source": [
    "We've filled out parameters among which GridSerchCV will choose the model with the best estimator."
   ]
  },
  {
   "cell_type": "code",
   "execution_count": 77,
   "metadata": {},
   "outputs": [
    {
     "name": "stdout",
     "output_type": "stream",
     "text": [
      "CPU times: total: 10min 41s\n",
      "Wall time: 10min 42s\n"
     ]
    },
    {
     "data": {
      "text/plain": [
       "GridSearchCV(cv=5, estimator=RandomForestClassifier(),\n",
       "             param_grid={'class_weight': ['balanced', None],\n",
       "                         'max_depth': [1, 3, 5, 7, 9, 11, 13],\n",
       "                         'n_estimators': [10, 30, 50, 70, 90, 110, 130, 150],\n",
       "                         'random_state': [12345]},\n",
       "             scoring='recall')"
      ]
     },
     "execution_count": 77,
     "metadata": {},
     "output_type": "execute_result"
    }
   ],
   "source": [
    "%%time\n",
    "rf_clf.fit(features_train, target_train)"
   ]
  },
  {
   "cell_type": "code",
   "execution_count": 78,
   "metadata": {},
   "outputs": [
    {
     "name": "stdout",
     "output_type": "stream",
     "text": [
      "RandomForestClassifier(class_weight='balanced', max_depth=1, n_estimators=10,\n",
      "                       random_state=12345)\n",
      "Recall модели: 0.7910952629019935\n"
     ]
    }
   ],
   "source": [
    "print(rf_clf.best_estimator_)\n",
    "print(\"Recall модели:\", rf_clf.best_score_)"
   ]
  },
  {
   "cell_type": "markdown",
   "metadata": {},
   "source": [
    "We've got the model with **Recall: 0.791** on the training data.\n",
    "\n",
    "### Decision Tree\n",
    "\n",
    "We'll check what we can get using DT. The same as for RF we're going to use GridSearchCV for finding the best parameters."
   ]
  },
  {
   "cell_type": "code",
   "execution_count": 79,
   "metadata": {},
   "outputs": [],
   "source": [
    "max_depth = list(range(1, 21, 2))\n",
    "min_samples_leaf = list(range(1, 21))"
   ]
  },
  {
   "cell_type": "code",
   "execution_count": 80,
   "metadata": {},
   "outputs": [],
   "source": [
    "dt = DecisionTreeClassifier()\n",
    "params = {\n",
    "    'random_state': [12345],\n",
    "    'class_weight':['balanced', None],\n",
    "    'min_samples_leaf': min_samples_leaf,\n",
    "    'max_depth': max_depth\n",
    "         }\n",
    "\n",
    "dt_clf = GridSearchCV(\n",
    "    estimator=dt,\n",
    "    param_grid=params,\n",
    "    cv=5,\n",
    "    scoring='recall'\n",
    ")"
   ]
  },
  {
   "cell_type": "code",
   "execution_count": 81,
   "metadata": {},
   "outputs": [
    {
     "name": "stdout",
     "output_type": "stream",
     "text": [
      "CPU times: total: 3min 24s\n",
      "Wall time: 3min 24s\n"
     ]
    },
    {
     "data": {
      "text/plain": [
       "GridSearchCV(cv=5, estimator=DecisionTreeClassifier(),\n",
       "             param_grid={'class_weight': ['balanced', None],\n",
       "                         'max_depth': [1, 3, 5, 7, 9, 11, 13, 15, 17, 19],\n",
       "                         'min_samples_leaf': [1, 2, 3, 4, 5, 6, 7, 8, 9, 10, 11,\n",
       "                                              12, 13, 14, 15, 16, 17, 18, 19,\n",
       "                                              20],\n",
       "                         'random_state': [12345]},\n",
       "             scoring='recall')"
      ]
     },
     "execution_count": 81,
     "metadata": {},
     "output_type": "execute_result"
    }
   ],
   "source": [
    "%%time\n",
    "dt_clf.fit(features_train, target_train)"
   ]
  },
  {
   "cell_type": "code",
   "execution_count": 82,
   "metadata": {},
   "outputs": [
    {
     "name": "stdout",
     "output_type": "stream",
     "text": [
      "DecisionTreeClassifier(class_weight='balanced', max_depth=5, random_state=12345)\n",
      "Recall модели: 0.5843533461832326\n"
     ]
    }
   ],
   "source": [
    "print(dt_clf.best_estimator_)\n",
    "print(\"Recall модели:\", dt_clf.best_score_)"
   ]
  },
  {
   "cell_type": "markdown",
   "metadata": {},
   "source": [
    "We've got the model with **Recall: 0.584** on the training data."
   ]
  },
  {
   "cell_type": "markdown",
   "metadata": {},
   "source": [
    "### Test data"
   ]
  },
  {
   "cell_type": "markdown",
   "metadata": {},
   "source": [
    "We've trained two model on the training data: random forest and decision tree. RF showed better results, so we'll use this model on test data.\n",
    "\n",
    "Let's make predictions using our trained model."
   ]
  },
  {
   "cell_type": "code",
   "execution_count": 83,
   "metadata": {},
   "outputs": [
    {
     "name": "stdout",
     "output_type": "stream",
     "text": [
      "Accuracy: 0.6230481432237717\n",
      "F1: 0.5842796248934357\n",
      "recall 0.6820859872611464\n",
      "precision 0.5110050700864898\n"
     ]
    }
   ],
   "source": [
    "predicted = rf_clf.predict(features_test)\n",
    "print('Accuracy:', accuracy_score(target_test, predicted))\n",
    "print('F1:', f1_score(target_test, predicted))\n",
    "print('recall', recall_score(target_test, predicted))\n",
    "print('precision', precision_score(target_test, predicted))"
   ]
  },
  {
   "cell_type": "markdown",
   "metadata": {},
   "source": [
    "We've got **Recall: 0.682**. Let's transform out predictions into Series."
   ]
  },
  {
   "cell_type": "code",
   "execution_count": 84,
   "metadata": {},
   "outputs": [],
   "source": [
    "predicted = pd.Series(predicted).reset_index(drop=True)"
   ]
  },
  {
   "cell_type": "markdown",
   "metadata": {},
   "source": [
    "Now we're going to add our predictions to the dataframe with test data."
   ]
  },
  {
   "cell_type": "code",
   "execution_count": 85,
   "metadata": {},
   "outputs": [],
   "source": [
    "hotels_predicted = hotels_test.assign(predicted_canceled = predicted)"
   ]
  },
  {
   "cell_type": "markdown",
   "metadata": {},
   "source": [
    "Let's write a function for calculation of the hotel chain's profit in a year, using our model."
   ]
  },
  {
   "cell_type": "code",
   "execution_count": 86,
   "metadata": {},
   "outputs": [],
   "source": [
    "def income(dataframe):\n",
    "    # Same as calculation without model, we'll create columns for coefficients, price and maintenance per night.\n",
    "    dataframe['coefficient'] = dataframe['arrival_date_month'].apply(coef)\n",
    "    dataframe['price_per_night'] = dataframe['reserved_room_type'].apply(room_type)\n",
    "    dataframe['maintenance_cost'] = dataframe['reserved_room_type'].apply(maintenance)        \n",
    "    \n",
    "    # We'll calculate the final cost of maintenance considering the model's predictions.\n",
    "    dataframe.loc[((dataframe['total_nights'] > 2) & (dataframe['predicted_canceled'] != 1)) | \\\n",
    "                  (dataframe['is_canceled'] != 1), 'maintenance_cost'] = \\\n",
    "    dataframe['maintenance_cost'] * ((dataframe['total_nights'] / 2).apply(np.ceil))    \n",
    "\n",
    "    \n",
    "    # Income calculation in case when the model correctly predicted first class.\n",
    "    dataframe.loc[(dataframe['predicted_canceled'] == 1) & (dataframe['is_canceled'] == 1), 'income'] = \\\n",
    "        (DEPOSIT - 1) * \\\n",
    "        dataframe['price_per_night'] * \\\n",
    "        dataframe['coefficient'] - \\\n",
    "        dataframe['maintenance_cost']\n",
    "    \n",
    "    # Income calculation in case when the model correctly predicted zero class and wrongly first class.\n",
    "    dataframe.loc[((dataframe['predicted_canceled'] == 0) | (dataframe['predicted_canceled'] == 1)) & \\\n",
    "                  (dataframe['is_canceled'] == 0), 'income'] = \\\n",
    "        dataframe['price_per_night'] * \\\n",
    "        dataframe['coefficient'] * \\\n",
    "        dataframe['total_nights'] - \\\n",
    "        dataframe['maintenance_cost']\n",
    "    \n",
    "    # Income calculation in case when the model wrongly predicted zero class.\n",
    "    dataframe.loc[(dataframe['predicted_canceled'] == 0) & (dataframe['is_canceled'] == 1), 'income'] = \\\n",
    "        -(dataframe['price_per_night']) * \\\n",
    "        dataframe['coefficient'] - \\\n",
    "        dataframe['maintenance_cost']"
   ]
  },
  {
   "cell_type": "markdown",
   "metadata": {},
   "source": [
    "The function is created, now we'll apply it and calculate the total income in a year."
   ]
  },
  {
   "cell_type": "code",
   "execution_count": 87,
   "metadata": {},
   "outputs": [],
   "source": [
    "income(hotels_predicted)"
   ]
  },
  {
   "cell_type": "code",
   "execution_count": 88,
   "metadata": {},
   "outputs": [
    {
     "data": {
      "text/html": [
       "<div>\n",
       "<style scoped>\n",
       "    .dataframe tbody tr th:only-of-type {\n",
       "        vertical-align: middle;\n",
       "    }\n",
       "\n",
       "    .dataframe tbody tr th {\n",
       "        vertical-align: top;\n",
       "    }\n",
       "\n",
       "    .dataframe thead th {\n",
       "        text-align: right;\n",
       "    }\n",
       "</style>\n",
       "<table border=\"1\" class=\"dataframe\">\n",
       "  <thead>\n",
       "    <tr style=\"text-align: right;\">\n",
       "      <th></th>\n",
       "      <th>is_canceled</th>\n",
       "      <th>lead_time</th>\n",
       "      <th>arrival_date_month</th>\n",
       "      <th>arrival_date_week_number</th>\n",
       "      <th>arrival_date_day_of_month</th>\n",
       "      <th>stays_in_weekend_nights</th>\n",
       "      <th>stays_in_week_nights</th>\n",
       "      <th>adults</th>\n",
       "      <th>children</th>\n",
       "      <th>babies</th>\n",
       "      <th>meal</th>\n",
       "      <th>distribution_channel</th>\n",
       "      <th>is_repeated_guest</th>\n",
       "      <th>previous_cancellations</th>\n",
       "      <th>previous_bookings_not_canceled</th>\n",
       "      <th>reserved_room_type</th>\n",
       "      <th>booking_changes</th>\n",
       "      <th>days_in_waiting_list</th>\n",
       "      <th>customer_type</th>\n",
       "      <th>required_car_parking_spaces</th>\n",
       "      <th>total_of_special_requests</th>\n",
       "      <th>total_nights</th>\n",
       "      <th>predicted_canceled</th>\n",
       "      <th>coefficient</th>\n",
       "      <th>price_per_night</th>\n",
       "      <th>maintenance_cost</th>\n",
       "      <th>income</th>\n",
       "    </tr>\n",
       "  </thead>\n",
       "  <tbody>\n",
       "    <tr>\n",
       "      <th>0</th>\n",
       "      <td>1</td>\n",
       "      <td>74</td>\n",
       "      <td>January</td>\n",
       "      <td>1</td>\n",
       "      <td>1</td>\n",
       "      <td>1</td>\n",
       "      <td>0</td>\n",
       "      <td>2</td>\n",
       "      <td>0</td>\n",
       "      <td>0</td>\n",
       "      <td>BB</td>\n",
       "      <td>TA/TO</td>\n",
       "      <td>0</td>\n",
       "      <td>0</td>\n",
       "      <td>0</td>\n",
       "      <td>A</td>\n",
       "      <td>0</td>\n",
       "      <td>0</td>\n",
       "      <td>Transient</td>\n",
       "      <td>0</td>\n",
       "      <td>0</td>\n",
       "      <td>1</td>\n",
       "      <td>1.0</td>\n",
       "      <td>1.0</td>\n",
       "      <td>1000</td>\n",
       "      <td>400.0</td>\n",
       "      <td>-600.0</td>\n",
       "    </tr>\n",
       "    <tr>\n",
       "      <th>1</th>\n",
       "      <td>1</td>\n",
       "      <td>62</td>\n",
       "      <td>January</td>\n",
       "      <td>1</td>\n",
       "      <td>1</td>\n",
       "      <td>2</td>\n",
       "      <td>2</td>\n",
       "      <td>2</td>\n",
       "      <td>0</td>\n",
       "      <td>0</td>\n",
       "      <td>BB</td>\n",
       "      <td>TA/TO</td>\n",
       "      <td>0</td>\n",
       "      <td>0</td>\n",
       "      <td>0</td>\n",
       "      <td>A</td>\n",
       "      <td>0</td>\n",
       "      <td>0</td>\n",
       "      <td>Transient</td>\n",
       "      <td>0</td>\n",
       "      <td>1</td>\n",
       "      <td>4</td>\n",
       "      <td>0.0</td>\n",
       "      <td>1.0</td>\n",
       "      <td>1000</td>\n",
       "      <td>800.0</td>\n",
       "      <td>-1800.0</td>\n",
       "    </tr>\n",
       "    <tr>\n",
       "      <th>2</th>\n",
       "      <td>1</td>\n",
       "      <td>62</td>\n",
       "      <td>January</td>\n",
       "      <td>1</td>\n",
       "      <td>1</td>\n",
       "      <td>2</td>\n",
       "      <td>2</td>\n",
       "      <td>2</td>\n",
       "      <td>0</td>\n",
       "      <td>0</td>\n",
       "      <td>BB</td>\n",
       "      <td>TA/TO</td>\n",
       "      <td>0</td>\n",
       "      <td>0</td>\n",
       "      <td>0</td>\n",
       "      <td>A</td>\n",
       "      <td>0</td>\n",
       "      <td>0</td>\n",
       "      <td>Transient</td>\n",
       "      <td>0</td>\n",
       "      <td>1</td>\n",
       "      <td>4</td>\n",
       "      <td>0.0</td>\n",
       "      <td>1.0</td>\n",
       "      <td>1000</td>\n",
       "      <td>800.0</td>\n",
       "      <td>-1800.0</td>\n",
       "    </tr>\n",
       "    <tr>\n",
       "      <th>3</th>\n",
       "      <td>1</td>\n",
       "      <td>71</td>\n",
       "      <td>January</td>\n",
       "      <td>1</td>\n",
       "      <td>1</td>\n",
       "      <td>2</td>\n",
       "      <td>2</td>\n",
       "      <td>1</td>\n",
       "      <td>0</td>\n",
       "      <td>0</td>\n",
       "      <td>BB</td>\n",
       "      <td>TA/TO</td>\n",
       "      <td>0</td>\n",
       "      <td>0</td>\n",
       "      <td>0</td>\n",
       "      <td>A</td>\n",
       "      <td>0</td>\n",
       "      <td>0</td>\n",
       "      <td>Transient</td>\n",
       "      <td>0</td>\n",
       "      <td>1</td>\n",
       "      <td>4</td>\n",
       "      <td>0.0</td>\n",
       "      <td>1.0</td>\n",
       "      <td>1000</td>\n",
       "      <td>800.0</td>\n",
       "      <td>-1800.0</td>\n",
       "    </tr>\n",
       "    <tr>\n",
       "      <th>4</th>\n",
       "      <td>1</td>\n",
       "      <td>172</td>\n",
       "      <td>January</td>\n",
       "      <td>1</td>\n",
       "      <td>1</td>\n",
       "      <td>2</td>\n",
       "      <td>5</td>\n",
       "      <td>2</td>\n",
       "      <td>0</td>\n",
       "      <td>0</td>\n",
       "      <td>BB</td>\n",
       "      <td>TA/TO</td>\n",
       "      <td>0</td>\n",
       "      <td>0</td>\n",
       "      <td>0</td>\n",
       "      <td>A</td>\n",
       "      <td>0</td>\n",
       "      <td>0</td>\n",
       "      <td>Transient</td>\n",
       "      <td>0</td>\n",
       "      <td>0</td>\n",
       "      <td>7</td>\n",
       "      <td>1.0</td>\n",
       "      <td>1.0</td>\n",
       "      <td>1000</td>\n",
       "      <td>400.0</td>\n",
       "      <td>-600.0</td>\n",
       "    </tr>\n",
       "    <tr>\n",
       "      <th>...</th>\n",
       "      <td>...</td>\n",
       "      <td>...</td>\n",
       "      <td>...</td>\n",
       "      <td>...</td>\n",
       "      <td>...</td>\n",
       "      <td>...</td>\n",
       "      <td>...</td>\n",
       "      <td>...</td>\n",
       "      <td>...</td>\n",
       "      <td>...</td>\n",
       "      <td>...</td>\n",
       "      <td>...</td>\n",
       "      <td>...</td>\n",
       "      <td>...</td>\n",
       "      <td>...</td>\n",
       "      <td>...</td>\n",
       "      <td>...</td>\n",
       "      <td>...</td>\n",
       "      <td>...</td>\n",
       "      <td>...</td>\n",
       "      <td>...</td>\n",
       "      <td>...</td>\n",
       "      <td>...</td>\n",
       "      <td>...</td>\n",
       "      <td>...</td>\n",
       "      <td>...</td>\n",
       "      <td>...</td>\n",
       "    </tr>\n",
       "    <tr>\n",
       "      <th>32336</th>\n",
       "      <td>0</td>\n",
       "      <td>164</td>\n",
       "      <td>August</td>\n",
       "      <td>35</td>\n",
       "      <td>31</td>\n",
       "      <td>2</td>\n",
       "      <td>4</td>\n",
       "      <td>2</td>\n",
       "      <td>0</td>\n",
       "      <td>0</td>\n",
       "      <td>BB</td>\n",
       "      <td>TA/TO</td>\n",
       "      <td>0</td>\n",
       "      <td>0</td>\n",
       "      <td>0</td>\n",
       "      <td>A</td>\n",
       "      <td>0</td>\n",
       "      <td>0</td>\n",
       "      <td>Transient</td>\n",
       "      <td>0</td>\n",
       "      <td>0</td>\n",
       "      <td>6</td>\n",
       "      <td>1.0</td>\n",
       "      <td>1.4</td>\n",
       "      <td>1000</td>\n",
       "      <td>1200.0</td>\n",
       "      <td>7200.0</td>\n",
       "    </tr>\n",
       "    <tr>\n",
       "      <th>32337</th>\n",
       "      <td>0</td>\n",
       "      <td>21</td>\n",
       "      <td>August</td>\n",
       "      <td>35</td>\n",
       "      <td>30</td>\n",
       "      <td>2</td>\n",
       "      <td>5</td>\n",
       "      <td>2</td>\n",
       "      <td>0</td>\n",
       "      <td>0</td>\n",
       "      <td>BB</td>\n",
       "      <td>TA/TO</td>\n",
       "      <td>0</td>\n",
       "      <td>0</td>\n",
       "      <td>0</td>\n",
       "      <td>A</td>\n",
       "      <td>0</td>\n",
       "      <td>0</td>\n",
       "      <td>Transient</td>\n",
       "      <td>0</td>\n",
       "      <td>2</td>\n",
       "      <td>7</td>\n",
       "      <td>0.0</td>\n",
       "      <td>1.4</td>\n",
       "      <td>1000</td>\n",
       "      <td>1600.0</td>\n",
       "      <td>8200.0</td>\n",
       "    </tr>\n",
       "    <tr>\n",
       "      <th>32338</th>\n",
       "      <td>0</td>\n",
       "      <td>23</td>\n",
       "      <td>August</td>\n",
       "      <td>35</td>\n",
       "      <td>30</td>\n",
       "      <td>2</td>\n",
       "      <td>5</td>\n",
       "      <td>2</td>\n",
       "      <td>0</td>\n",
       "      <td>0</td>\n",
       "      <td>BB</td>\n",
       "      <td>TA/TO</td>\n",
       "      <td>0</td>\n",
       "      <td>0</td>\n",
       "      <td>0</td>\n",
       "      <td>A</td>\n",
       "      <td>0</td>\n",
       "      <td>0</td>\n",
       "      <td>Transient</td>\n",
       "      <td>0</td>\n",
       "      <td>0</td>\n",
       "      <td>7</td>\n",
       "      <td>1.0</td>\n",
       "      <td>1.4</td>\n",
       "      <td>1000</td>\n",
       "      <td>1600.0</td>\n",
       "      <td>8200.0</td>\n",
       "    </tr>\n",
       "    <tr>\n",
       "      <th>32339</th>\n",
       "      <td>0</td>\n",
       "      <td>34</td>\n",
       "      <td>August</td>\n",
       "      <td>35</td>\n",
       "      <td>31</td>\n",
       "      <td>2</td>\n",
       "      <td>5</td>\n",
       "      <td>2</td>\n",
       "      <td>0</td>\n",
       "      <td>0</td>\n",
       "      <td>BB</td>\n",
       "      <td>TA/TO</td>\n",
       "      <td>0</td>\n",
       "      <td>0</td>\n",
       "      <td>0</td>\n",
       "      <td>D</td>\n",
       "      <td>0</td>\n",
       "      <td>0</td>\n",
       "      <td>Transient</td>\n",
       "      <td>0</td>\n",
       "      <td>4</td>\n",
       "      <td>7</td>\n",
       "      <td>0.0</td>\n",
       "      <td>1.4</td>\n",
       "      <td>550</td>\n",
       "      <td>600.0</td>\n",
       "      <td>4790.0</td>\n",
       "    </tr>\n",
       "    <tr>\n",
       "      <th>32340</th>\n",
       "      <td>0</td>\n",
       "      <td>109</td>\n",
       "      <td>August</td>\n",
       "      <td>35</td>\n",
       "      <td>31</td>\n",
       "      <td>2</td>\n",
       "      <td>5</td>\n",
       "      <td>2</td>\n",
       "      <td>0</td>\n",
       "      <td>0</td>\n",
       "      <td>BB</td>\n",
       "      <td>TA/TO</td>\n",
       "      <td>0</td>\n",
       "      <td>0</td>\n",
       "      <td>0</td>\n",
       "      <td>A</td>\n",
       "      <td>0</td>\n",
       "      <td>0</td>\n",
       "      <td>Transient</td>\n",
       "      <td>0</td>\n",
       "      <td>0</td>\n",
       "      <td>7</td>\n",
       "      <td>1.0</td>\n",
       "      <td>1.4</td>\n",
       "      <td>1000</td>\n",
       "      <td>1600.0</td>\n",
       "      <td>8200.0</td>\n",
       "    </tr>\n",
       "  </tbody>\n",
       "</table>\n",
       "<p>32341 rows × 27 columns</p>\n",
       "</div>"
      ],
      "text/plain": [
       "       is_canceled  lead_time arrival_date_month  arrival_date_week_number  \\\n",
       "0                1         74            January                         1   \n",
       "1                1         62            January                         1   \n",
       "2                1         62            January                         1   \n",
       "3                1         71            January                         1   \n",
       "4                1        172            January                         1   \n",
       "...            ...        ...                ...                       ...   \n",
       "32336            0        164             August                        35   \n",
       "32337            0         21             August                        35   \n",
       "32338            0         23             August                        35   \n",
       "32339            0         34             August                        35   \n",
       "32340            0        109             August                        35   \n",
       "\n",
       "       arrival_date_day_of_month  stays_in_weekend_nights  \\\n",
       "0                              1                        1   \n",
       "1                              1                        2   \n",
       "2                              1                        2   \n",
       "3                              1                        2   \n",
       "4                              1                        2   \n",
       "...                          ...                      ...   \n",
       "32336                         31                        2   \n",
       "32337                         30                        2   \n",
       "32338                         30                        2   \n",
       "32339                         31                        2   \n",
       "32340                         31                        2   \n",
       "\n",
       "       stays_in_week_nights  adults  children  babies meal  \\\n",
       "0                         0       2         0       0   BB   \n",
       "1                         2       2         0       0   BB   \n",
       "2                         2       2         0       0   BB   \n",
       "3                         2       1         0       0   BB   \n",
       "4                         5       2         0       0   BB   \n",
       "...                     ...     ...       ...     ...  ...   \n",
       "32336                     4       2         0       0   BB   \n",
       "32337                     5       2         0       0   BB   \n",
       "32338                     5       2         0       0   BB   \n",
       "32339                     5       2         0       0   BB   \n",
       "32340                     5       2         0       0   BB   \n",
       "\n",
       "      distribution_channel  is_repeated_guest  previous_cancellations  \\\n",
       "0                    TA/TO                  0                       0   \n",
       "1                    TA/TO                  0                       0   \n",
       "2                    TA/TO                  0                       0   \n",
       "3                    TA/TO                  0                       0   \n",
       "4                    TA/TO                  0                       0   \n",
       "...                    ...                ...                     ...   \n",
       "32336                TA/TO                  0                       0   \n",
       "32337                TA/TO                  0                       0   \n",
       "32338                TA/TO                  0                       0   \n",
       "32339                TA/TO                  0                       0   \n",
       "32340                TA/TO                  0                       0   \n",
       "\n",
       "       previous_bookings_not_canceled reserved_room_type  booking_changes  \\\n",
       "0                                   0                  A                0   \n",
       "1                                   0                  A                0   \n",
       "2                                   0                  A                0   \n",
       "3                                   0                  A                0   \n",
       "4                                   0                  A                0   \n",
       "...                               ...                ...              ...   \n",
       "32336                               0                  A                0   \n",
       "32337                               0                  A                0   \n",
       "32338                               0                  A                0   \n",
       "32339                               0                  D                0   \n",
       "32340                               0                  A                0   \n",
       "\n",
       "       days_in_waiting_list customer_type  required_car_parking_spaces  \\\n",
       "0                         0     Transient                            0   \n",
       "1                         0     Transient                            0   \n",
       "2                         0     Transient                            0   \n",
       "3                         0     Transient                            0   \n",
       "4                         0     Transient                            0   \n",
       "...                     ...           ...                          ...   \n",
       "32336                     0     Transient                            0   \n",
       "32337                     0     Transient                            0   \n",
       "32338                     0     Transient                            0   \n",
       "32339                     0     Transient                            0   \n",
       "32340                     0     Transient                            0   \n",
       "\n",
       "       total_of_special_requests  total_nights  predicted_canceled  \\\n",
       "0                              0             1                 1.0   \n",
       "1                              1             4                 0.0   \n",
       "2                              1             4                 0.0   \n",
       "3                              1             4                 0.0   \n",
       "4                              0             7                 1.0   \n",
       "...                          ...           ...                 ...   \n",
       "32336                          0             6                 1.0   \n",
       "32337                          2             7                 0.0   \n",
       "32338                          0             7                 1.0   \n",
       "32339                          4             7                 0.0   \n",
       "32340                          0             7                 1.0   \n",
       "\n",
       "       coefficient  price_per_night  maintenance_cost  income  \n",
       "0              1.0             1000             400.0  -600.0  \n",
       "1              1.0             1000             800.0 -1800.0  \n",
       "2              1.0             1000             800.0 -1800.0  \n",
       "3              1.0             1000             800.0 -1800.0  \n",
       "4              1.0             1000             400.0  -600.0  \n",
       "...            ...              ...               ...     ...  \n",
       "32336          1.4             1000            1200.0  7200.0  \n",
       "32337          1.4             1000            1600.0  8200.0  \n",
       "32338          1.4             1000            1600.0  8200.0  \n",
       "32339          1.4              550             600.0  4790.0  \n",
       "32340          1.4             1000            1600.0  8200.0  \n",
       "\n",
       "[32341 rows x 27 columns]"
      ]
     },
     "execution_count": 88,
     "metadata": {},
     "output_type": "execute_result"
    }
   ],
   "source": [
    "hotels_predicted"
   ]
  },
  {
   "cell_type": "code",
   "execution_count": 89,
   "metadata": {},
   "outputs": [
    {
     "name": "stdout",
     "output_type": "stream",
     "text": [
      "Profit with deposit: 62250180.0\n",
      "Profit without deposit: 52825935.0\n",
      "The difference in revenue considering development costs: 9024245.0\n"
     ]
    }
   ],
   "source": [
    "income_with_deposit = hotels_predicted['income'].sum() * (12/8)\n",
    "print('Profit with deposit:', income_with_deposit)\n",
    "print('Profit without deposit:', income_without_deposit)\n",
    "print('The difference in revenue considering development costs:', income_with_deposit - BUDGET - income_without_deposit)"
   ]
  },
  {
   "cell_type": "markdown",
   "metadata": {},
   "source": [
    "The income using the model is 62.3 million."
   ]
  },
  {
   "cell_type": "markdown",
   "metadata": {},
   "source": [
    "### ML model conclusion\n",
    "\n",
    "We've prepared datasets for the model: \n",
    "\n",
    "- We've deleted unnecessary for training columns.\n",
    "- We've made ordinal coding and standartization.\n",
    "- We've decided what is the target (column `is_canceled`). There is a classification task (0 - the booking is not canceled, 1 - the booking is canceled).\n",
    "- We've choose an estimator - Recall.\n",
    "\n",
    "We've compared two types of classification models: RandomForestClassifier and DecisionTreeClassifier. Finding out the best parameters were made with cross-validation GridSearchCV. RF showed better results.\n",
    "\n",
    "We've applied our model on the test dataset. After that, we were able to check whether the development of a forecasting system would pay off. In previous step, we've calculated a profit in a year without a model - 52.8 million. The budget for development is 400 thousands which should be paid off in a year. With the model we were able to achieve the profit in amount of 62.3 million. So, if we include costs for development using the moidel will bring an additional 9 million for the test period."
   ]
  },
  {
   "cell_type": "markdown",
   "metadata": {},
   "source": [
    "## Portrait of an \"unreliable\" client"
   ]
  },
  {
   "cell_type": "markdown",
   "metadata": {},
   "source": [
    "As we found out during the EDA the most significant features are:\n",
    "\n",
    "- No special requests. The person who has any special request is less likely to cancel.\n",
    "- People how already booked in this hotel chain before are less likely to cancel than those who book for the first time.\n",
    "- Late spring - early summer is the period with frequent cancellations. The winter has the least amount of cancellations.\n",
    "- Distribution channel TA/TO is the most unreliable."
   ]
  },
  {
   "cell_type": "markdown",
   "metadata": {},
   "source": [
    "## General conclusion"
   ]
  },
  {
   "cell_type": "markdown",
   "metadata": {},
   "source": [
    "Our task was to develop a cancellation prediction model for a hotel chain and evaluate its profitability. 400 thousand were allocated for development, which should pay off during the test period. We have achieved these results. We've preprocessed these datasets and made Exploratory Data Analysis.\n",
    "\n",
    "We were provided with two datasets, one for training a model, the other for testing it. As a result of the analysis, we found out what signs affect the cancellation of the reservation. More detailed about it in the step above and in conclusion about EDA.\n",
    "\n",
    "We calculated the profit without taking into account the model. Received for the test period 52.83 million.\n",
    "\n",
    "Prepared the data for the model. Trained few models on training data and using cross-validation determined the best among them - Random Forest. As an estimator we've used Recall. Using this model we've made a prediction on the test data and calculated the profit taking into account the use of the model. The profit is 62.3 million. Taking into account the development costs, the use of the model will bring an additional 9 million for the test period.\n",
    "\n",
    "We can recommend a hotel chain, implement this system. And also pay attention to the distribution channel TA/TO in which percent of cancellation is very different from the rest. It may be worth considering a separate policy for working with this channel."
   ]
  },
  {
   "cell_type": "code",
   "execution_count": null,
   "metadata": {},
   "outputs": [],
   "source": []
  }
 ],
 "metadata": {
  "ExecuteTimeLog": [
   {
    "duration": 1678,
    "start_time": "2022-11-30T18:56:33.276Z"
   },
   {
    "duration": 491,
    "start_time": "2022-11-30T18:56:34.957Z"
   },
   {
    "duration": 41,
    "start_time": "2022-11-30T18:56:35.450Z"
   },
   {
    "duration": 63,
    "start_time": "2022-11-30T18:56:35.493Z"
   },
   {
    "duration": 45,
    "start_time": "2022-11-30T18:56:35.558Z"
   },
   {
    "duration": 14,
    "start_time": "2022-11-30T18:56:35.605Z"
   },
   {
    "duration": 66,
    "start_time": "2022-11-30T18:56:35.621Z"
   },
   {
    "duration": 29,
    "start_time": "2022-11-30T18:56:35.688Z"
   },
   {
    "duration": 10,
    "start_time": "2022-11-30T18:56:35.718Z"
   },
   {
    "duration": 9,
    "start_time": "2022-11-30T18:56:35.731Z"
   },
   {
    "duration": 62,
    "start_time": "2022-11-30T18:56:35.742Z"
   },
   {
    "duration": 11,
    "start_time": "2022-11-30T18:56:35.806Z"
   },
   {
    "duration": 12,
    "start_time": "2022-11-30T18:56:35.818Z"
   },
   {
    "duration": 16,
    "start_time": "2022-11-30T18:56:35.831Z"
   },
   {
    "duration": 34,
    "start_time": "2022-11-30T18:56:35.849Z"
   },
   {
    "duration": 32,
    "start_time": "2022-11-30T18:56:35.885Z"
   },
   {
    "duration": 10,
    "start_time": "2022-11-30T18:56:35.919Z"
   },
   {
    "duration": 14,
    "start_time": "2022-11-30T18:56:35.931Z"
   },
   {
    "duration": 35,
    "start_time": "2022-11-30T18:56:35.947Z"
   },
   {
    "duration": 69,
    "start_time": "2022-11-30T18:56:35.984Z"
   },
   {
    "duration": 2014,
    "start_time": "2022-11-30T18:56:36.055Z"
   },
   {
    "duration": 1947,
    "start_time": "2022-11-30T18:56:38.071Z"
   },
   {
    "duration": 9,
    "start_time": "2022-11-30T18:56:40.020Z"
   },
   {
    "duration": 20,
    "start_time": "2022-11-30T18:56:40.031Z"
   },
   {
    "duration": 41,
    "start_time": "2022-11-30T18:56:40.053Z"
   },
   {
    "duration": 7,
    "start_time": "2022-11-30T18:56:40.096Z"
   },
   {
    "duration": 12,
    "start_time": "2022-11-30T18:56:40.104Z"
   },
   {
    "duration": 22,
    "start_time": "2022-11-30T18:56:40.120Z"
   },
   {
    "duration": 10,
    "start_time": "2022-11-30T18:56:40.143Z"
   },
   {
    "duration": 25,
    "start_time": "2022-11-30T18:56:40.154Z"
   },
   {
    "duration": 9,
    "start_time": "2022-11-30T18:56:40.180Z"
   },
   {
    "duration": 24,
    "start_time": "2022-11-30T18:56:40.190Z"
   },
   {
    "duration": 23,
    "start_time": "2022-11-30T18:56:40.216Z"
   },
   {
    "duration": 49,
    "start_time": "2022-11-30T18:56:40.241Z"
   },
   {
    "duration": 94,
    "start_time": "2022-11-30T18:56:40.292Z"
   },
   {
    "duration": 93,
    "start_time": "2022-11-30T18:56:40.388Z"
   },
   {
    "duration": 160,
    "start_time": "2022-11-30T18:56:40.482Z"
   },
   {
    "duration": 164,
    "start_time": "2022-11-30T18:56:40.643Z"
   },
   {
    "duration": 251,
    "start_time": "2022-11-30T18:56:40.808Z"
   },
   {
    "duration": 177,
    "start_time": "2022-11-30T18:56:41.060Z"
   },
   {
    "duration": 16,
    "start_time": "2022-11-30T18:56:41.239Z"
   },
   {
    "duration": 28,
    "start_time": "2022-11-30T18:56:41.256Z"
   },
   {
    "duration": 267,
    "start_time": "2022-11-30T18:56:41.285Z"
   },
   {
    "duration": 144,
    "start_time": "2022-11-30T18:56:41.553Z"
   },
   {
    "duration": 14,
    "start_time": "2022-11-30T18:56:41.698Z"
   },
   {
    "duration": 11,
    "start_time": "2022-11-30T18:56:41.713Z"
   },
   {
    "duration": 11,
    "start_time": "2022-11-30T18:56:41.726Z"
   },
   {
    "duration": 39,
    "start_time": "2022-11-30T18:56:41.738Z"
   },
   {
    "duration": 17,
    "start_time": "2022-11-30T18:56:41.778Z"
   },
   {
    "duration": 15,
    "start_time": "2022-11-30T18:56:41.796Z"
   },
   {
    "duration": 16,
    "start_time": "2022-11-30T18:56:41.813Z"
   },
   {
    "duration": 18,
    "start_time": "2022-11-30T18:56:41.830Z"
   },
   {
    "duration": 46,
    "start_time": "2022-11-30T18:56:41.849Z"
   },
   {
    "duration": 31,
    "start_time": "2022-11-30T18:56:41.897Z"
   },
   {
    "duration": 5,
    "start_time": "2022-11-30T18:56:41.929Z"
   },
   {
    "duration": 18,
    "start_time": "2022-11-30T18:56:41.935Z"
   },
   {
    "duration": 40,
    "start_time": "2022-11-30T18:56:41.955Z"
   },
   {
    "duration": 57,
    "start_time": "2022-11-30T18:56:41.998Z"
   },
   {
    "duration": 25,
    "start_time": "2022-11-30T18:56:42.057Z"
   },
   {
    "duration": 15,
    "start_time": "2022-11-30T18:56:42.083Z"
   },
   {
    "duration": 27,
    "start_time": "2022-11-30T18:56:42.100Z"
   },
   {
    "duration": 24,
    "start_time": "2022-11-30T18:56:42.129Z"
   },
   {
    "duration": 32,
    "start_time": "2022-11-30T18:56:42.154Z"
   },
   {
    "duration": 38,
    "start_time": "2022-11-30T18:56:42.188Z"
   },
   {
    "duration": 22,
    "start_time": "2022-11-30T18:56:42.228Z"
   },
   {
    "duration": 39,
    "start_time": "2022-11-30T18:56:42.252Z"
   },
   {
    "duration": 5,
    "start_time": "2022-11-30T18:56:42.292Z"
   },
   {
    "duration": 207,
    "start_time": "2022-11-30T18:56:42.298Z"
   },
   {
    "duration": 12,
    "start_time": "2022-11-30T18:56:42.506Z"
   },
   {
    "duration": 21,
    "start_time": "2022-11-30T18:56:42.519Z"
   },
   {
    "duration": 96,
    "start_time": "2022-11-30T18:56:42.542Z"
   },
   {
    "duration": 3,
    "start_time": "2022-11-30T18:56:42.639Z"
   },
   {
    "duration": 14,
    "start_time": "2022-11-30T18:56:42.644Z"
   },
   {
    "duration": 870051,
    "start_time": "2022-11-30T18:56:42.660Z"
   },
   {
    "duration": 4,
    "start_time": "2022-11-30T19:11:12.713Z"
   },
   {
    "duration": 7,
    "start_time": "2022-11-30T19:11:12.718Z"
   },
   {
    "duration": 7,
    "start_time": "2022-11-30T19:11:12.726Z"
   },
   {
    "duration": 279570,
    "start_time": "2022-11-30T19:11:12.734Z"
   },
   {
    "duration": 4,
    "start_time": "2022-11-30T19:15:52.306Z"
   },
   {
    "duration": 107,
    "start_time": "2022-11-30T19:15:52.312Z"
   },
   {
    "duration": 4,
    "start_time": "2022-11-30T19:15:52.421Z"
   },
   {
    "duration": 5,
    "start_time": "2022-11-30T19:15:52.431Z"
   },
   {
    "duration": 8,
    "start_time": "2022-11-30T19:15:52.438Z"
   },
   {
    "duration": 81,
    "start_time": "2022-11-30T19:15:52.448Z"
   },
   {
    "duration": 5,
    "start_time": "2022-11-30T19:15:52.531Z"
   },
   {
    "duration": 1812,
    "start_time": "2022-12-01T18:41:25.694Z"
   },
   {
    "duration": 454,
    "start_time": "2022-12-01T18:41:27.508Z"
   },
   {
    "duration": 41,
    "start_time": "2022-12-01T18:41:27.964Z"
   },
   {
    "duration": 44,
    "start_time": "2022-12-01T18:41:28.007Z"
   },
   {
    "duration": 26,
    "start_time": "2022-12-01T18:41:28.052Z"
   },
   {
    "duration": 38,
    "start_time": "2022-12-01T18:41:28.080Z"
   },
   {
    "duration": 61,
    "start_time": "2022-12-01T18:41:28.120Z"
   },
   {
    "duration": 43,
    "start_time": "2022-12-01T18:41:28.183Z"
   },
   {
    "duration": 9,
    "start_time": "2022-12-01T18:41:28.228Z"
   },
   {
    "duration": 10,
    "start_time": "2022-12-01T18:41:28.239Z"
   },
   {
    "duration": 41,
    "start_time": "2022-12-01T18:41:28.251Z"
   },
   {
    "duration": 27,
    "start_time": "2022-12-01T18:41:28.294Z"
   },
   {
    "duration": 15,
    "start_time": "2022-12-01T18:41:28.323Z"
   },
   {
    "duration": 9,
    "start_time": "2022-12-01T18:41:28.340Z"
   },
   {
    "duration": 17,
    "start_time": "2022-12-01T18:41:28.352Z"
   },
   {
    "duration": 63,
    "start_time": "2022-12-01T18:41:28.370Z"
   },
   {
    "duration": 9,
    "start_time": "2022-12-01T18:41:28.435Z"
   },
   {
    "duration": 10,
    "start_time": "2022-12-01T18:41:28.446Z"
   },
   {
    "duration": 11,
    "start_time": "2022-12-01T18:41:28.458Z"
   },
   {
    "duration": 66,
    "start_time": "2022-12-01T18:41:28.471Z"
   },
   {
    "duration": 44,
    "start_time": "2022-12-01T18:41:28.539Z"
   },
   {
    "duration": 2055,
    "start_time": "2022-12-01T18:41:28.585Z"
   },
   {
    "duration": 2110,
    "start_time": "2022-12-01T18:41:30.641Z"
   },
   {
    "duration": 9,
    "start_time": "2022-12-01T18:41:32.753Z"
   },
   {
    "duration": 19,
    "start_time": "2022-12-01T18:41:32.764Z"
   },
   {
    "duration": 32,
    "start_time": "2022-12-01T18:41:32.784Z"
   },
   {
    "duration": 6,
    "start_time": "2022-12-01T18:41:32.817Z"
   },
   {
    "duration": 13,
    "start_time": "2022-12-01T18:41:32.827Z"
   },
   {
    "duration": 16,
    "start_time": "2022-12-01T18:41:32.841Z"
   },
   {
    "duration": 13,
    "start_time": "2022-12-01T18:41:32.858Z"
   },
   {
    "duration": 6,
    "start_time": "2022-12-01T18:41:32.872Z"
   },
   {
    "duration": 38,
    "start_time": "2022-12-01T18:41:32.879Z"
   },
   {
    "duration": 25,
    "start_time": "2022-12-01T18:41:32.919Z"
   },
   {
    "duration": 23,
    "start_time": "2022-12-01T18:41:32.946Z"
   },
   {
    "duration": 23,
    "start_time": "2022-12-01T18:41:32.970Z"
   },
   {
    "duration": 105,
    "start_time": "2022-12-01T18:41:33.015Z"
   },
   {
    "duration": 98,
    "start_time": "2022-12-01T18:41:33.121Z"
   },
   {
    "duration": 164,
    "start_time": "2022-12-01T18:41:33.220Z"
   },
   {
    "duration": 160,
    "start_time": "2022-12-01T18:41:33.385Z"
   },
   {
    "duration": 234,
    "start_time": "2022-12-01T18:41:33.547Z"
   },
   {
    "duration": 321,
    "start_time": "2022-12-01T18:41:33.783Z"
   },
   {
    "duration": 24,
    "start_time": "2022-12-01T18:41:34.107Z"
   },
   {
    "duration": 15,
    "start_time": "2022-12-01T18:41:34.133Z"
   },
   {
    "duration": 159,
    "start_time": "2022-12-01T18:41:34.150Z"
   },
   {
    "duration": 146,
    "start_time": "2022-12-01T18:41:34.311Z"
   },
   {
    "duration": 13,
    "start_time": "2022-12-01T18:41:34.459Z"
   },
   {
    "duration": 12,
    "start_time": "2022-12-01T18:41:34.473Z"
   },
   {
    "duration": 33,
    "start_time": "2022-12-01T18:41:34.487Z"
   },
   {
    "duration": 15,
    "start_time": "2022-12-01T18:41:34.522Z"
   },
   {
    "duration": 17,
    "start_time": "2022-12-01T18:41:34.539Z"
   },
   {
    "duration": 14,
    "start_time": "2022-12-01T18:41:34.558Z"
   },
   {
    "duration": 47,
    "start_time": "2022-12-01T18:41:34.575Z"
   },
   {
    "duration": 14,
    "start_time": "2022-12-01T18:41:34.624Z"
   },
   {
    "duration": 13,
    "start_time": "2022-12-01T18:41:34.639Z"
   },
   {
    "duration": 14,
    "start_time": "2022-12-01T18:41:34.653Z"
   },
   {
    "duration": 4,
    "start_time": "2022-12-01T18:41:34.669Z"
   },
   {
    "duration": 4,
    "start_time": "2022-12-01T18:41:34.674Z"
   },
   {
    "duration": 40,
    "start_time": "2022-12-01T18:41:34.680Z"
   },
   {
    "duration": 36,
    "start_time": "2022-12-01T18:41:34.721Z"
   },
   {
    "duration": 25,
    "start_time": "2022-12-01T18:41:34.759Z"
   },
   {
    "duration": 5,
    "start_time": "2022-12-01T18:41:34.786Z"
   },
   {
    "duration": 6,
    "start_time": "2022-12-01T18:41:34.815Z"
   },
   {
    "duration": 31,
    "start_time": "2022-12-01T18:41:34.822Z"
   },
   {
    "duration": 9,
    "start_time": "2022-12-01T18:41:34.854Z"
   },
   {
    "duration": 28,
    "start_time": "2022-12-01T18:41:34.864Z"
   },
   {
    "duration": 22,
    "start_time": "2022-12-01T18:41:34.893Z"
   },
   {
    "duration": 17,
    "start_time": "2022-12-01T18:41:34.917Z"
   },
   {
    "duration": 6,
    "start_time": "2022-12-01T18:41:34.935Z"
   },
   {
    "duration": 212,
    "start_time": "2022-12-01T18:41:34.942Z"
   },
   {
    "duration": 11,
    "start_time": "2022-12-01T18:41:35.156Z"
   },
   {
    "duration": 12,
    "start_time": "2022-12-01T18:41:35.169Z"
   },
   {
    "duration": 93,
    "start_time": "2022-12-01T18:41:35.183Z"
   },
   {
    "duration": 3,
    "start_time": "2022-12-01T18:41:35.277Z"
   },
   {
    "duration": 8,
    "start_time": "2022-12-01T18:41:35.282Z"
   }
  ],
  "kernelspec": {
   "display_name": "Python 3 (ipykernel)",
   "language": "python",
   "name": "python3"
  },
  "language_info": {
   "codemirror_mode": {
    "name": "ipython",
    "version": 3
   },
   "file_extension": ".py",
   "mimetype": "text/x-python",
   "name": "python",
   "nbconvert_exporter": "python",
   "pygments_lexer": "ipython3",
   "version": "3.9.13"
  },
  "toc": {
   "base_numbering": 1,
   "nav_menu": {},
   "number_sections": true,
   "sideBar": true,
   "skip_h1_title": true,
   "title_cell": "Table of Contents",
   "title_sidebar": "Contents",
   "toc_cell": false,
   "toc_position": {},
   "toc_section_display": true,
   "toc_window_display": false
  }
 },
 "nbformat": 4,
 "nbformat_minor": 2
}
